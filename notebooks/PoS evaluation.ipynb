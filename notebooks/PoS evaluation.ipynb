{
 "cells": [
  {
   "cell_type": "code",
   "execution_count": 1,
   "id": "cab81e71-ac65-4b89-90b8-c04ca30c73f1",
   "metadata": {},
   "outputs": [],
   "source": [
    "import pickle\n",
    "import pandas as pd"
   ]
  },
  {
   "cell_type": "code",
   "execution_count": 2,
   "id": "b6b2a92a-549f-4fa5-ae63-bb3be572b134",
   "metadata": {},
   "outputs": [],
   "source": [
    "with open(\"/home/eeisenst/workspace/compassionai/data-registry/processed_datasets/part-of-speech-intersyllabic-olive/train.pkl\", \"rb\") as f:\n",
    "    train_data = pickle.load(f)\n",
    "with open(\"/home/eeisenst/workspace/compassionai/data-registry/processed_datasets/part-of-speech-intersyllabic-olive/test.pkl\", \"rb\") as f:\n",
    "    test_data = pickle.load(f)"
   ]
  },
  {
   "cell_type": "code",
   "execution_count": 3,
   "id": "34025996-b11d-480c-82cc-f2d813bd7f9c",
   "metadata": {},
   "outputs": [
    {
     "data": {
      "text/plain": [
       "(28167, 3129)"
      ]
     },
     "execution_count": 3,
     "metadata": {},
     "output_type": "execute_result"
    }
   ],
   "source": [
    "len(train_data), len(test_data)"
   ]
  },
  {
   "cell_type": "code",
   "execution_count": 4,
   "id": "2c2b2109-7b29-4d71-adc1-56d90d31957a",
   "metadata": {},
   "outputs": [
    {
     "data": {
      "text/plain": [
       "20628"
      ]
     },
     "execution_count": 4,
     "metadata": {},
     "output_type": "execute_result"
    }
   ],
   "source": [
    "train_words = set([' '.join(map(str, word)) for words, _ in train_data for word in words])\n",
    "len(list(train_words))"
   ]
  },
  {
   "cell_type": "code",
   "execution_count": 5,
   "id": "1123bbc8-7d62-43ec-8641-075cfa8eb474",
   "metadata": {},
   "outputs": [
    {
     "data": {
      "text/plain": [
       "5703"
      ]
     },
     "execution_count": 5,
     "metadata": {},
     "output_type": "execute_result"
    }
   ],
   "source": [
    "test_words = set([' '.join(map(str, word)) for words, _ in test_data for word in words])\n",
    "len(list(test_words))"
   ]
  },
  {
   "cell_type": "code",
   "execution_count": 6,
   "id": "3eeec4ef-97e5-47fc-b1e7-cb94410c15ac",
   "metadata": {},
   "outputs": [
    {
     "data": {
      "text/plain": [
       "1261"
      ]
     },
     "execution_count": 6,
     "metadata": {},
     "output_type": "execute_result"
    }
   ],
   "source": [
    "len(list(test_words - train_words))"
   ]
  },
  {
   "cell_type": "code",
   "execution_count": 7,
   "id": "ba975f4b-d3e5-4ad1-be97-be7388053720",
   "metadata": {},
   "outputs": [],
   "source": [
    "test_word_lens = pd.Series([len(word) for word in test_words])"
   ]
  },
  {
   "cell_type": "code",
   "execution_count": 8,
   "id": "0c24dc05-071b-4327-ab64-785901735b7c",
   "metadata": {},
   "outputs": [
    {
     "data": {
      "text/plain": [
       "<AxesSubplot:>"
      ]
     },
     "execution_count": 8,
     "metadata": {},
     "output_type": "execute_result"
    },
    {
     "data": {
      "image/png": "[encoded data removed]",
      "text/plain": [
       "<Figure size 864x576 with 1 Axes>"
      ]
     },
     "metadata": {
      "needs_background": "light"
     },
     "output_type": "display_data"
    }
   ],
   "source": [
    "test_word_lens.value_counts().sort_index().plot(kind='bar', figsize=(12,8))"
   ]
  },
  {
   "cell_type": "markdown",
   "id": "c372fd51-f6bd-4eec-9f11-8e66542f839f",
   "metadata": {},
   "source": [
    "# Classification metrics on new words"
   ]
  },
  {
   "cell_type": "code",
   "execution_count": 9,
   "id": "4d1526db-a698-480b-b8bf-45240e36843f",
   "metadata": {},
   "outputs": [],
   "source": [
    "from tqdm.auto import tqdm"
   ]
  },
  {
   "cell_type": "code",
   "execution_count": 10,
   "id": "b84b3b01-1dfc-4eb8-aaa6-ece3355e5aa8",
   "metadata": {},
   "outputs": [],
   "source": [
    "from cai_manas.part_of_speech.pos_tagger import PartOfSpeechTagger"
   ]
  },
  {
   "cell_type": "code",
   "execution_count": 11,
   "id": "5ad219b1-0c4a-4d31-b73b-b0f1a48e3747",
   "metadata": {},
   "outputs": [],
   "source": [
    "tagger = PartOfSpeechTagger(\"part-of-speech-intersyllabic-olive-cormorant\")"
   ]
  },
  {
   "cell_type": "code",
   "execution_count": 12,
   "id": "c75741c6-6fd4-43c8-9d59-e95fc0492c3e",
   "metadata": {},
   "outputs": [
    {
     "data": {
      "text/plain": [
       "tensor([[1, 2, 3, 4]])"
      ]
     },
     "execution_count": 12,
     "metadata": {},
     "output_type": "execute_result"
    }
   ],
   "source": [
    "import torch\n",
    "\n",
    "torch.LongTensor([[1,2,3,4]])"
   ]
  },
  {
   "cell_type": "code",
   "execution_count": 13,
   "id": "71d66861-77f4-44cb-a4d8-ec1f47ef1ad1",
   "metadata": {},
   "outputs": [
    {
     "data": {
      "application/vnd.jupyter.widget-view+json": {
       "model_id": "4aa426e4d3f945dd8b4402a91ff3e889",
       "version_major": 2,
       "version_minor": 0
      },
      "text/plain": [
       "  0%|          | 0/3129 [00:00<?, ?it/s]"
      ]
     },
     "metadata": {},
     "output_type": "display_data"
    }
   ],
   "source": [
    "res_tokens, res_tags, res_labels = [], [], []\n",
    "for datum in tqdm(test_data):\n",
    "    # _, cur_tags = tagger.predict_tags(tagger.tokenizer.decode([token for word in datum[0] for token in word]))\n",
    "    cur_tags = tagger.predict_tokens([token for word in datum[0] for token in word])\n",
    "    cur_tags = [tagger.id_to_label_map[pred] for pred in cur_tags[1:-1]]\n",
    "    res_tokens.append(datum[0])\n",
    "    res_tags.append(cur_tags)\n",
    "    seq_labels = []\n",
    "    for word, word_label in zip(datum[0], datum[1]):\n",
    "        seq_labels.append(word_label)\n",
    "        for _ in range(len(word) - 1):\n",
    "            seq_labels.append('[MASK]')\n",
    "    res_labels.append(seq_labels)"
   ]
  },
  {
   "cell_type": "code",
   "execution_count": 33,
   "id": "fc44f670-d09a-463c-b315-6a728f3ff233",
   "metadata": {},
   "outputs": [
    {
     "data": {
      "text/plain": [
       "'1014 9450'"
      ]
     },
     "execution_count": 33,
     "metadata": {},
     "output_type": "execute_result"
    }
   ],
   "source": [
    "test_word = list(test_words - train_words)[4]\n",
    "test_word"
   ]
  },
  {
   "cell_type": "code",
   "execution_count": 89,
   "id": "07b60db0-fb9d-4e73-b8a9-8993736ac5cd",
   "metadata": {},
   "outputs": [
    {
     "data": {
      "application/vnd.jupyter.widget-view+json": {
       "model_id": "76d06a5b2fb04a8e84d8c998b1605658",
       "version_major": 2,
       "version_minor": 0
      },
      "text/plain": [
       "  0%|          | 0/1261 [00:00<?, ?it/s]"
      ]
     },
     "metadata": {},
     "output_type": "display_data"
    }
   ],
   "source": [
    "strange_tags, strange_labels = [], []\n",
    "# for test_word in tqdm(list(test_words.intersection(train_words))):\n",
    "for test_word in tqdm(list(test_words - train_words)):\n",
    "    test_tokens = list(map(int, test_word.split(' ')))\n",
    "    for example, tags, labels in zip(res_tokens, res_tags, res_labels):\n",
    "        example_str = [' '.join(map(str, word)) for word in example]\n",
    "        if test_word in example_str:\n",
    "            word_idx = example.index(test_tokens)\n",
    "            tag_idx = sum([len(word) for word in example[:word_idx]])\n",
    "            strange_tags.extend(tags[tag_idx:tag_idx+len(example[word_idx])])\n",
    "            strange_labels.extend(labels[tag_idx:tag_idx+len(example[word_idx])])\n",
    "            # test_word_tokens = list(map(int, test_word.split(' ')))\n",
    "            # print([tagger.tokenizer.decode(id_) for id_ in example], tags, labels)\n",
    "            # print(tagger.tokenizer.decode(test_word_tokens))\n",
    "            # positives.append(example)\n",
    "            # break"
   ]
  },
  {
   "cell_type": "code",
   "execution_count": 90,
   "id": "5729afa0-f6bb-45ec-b0c6-52f0cff343d8",
   "metadata": {},
   "outputs": [],
   "source": [
    "from sklearn.metrics import precision_recall_fscore_support"
   ]
  },
  {
   "cell_type": "code",
   "execution_count": 91,
   "id": "45cf7994-add7-4000-b374-b97cf69e60bc",
   "metadata": {},
   "outputs": [
    {
     "name": "stderr",
     "output_type": "stream",
     "text": [
      "/home/eeisenst/miniconda3/envs/cai-garland/lib/python3.10/site-packages/sklearn/metrics/_classification.py:1327: UndefinedMetricWarning: Precision and F-score are ill-defined and being set to 0.0 in labels with no predicted samples. Use `zero_division` parameter to control this behavior.\n",
      "  _warn_prf(average, modifier, msg_start, len(result))\n",
      "/home/eeisenst/miniconda3/envs/cai-garland/lib/python3.10/site-packages/sklearn/metrics/_classification.py:1327: UndefinedMetricWarning: Recall and F-score are ill-defined and being set to 0.0 in labels with no true samples. Use `zero_division` parameter to control this behavior.\n",
      "  _warn_prf(average, modifier, msg_start, len(result))\n"
     ]
    }
   ],
   "source": [
    "precision, recall, f1, support = precision_recall_fscore_support(strange_labels, strange_tags)"
   ]
  },
  {
   "cell_type": "code",
   "execution_count": 93,
   "id": "d75e702c-883c-4d56-86ea-72ce3ae5e376",
   "metadata": {},
   "outputs": [
    {
     "name": "stdout",
     "output_type": "stream",
     "text": [
      "ADJ 0.5420560747663552 59\n",
      "ADJ+ADP 0.5454545454545454 6\n",
      "ADJ+PART 0.3636363636363636 6\n",
      "ADP 0.0 0\n",
      "ADV 0.4 5\n",
      "ADV+ADP 0.5 2\n",
      "ADV+PART 0.0 0\n",
      "AUX 0.0 1\n",
      "CCONJ 0.0 1\n",
      "DET 0.8034321372854915 586\n",
      "DET+ADP 0.8178694158075601 138\n",
      "DET+PART 0.8658536585365854 83\n",
      "NOUN 0.0 0\n",
      "NOUN+ADP 0.0 0\n",
      "NOUN+PART 0.13333333333333333 3\n",
      "NUM 0.0 0\n",
      "NUM+ADP 0.6649350649350649 201\n",
      "NUM+PART 0.5753424657534246 44\n",
      "PART 0.5714285714285714 9\n",
      "PART+ADP 0.0 0\n",
      "PART+PART 0.7719298245614035 74\n",
      "PRON 0.0 7\n",
      "PRON+ADP 0.9411764705882353 8\n",
      "PROPN 0.948017259091843 2489\n",
      "PROPN+ADP 0.49056603773584906 60\n",
      "PROPN+PART 0.0 1\n",
      "PUNCT 0.0 3\n"
     ]
    }
   ],
   "source": [
    "for tag, tag_f1, support in zip([tagger.id_to_label_map.get(i, \"pad\") for i in range(len(f1))], f1, support):\n",
    "    print(tag, tag_f1, support)"
   ]
  },
  {
   "cell_type": "code",
   "execution_count": 71,
   "id": "82ae9b70-3084-4224-8323-fc2b1495060c",
   "metadata": {},
   "outputs": [
    {
     "data": {
      "text/plain": [
       "3786"
      ]
     },
     "execution_count": 71,
     "metadata": {},
     "output_type": "execute_result"
    }
   ],
   "source": [
    "len(strange_tags)"
   ]
  },
  {
   "cell_type": "code",
   "execution_count": 68,
   "id": "0eb6807f-d441-44b5-bf50-5b0fa2687852",
   "metadata": {},
   "outputs": [
    {
     "data": {
      "text/plain": [
       "([2994, 1416, 1490, 966],\n",
       " 34,\n",
       " ['[MASK]', '[MASK]', 'NOUN', '[MASK]'],\n",
       " ['NOUN', '[MASK]', '[MASK]', '[MASK]'])"
      ]
     },
     "execution_count": 68,
     "metadata": {},
     "output_type": "execute_result"
    }
   ],
   "source": [
    "word_idx = example.index(test_tokens)\n",
    "tag_idx = sum([len(word) for word in example[:word_idx]])\n",
    "test_tokens, tag_idx, tags[tag_idx:tag_idx+len(example[word_idx])], labels[tag_idx:tag_idx+len(example[word_idx])]"
   ]
  },
  {
   "cell_type": "code",
   "execution_count": 67,
   "id": "c01ba25f-f7d3-4dcc-85de-a664ee03b187",
   "metadata": {},
   "outputs": [
    {
     "name": "stdout",
     "output_type": "stream",
     "text": [
      "2017 DET+ADP DET+ADP\n",
      "729 NOUN NOUN\n",
      "81 NOUN NOUN\n",
      "19 [MASK] [MASK]\n",
      "2810 [MASK] [MASK]\n",
      "586 PROPN+ADP PROPN+ADP\n",
      "8561 [MASK] [MASK]\n",
      "474 [MASK] [MASK]\n",
      "466 [MASK] [MASK]\n",
      "1408 NOUN NOUN\n",
      "795 NOUN NOUN\n",
      "386 [MASK] [MASK]\n",
      "2394 [MASK] [MASK]\n",
      "16 [MASK] [MASK]\n",
      "586 PROPN PROPN\n",
      "415 [MASK] [MASK]\n",
      "922 [MASK] [MASK]\n",
      "156 NOUN NOUN\n",
      "9882 [MASK] [MASK]\n",
      "9876 [MASK] [MASK]\n",
      "348 [MASK] [MASK]\n",
      "99 PART PART\n",
      "3005 VERB VERB\n",
      "89 ADP ADP\n",
      "1556 NOUN NOUN\n",
      "2027 [MASK] [MASK]\n",
      "17 ADP ADP\n",
      "457 NOUN NOUN\n",
      "762 PART PART\n",
      "415 NOUN NOUN\n",
      "504 [MASK] [MASK]\n",
      "251 CCONJ CCONJ\n",
      "975 NOUN NOUN\n",
      "114 [MASK] [MASK]\n",
      "2994 [MASK] NOUN\n",
      "1416 [MASK] [MASK]\n",
      "1490 NOUN [MASK]\n",
      "966 [MASK] [MASK]\n",
      "251 CCONJ CCONJ\n",
      "847 VERB VERB\n",
      "9907 PART PART\n",
      "9885 [MASK] [MASK]\n",
      "9955 PUNCT PUNCT\n"
     ]
    }
   ],
   "source": [
    "for token, pred, label in zip([token for word in example for token in word], tags, labels):\n",
    "    print(token, pred, label)"
   ]
  },
  {
   "cell_type": "code",
   "execution_count": 17,
   "id": "b8f7f0bb-2b36-48a1-b695-0bd462ee648e",
   "metadata": {},
   "outputs": [
    {
     "data": {
      "text/plain": [
       "(9, 9, 9)"
      ]
     },
     "execution_count": 17,
     "metadata": {},
     "output_type": "execute_result"
    }
   ],
   "source": [
    "len([t for word in example for t in word]), len(tags), len(labels)"
   ]
  },
  {
   "cell_type": "code",
   "execution_count": 24,
   "id": "6a10a228-694d-4509-851d-8325c684e955",
   "metadata": {},
   "outputs": [
    {
     "data": {
      "text/plain": [
       "([[2017],\n",
       "  [729],\n",
       "  [81, 19, 2810],\n",
       "  [586, 8561, 474, 466],\n",
       "  [1408],\n",
       "  [795, 386, 2394, 16],\n",
       "  [586, 415, 922],\n",
       "  [156, 9882, 9876, 348],\n",
       "  [99],\n",
       "  [3005],\n",
       "  [89],\n",
       "  [1556, 2027],\n",
       "  [17],\n",
       "  [457],\n",
       "  [762],\n",
       "  [415, 504],\n",
       "  [251],\n",
       "  [975, 114],\n",
       "  [2994, 1416, 1490, 966],\n",
       "  [251],\n",
       "  [847],\n",
       "  [9907, 9885],\n",
       "  [9955]],\n",
       " ['DET+ADP',\n",
       "  'NOUN',\n",
       "  'NOUN',\n",
       "  '[MASK]',\n",
       "  '[MASK]',\n",
       "  'PROPN+ADP',\n",
       "  '[MASK]',\n",
       "  '[MASK]',\n",
       "  '[MASK]',\n",
       "  'NOUN',\n",
       "  'NOUN',\n",
       "  '[MASK]',\n",
       "  '[MASK]',\n",
       "  '[MASK]',\n",
       "  'PROPN',\n",
       "  '[MASK]',\n",
       "  '[MASK]',\n",
       "  'NOUN',\n",
       "  '[MASK]',\n",
       "  '[MASK]',\n",
       "  '[MASK]',\n",
       "  'PART',\n",
       "  'VERB',\n",
       "  'ADP',\n",
       "  'NOUN',\n",
       "  '[MASK]',\n",
       "  'ADP',\n",
       "  'NOUN',\n",
       "  'PART',\n",
       "  'NOUN',\n",
       "  '[MASK]',\n",
       "  'CCONJ',\n",
       "  'NOUN',\n",
       "  '[MASK]',\n",
       "  '[MASK]',\n",
       "  '[MASK]',\n",
       "  'NOUN',\n",
       "  '[MASK]',\n",
       "  'CCONJ',\n",
       "  'VERB',\n",
       "  'PART',\n",
       "  '[MASK]',\n",
       "  'PUNCT'],\n",
       " ['DET+ADP',\n",
       "  'NOUN',\n",
       "  'NOUN',\n",
       "  '[MASK]',\n",
       "  '[MASK]',\n",
       "  'PROPN+ADP',\n",
       "  '[MASK]',\n",
       "  '[MASK]',\n",
       "  '[MASK]',\n",
       "  'NOUN',\n",
       "  'NOUN',\n",
       "  '[MASK]',\n",
       "  '[MASK]',\n",
       "  '[MASK]',\n",
       "  'PROPN',\n",
       "  '[MASK]',\n",
       "  '[MASK]',\n",
       "  'NOUN',\n",
       "  '[MASK]',\n",
       "  '[MASK]',\n",
       "  '[MASK]',\n",
       "  'PART',\n",
       "  'VERB',\n",
       "  'ADP',\n",
       "  'NOUN',\n",
       "  '[MASK]',\n",
       "  'ADP',\n",
       "  'NOUN',\n",
       "  'PART',\n",
       "  'NOUN',\n",
       "  '[MASK]',\n",
       "  'CCONJ',\n",
       "  'NOUN',\n",
       "  '[MASK]',\n",
       "  'NOUN',\n",
       "  '[MASK]',\n",
       "  '[MASK]',\n",
       "  '[MASK]',\n",
       "  'CCONJ',\n",
       "  'VERB',\n",
       "  'PART',\n",
       "  '[MASK]',\n",
       "  'PUNCT'])"
      ]
     },
     "execution_count": 24,
     "metadata": {},
     "output_type": "execute_result"
    }
   ],
   "source": [
    "example, tags, labels"
   ]
  }
 ],
 "metadata": {
  "kernelspec": {
   "display_name": "Python 3 (ipykernel)",
   "language": "python",
   "name": "python3"
  },
  "language_info": {
   "codemirror_mode": {
    "name": "ipython",
    "version": 3
   },
   "file_extension": ".py",
   "mimetype": "text/x-python",
   "name": "python",
   "nbconvert_exporter": "python",
   "pygments_lexer": "ipython3",
   "version": "3.10.5"
  }
 },
 "nbformat": 4,
 "nbformat_minor": 5
}
