{
 "cells": [
  {
   "cell_type": "markdown",
   "id": "6912022d-a8dc-457c-8b18-7f7f09e3a46c",
   "metadata": {},
   "source": [
    "# Load: part-of-speech-olive"
   ]
  },
  {
   "cell_type": "code",
   "execution_count": 1,
   "id": "dd3222f3-bc35-424d-9a04-83878d2d6198",
   "metadata": {},
   "outputs": [],
   "source": [
    "import pickle\n",
    "import pandas as pd\n",
    "\n",
    "from tqdm.auto import tqdm"
   ]
  },
  {
   "cell_type": "code",
   "execution_count": 2,
   "id": "7cf914a4-6cbd-42f3-8850-eedbe83acf48",
   "metadata": {},
   "outputs": [],
   "source": [
    "model_name = \"part-of-speech-olive-cormorant\""
   ]
  },
  {
   "cell_type": "code",
   "execution_count": 3,
   "id": "cb3190b0-92a3-423e-a2cd-35392506afb9",
   "metadata": {},
   "outputs": [],
   "source": [
    "with open(\"/home/eeisenst/workspace/compassionai/data-registry/processed_datasets/part-of-speech-olive/train.pkl\", \"rb\") as f:\n",
    "    train_data = pickle.load(f)\n",
    "with open(\"/home/eeisenst/workspace/compassionai/data-registry/processed_datasets/part-of-speech-olive/test.pkl\", \"rb\") as f:\n",
    "    test_data = pickle.load(f)"
   ]
  },
  {
   "cell_type": "code",
   "execution_count": 4,
   "id": "638dac2e-96d9-4bf6-88f8-5e024c7a457c",
   "metadata": {},
   "outputs": [
    {
     "data": {
      "text/plain": [
       "(28234, 3075)"
      ]
     },
     "execution_count": 4,
     "metadata": {},
     "output_type": "execute_result"
    }
   ],
   "source": [
    "len(train_data), len(test_data)"
   ]
  },
  {
   "cell_type": "code",
   "execution_count": 5,
   "id": "326dbb0f-4ba9-4cac-b02f-a235db348987",
   "metadata": {},
   "outputs": [],
   "source": [
    "def _to_list_of_lists(data):\n",
    "    res = []\n",
    "    for example in tqdm(data):\n",
    "        cur_res = ([], [])\n",
    "        cur_word, cur_tag = [], set()\n",
    "        for token, tag in zip(*example):\n",
    "            if tag == '[MASK]':\n",
    "                continue\n",
    "            cur_word.append(token)\n",
    "            cur_tag = cur_tag.union(set(tag.split('+')))\n",
    "            if '[WORD_END]' in cur_tag:\n",
    "                cur_tag = sorted(filter(lambda x: not x == '[WORD_END]', list(cur_tag)))\n",
    "                cur_res[0].append(cur_word)\n",
    "                cur_res[1].append('+'.join(cur_tag))\n",
    "                cur_word, cur_tag = [], set()\n",
    "        res.append(cur_res)\n",
    "    return res"
   ]
  },
  {
   "cell_type": "code",
   "execution_count": 6,
   "id": "58e9dc5e-219f-4431-acfb-d95345333afd",
   "metadata": {},
   "outputs": [
    {
     "data": {
      "application/vnd.jupyter.widget-view+json": {
       "model_id": "ce1c8470f5d848aa8c08901cf4337ee8",
       "version_major": 2,
       "version_minor": 0
      },
      "text/plain": [
       "  0%|          | 0/28234 [00:00<?, ?it/s]"
      ]
     },
     "metadata": {},
     "output_type": "display_data"
    },
    {
     "data": {
      "application/vnd.jupyter.widget-view+json": {
       "model_id": "a5bd5f04aaa94b96a9e051177fc00573",
       "version_major": 2,
       "version_minor": 0
      },
      "text/plain": [
       "  0%|          | 0/3075 [00:00<?, ?it/s]"
      ]
     },
     "metadata": {},
     "output_type": "display_data"
    }
   ],
   "source": [
    "train_data = _to_list_of_lists(train_data)\n",
    "test_data = _to_list_of_lists(test_data)"
   ]
  },
  {
   "cell_type": "code",
   "execution_count": 7,
   "id": "11af8a66-4093-4bf3-abdd-3855c53dcd3d",
   "metadata": {},
   "outputs": [
    {
     "data": {
      "text/plain": [
       "22876"
      ]
     },
     "execution_count": 7,
     "metadata": {},
     "output_type": "execute_result"
    }
   ],
   "source": [
    "train_words = set([' '.join(map(str, word)) for words, _ in train_data for word in words])\n",
    "len(list(train_words))"
   ]
  },
  {
   "cell_type": "code",
   "execution_count": 8,
   "id": "578ddd1a-44f6-4fa9-9dda-769e000fb62d",
   "metadata": {},
   "outputs": [
    {
     "data": {
      "text/plain": [
       "6008"
      ]
     },
     "execution_count": 8,
     "metadata": {},
     "output_type": "execute_result"
    }
   ],
   "source": [
    "test_words = set([' '.join(map(str, word)) for words, _ in test_data for word in words])\n",
    "len(list(test_words))"
   ]
  },
  {
   "cell_type": "code",
   "execution_count": 9,
   "id": "6afd0300-665e-4e56-b3d8-31c7b02fa7df",
   "metadata": {},
   "outputs": [
    {
     "data": {
      "text/plain": [
       "1383"
      ]
     },
     "execution_count": 9,
     "metadata": {},
     "output_type": "execute_result"
    }
   ],
   "source": [
    "len(list(test_words - train_words))"
   ]
  },
  {
   "cell_type": "code",
   "execution_count": 10,
   "id": "f4eb083f-c8a9-4e87-801b-5e56afe81b23",
   "metadata": {},
   "outputs": [],
   "source": [
    "test_word_lens = pd.Series([len(word) for word in test_words])"
   ]
  },
  {
   "cell_type": "code",
   "execution_count": 11,
   "id": "e32f5429-91c1-49f7-a4cd-cfb65142abaf",
   "metadata": {},
   "outputs": [
    {
     "data": {
      "text/plain": [
       "<AxesSubplot:>"
      ]
     },
     "execution_count": 11,
     "metadata": {},
     "output_type": "execute_result"
    },
    {
     "data": {
      "image/png": "[encoded data removed]",
      "text/plain": [
       "<Figure size 864x576 with 1 Axes>"
      ]
     },
     "metadata": {
      "needs_background": "light"
     },
     "output_type": "display_data"
    }
   ],
   "source": [
    "test_word_lens.value_counts().sort_index().plot(kind='bar', figsize=(12,8))"
   ]
  },
  {
   "cell_type": "markdown",
   "id": "3d6df31f-0505-4695-ac1a-b59a5504d94d",
   "metadata": {},
   "source": [
    "# Load: part-of-speech-intersyllabic-olive"
   ]
  },
  {
   "cell_type": "code",
   "execution_count": 1,
   "id": "cab81e71-ac65-4b89-90b8-c04ca30c73f1",
   "metadata": {},
   "outputs": [],
   "source": [
    "import pickle\n",
    "import pandas as pd"
   ]
  },
  {
   "cell_type": "code",
   "execution_count": 14,
   "id": "98ab0e13-c9ce-483e-a7e5-c0facd264306",
   "metadata": {},
   "outputs": [],
   "source": [
    "model_name = \"part-of-speech-intersyllabic-olive-cormorant\""
   ]
  },
  {
   "cell_type": "code",
   "execution_count": 3,
   "id": "b6b2a92a-549f-4fa5-ae63-bb3be572b134",
   "metadata": {},
   "outputs": [],
   "source": [
    "with open(\"/home/eeisenst/workspace/compassionai/data-registry/processed_datasets/part-of-speech-intersyllabic-olive/train.pkl\", \"rb\") as f:\n",
    "    train_data = pickle.load(f)\n",
    "with open(\"/home/eeisenst/workspace/compassionai/data-registry/processed_datasets/part-of-speech-intersyllabic-olive/test.pkl\", \"rb\") as f:\n",
    "    test_data = pickle.load(f)"
   ]
  },
  {
   "cell_type": "code",
   "execution_count": 4,
   "id": "14604298-af60-4744-8da5-48f3e1a63ec4",
   "metadata": {},
   "outputs": [
    {
     "data": {
      "text/plain": [
       "([[3397, 213, 1276],\n",
       "  [9901, 9927, 2981, 1296, 458],\n",
       "  [17],\n",
       "  [1007],\n",
       "  [2171],\n",
       "  [9888, 9877],\n",
       "  [9955]],\n",
       " ['NOUN', 'PROPN', 'ADP', 'NOUN', 'VERB', 'PART', 'PUNCT'])"
      ]
     },
     "execution_count": 4,
     "metadata": {},
     "output_type": "execute_result"
    }
   ],
   "source": [
    "train_data[0]"
   ]
  },
  {
   "cell_type": "code",
   "execution_count": 5,
   "id": "34025996-b11d-480c-82cc-f2d813bd7f9c",
   "metadata": {},
   "outputs": [
    {
     "data": {
      "text/plain": [
       "(28167, 3129)"
      ]
     },
     "execution_count": 5,
     "metadata": {},
     "output_type": "execute_result"
    }
   ],
   "source": [
    "len(train_data), len(test_data)"
   ]
  },
  {
   "cell_type": "code",
   "execution_count": 6,
   "id": "2c2b2109-7b29-4d71-adc1-56d90d31957a",
   "metadata": {},
   "outputs": [
    {
     "data": {
      "text/plain": [
       "20628"
      ]
     },
     "execution_count": 6,
     "metadata": {},
     "output_type": "execute_result"
    }
   ],
   "source": [
    "train_words = set([' '.join(map(str, word)) for words, _ in train_data for word in words])\n",
    "len(list(train_words))"
   ]
  },
  {
   "cell_type": "code",
   "execution_count": 7,
   "id": "1123bbc8-7d62-43ec-8641-075cfa8eb474",
   "metadata": {},
   "outputs": [
    {
     "data": {
      "text/plain": [
       "5703"
      ]
     },
     "execution_count": 7,
     "metadata": {},
     "output_type": "execute_result"
    }
   ],
   "source": [
    "test_words = set([' '.join(map(str, word)) for words, _ in test_data for word in words])\n",
    "len(list(test_words))"
   ]
  },
  {
   "cell_type": "code",
   "execution_count": 8,
   "id": "3eeec4ef-97e5-47fc-b1e7-cb94410c15ac",
   "metadata": {},
   "outputs": [
    {
     "data": {
      "text/plain": [
       "1261"
      ]
     },
     "execution_count": 8,
     "metadata": {},
     "output_type": "execute_result"
    }
   ],
   "source": [
    "len(list(test_words - train_words))"
   ]
  },
  {
   "cell_type": "code",
   "execution_count": 9,
   "id": "ba975f4b-d3e5-4ad1-be97-be7388053720",
   "metadata": {},
   "outputs": [],
   "source": [
    "test_word_lens = pd.Series([len(word) for word in test_words])"
   ]
  },
  {
   "cell_type": "code",
   "execution_count": 10,
   "id": "0c24dc05-071b-4327-ab64-785901735b7c",
   "metadata": {},
   "outputs": [
    {
     "data": {
      "text/plain": [
       "<AxesSubplot:>"
      ]
     },
     "execution_count": 10,
     "metadata": {},
     "output_type": "execute_result"
    },
    {
     "data": {
      "image/png": "[encoded data removed]",
      "text/plain": [
       "<Figure size 864x576 with 1 Axes>"
      ]
     },
     "metadata": {
      "needs_background": "light"
     },
     "output_type": "display_data"
    }
   ],
   "source": [
    "test_word_lens.value_counts().sort_index().plot(kind='bar', figsize=(12,8))"
   ]
  },
  {
   "cell_type": "markdown",
   "id": "c372fd51-f6bd-4eec-9f11-8e66542f839f",
   "metadata": {},
   "source": [
    "# Classification metrics on new words"
   ]
  },
  {
   "cell_type": "code",
   "execution_count": 11,
   "id": "4d1526db-a698-480b-b8bf-45240e36843f",
   "metadata": {},
   "outputs": [],
   "source": [
    "from tqdm.auto import tqdm"
   ]
  },
  {
   "cell_type": "code",
   "execution_count": 12,
   "id": "b84b3b01-1dfc-4eb8-aaa6-ece3355e5aa8",
   "metadata": {},
   "outputs": [],
   "source": [
    "from cai_manas.part_of_speech.pos_tagger import PartOfSpeechTagger"
   ]
  },
  {
   "cell_type": "code",
   "execution_count": 15,
   "id": "5ad219b1-0c4a-4d31-b73b-b0f1a48e3747",
   "metadata": {},
   "outputs": [],
   "source": [
    "tagger = PartOfSpeechTagger(model_name)"
   ]
  },
  {
   "cell_type": "code",
   "execution_count": 16,
   "id": "71d66861-77f4-44cb-a4d8-ec1f47ef1ad1",
   "metadata": {},
   "outputs": [
    {
     "data": {
      "application/vnd.jupyter.widget-view+json": {
       "model_id": "28800019c64f40a08722350c60448e24",
       "version_major": 2,
       "version_minor": 0
      },
      "text/plain": [
       "  0%|          | 0/3129 [00:00<?, ?it/s]"
      ]
     },
     "metadata": {},
     "output_type": "display_data"
    }
   ],
   "source": [
    "res_tokens, res_tags, res_labels = [], [], []\n",
    "for datum in tqdm(test_data):\n",
    "    # _, cur_tags = tagger.predict_tags(tagger.tokenizer.decode([token for word in datum[0] for token in word]))\n",
    "    if len(datum[0]) == 0:\n",
    "        continue\n",
    "    try:\n",
    "        cur_tags = tagger.predict_tokens([token for word in datum[0] for token in word])\n",
    "    except:\n",
    "        print(datum)\n",
    "        raise Exception()\n",
    "    cur_tags = [tagger.id_to_label_map[pred] for pred in cur_tags[1:-1]]\n",
    "    res_tokens.append(datum[0])\n",
    "    res_tags.append(cur_tags)\n",
    "    seq_labels = []\n",
    "    for word, word_label in zip(datum[0], datum[1]):\n",
    "        seq_labels.append(word_label)\n",
    "        for _ in range(len(word) - 1):\n",
    "            seq_labels.append('[MASK]')\n",
    "    res_labels.append(seq_labels)"
   ]
  },
  {
   "cell_type": "code",
   "execution_count": 25,
   "id": "07b60db0-fb9d-4e73-b8a9-8993736ac5cd",
   "metadata": {},
   "outputs": [
    {
     "data": {
      "application/vnd.jupyter.widget-view+json": {
       "model_id": "3b7c3e42988d402ba6403d07c3c58f32",
       "version_major": 2,
       "version_minor": 0
      },
      "text/plain": [
       "  0%|          | 0/1261 [00:00<?, ?it/s]"
      ]
     },
     "metadata": {},
     "output_type": "display_data"
    }
   ],
   "source": [
    "strange_tags, strange_labels = [], []\n",
    "# for test_word in tqdm(list(test_words.intersection(train_words))):\n",
    "for test_word in tqdm(list(test_words - train_words)):\n",
    "    test_tokens = list(map(int, test_word.split(' ')))\n",
    "    for example, tags, labels in zip(res_tokens, res_tags, res_labels):\n",
    "        example_str = [' '.join(map(str, word)) for word in example]\n",
    "        if test_word in example_str:\n",
    "            word_idx = example.index(test_tokens)\n",
    "            tag_idx = sum([len(word) for word in example[:word_idx]])\n",
    "            strange_tags.extend(tags[tag_idx:tag_idx+len(example[word_idx])])\n",
    "            strange_labels.extend(labels[tag_idx:tag_idx+len(example[word_idx])])"
   ]
  },
  {
   "cell_type": "code",
   "execution_count": 27,
   "id": "18948ae3-708c-4cce-a41a-766837cddead",
   "metadata": {},
   "outputs": [],
   "source": [
    "label2id = {\n",
    "    label.upper(): id_\n",
    "    for id_, label in tagger.id_to_label_map.items()\n",
    "}\n",
    "strange_tags = [label2id[t.upper()] for t in strange_tags]\n",
    "strange_labels = [label2id.get(l.upper(), label2id['UNK']) for l in strange_labels]"
   ]
  },
  {
   "cell_type": "code",
   "execution_count": 28,
   "id": "5729afa0-f6bb-45ec-b0c6-52f0cff343d8",
   "metadata": {},
   "outputs": [],
   "source": [
    "from sklearn.metrics import precision_recall_fscore_support"
   ]
  },
  {
   "cell_type": "code",
   "execution_count": 29,
   "id": "45cf7994-add7-4000-b374-b97cf69e60bc",
   "metadata": {},
   "outputs": [
    {
     "name": "stderr",
     "output_type": "stream",
     "text": [
      "/home/eeisenst/miniconda3/envs/cai-garland/lib/python3.10/site-packages/sklearn/metrics/_classification.py:1327: UndefinedMetricWarning: Precision and F-score are ill-defined and being set to 0.0 in labels with no predicted samples. Use `zero_division` parameter to control this behavior.\n",
      "  _warn_prf(average, modifier, msg_start, len(result))\n",
      "/home/eeisenst/miniconda3/envs/cai-garland/lib/python3.10/site-packages/sklearn/metrics/_classification.py:1327: UndefinedMetricWarning: Recall and F-score are ill-defined and being set to 0.0 in labels with no true samples. Use `zero_division` parameter to control this behavior.\n",
      "  _warn_prf(average, modifier, msg_start, len(result))\n"
     ]
    }
   ],
   "source": [
    "precision, recall, f1, support = precision_recall_fscore_support(strange_labels, strange_tags)"
   ]
  },
  {
   "cell_type": "code",
   "execution_count": 30,
   "id": "d75e702c-883c-4d56-86ea-72ce3ae5e376",
   "metadata": {},
   "outputs": [
    {
     "data": {
      "text/html": [
       "<div>\n",
       "<style scoped>\n",
       "    .dataframe tbody tr th:only-of-type {\n",
       "        vertical-align: middle;\n",
       "    }\n",
       "\n",
       "    .dataframe tbody tr th {\n",
       "        vertical-align: top;\n",
       "    }\n",
       "\n",
       "    .dataframe thead th {\n",
       "        text-align: right;\n",
       "    }\n",
       "</style>\n",
       "<table border=\"1\" class=\"dataframe\">\n",
       "  <thead>\n",
       "    <tr style=\"text-align: right;\">\n",
       "      <th></th>\n",
       "      <th>Precision</th>\n",
       "      <th>Recall</th>\n",
       "      <th>F1</th>\n",
       "      <th>Support</th>\n",
       "    </tr>\n",
       "    <tr>\n",
       "      <th>tag</th>\n",
       "      <th></th>\n",
       "      <th></th>\n",
       "      <th></th>\n",
       "      <th></th>\n",
       "    </tr>\n",
       "  </thead>\n",
       "  <tbody>\n",
       "    <tr>\n",
       "      <th>PUNCT</th>\n",
       "      <td>0.970143</td>\n",
       "      <td>0.926878</td>\n",
       "      <td>0.948017</td>\n",
       "      <td>2489</td>\n",
       "    </tr>\n",
       "    <tr>\n",
       "      <th>DET</th>\n",
       "      <td>0.739943</td>\n",
       "      <td>0.878840</td>\n",
       "      <td>0.803432</td>\n",
       "      <td>586</td>\n",
       "    </tr>\n",
       "    <tr>\n",
       "      <th>NUM+ADP</th>\n",
       "      <td>0.695652</td>\n",
       "      <td>0.636816</td>\n",
       "      <td>0.664935</td>\n",
       "      <td>201</td>\n",
       "    </tr>\n",
       "    <tr>\n",
       "      <th>DET+ADP</th>\n",
       "      <td>0.777778</td>\n",
       "      <td>0.862319</td>\n",
       "      <td>0.817869</td>\n",
       "      <td>138</td>\n",
       "    </tr>\n",
       "    <tr>\n",
       "      <th>DET+PART</th>\n",
       "      <td>0.876543</td>\n",
       "      <td>0.855422</td>\n",
       "      <td>0.865854</td>\n",
       "      <td>83</td>\n",
       "    </tr>\n",
       "    <tr>\n",
       "      <th>PART+PART</th>\n",
       "      <td>0.680412</td>\n",
       "      <td>0.891892</td>\n",
       "      <td>0.771930</td>\n",
       "      <td>74</td>\n",
       "    </tr>\n",
       "    <tr>\n",
       "      <th>PROPN</th>\n",
       "      <td>0.565217</td>\n",
       "      <td>0.433333</td>\n",
       "      <td>0.490566</td>\n",
       "      <td>60</td>\n",
       "    </tr>\n",
       "    <tr>\n",
       "      <th>ADJ</th>\n",
       "      <td>0.604167</td>\n",
       "      <td>0.491525</td>\n",
       "      <td>0.542056</td>\n",
       "      <td>59</td>\n",
       "    </tr>\n",
       "    <tr>\n",
       "      <th>NUM+PART</th>\n",
       "      <td>0.724138</td>\n",
       "      <td>0.477273</td>\n",
       "      <td>0.575342</td>\n",
       "      <td>44</td>\n",
       "    </tr>\n",
       "    <tr>\n",
       "      <th>PART</th>\n",
       "      <td>0.800000</td>\n",
       "      <td>0.444444</td>\n",
       "      <td>0.571429</td>\n",
       "      <td>9</td>\n",
       "    </tr>\n",
       "    <tr>\n",
       "      <th>PRON+ADP</th>\n",
       "      <td>0.888889</td>\n",
       "      <td>1.000000</td>\n",
       "      <td>0.941176</td>\n",
       "      <td>8</td>\n",
       "    </tr>\n",
       "    <tr>\n",
       "      <th>PRON</th>\n",
       "      <td>0.000000</td>\n",
       "      <td>0.000000</td>\n",
       "      <td>0.000000</td>\n",
       "      <td>7</td>\n",
       "    </tr>\n",
       "    <tr>\n",
       "      <th>ADJ+ADP</th>\n",
       "      <td>0.600000</td>\n",
       "      <td>0.500000</td>\n",
       "      <td>0.545455</td>\n",
       "      <td>6</td>\n",
       "    </tr>\n",
       "    <tr>\n",
       "      <th>ADJ+PART</th>\n",
       "      <td>0.400000</td>\n",
       "      <td>0.333333</td>\n",
       "      <td>0.363636</td>\n",
       "      <td>6</td>\n",
       "    </tr>\n",
       "    <tr>\n",
       "      <th>ADV</th>\n",
       "      <td>0.300000</td>\n",
       "      <td>0.600000</td>\n",
       "      <td>0.400000</td>\n",
       "      <td>5</td>\n",
       "    </tr>\n",
       "    <tr>\n",
       "      <th>PROPN+PART</th>\n",
       "      <td>0.000000</td>\n",
       "      <td>0.000000</td>\n",
       "      <td>0.000000</td>\n",
       "      <td>3</td>\n",
       "    </tr>\n",
       "    <tr>\n",
       "      <th>NOUN+PART</th>\n",
       "      <td>0.083333</td>\n",
       "      <td>0.333333</td>\n",
       "      <td>0.133333</td>\n",
       "      <td>3</td>\n",
       "    </tr>\n",
       "    <tr>\n",
       "      <th>ADV+ADP</th>\n",
       "      <td>0.500000</td>\n",
       "      <td>0.500000</td>\n",
       "      <td>0.500000</td>\n",
       "      <td>2</td>\n",
       "    </tr>\n",
       "    <tr>\n",
       "      <th>PROPN+ADP</th>\n",
       "      <td>0.000000</td>\n",
       "      <td>0.000000</td>\n",
       "      <td>0.000000</td>\n",
       "      <td>1</td>\n",
       "    </tr>\n",
       "    <tr>\n",
       "      <th>CCONJ</th>\n",
       "      <td>0.000000</td>\n",
       "      <td>0.000000</td>\n",
       "      <td>0.000000</td>\n",
       "      <td>1</td>\n",
       "    </tr>\n",
       "    <tr>\n",
       "      <th>AUX</th>\n",
       "      <td>0.000000</td>\n",
       "      <td>0.000000</td>\n",
       "      <td>0.000000</td>\n",
       "      <td>1</td>\n",
       "    </tr>\n",
       "    <tr>\n",
       "      <th>ADP</th>\n",
       "      <td>0.000000</td>\n",
       "      <td>0.000000</td>\n",
       "      <td>0.000000</td>\n",
       "      <td>0</td>\n",
       "    </tr>\n",
       "    <tr>\n",
       "      <th>PART+ADP</th>\n",
       "      <td>0.000000</td>\n",
       "      <td>0.000000</td>\n",
       "      <td>0.000000</td>\n",
       "      <td>0</td>\n",
       "    </tr>\n",
       "    <tr>\n",
       "      <th>NUM</th>\n",
       "      <td>0.000000</td>\n",
       "      <td>0.000000</td>\n",
       "      <td>0.000000</td>\n",
       "      <td>0</td>\n",
       "    </tr>\n",
       "    <tr>\n",
       "      <th>NOUN</th>\n",
       "      <td>0.000000</td>\n",
       "      <td>0.000000</td>\n",
       "      <td>0.000000</td>\n",
       "      <td>0</td>\n",
       "    </tr>\n",
       "    <tr>\n",
       "      <th>ADV+PART</th>\n",
       "      <td>0.000000</td>\n",
       "      <td>0.000000</td>\n",
       "      <td>0.000000</td>\n",
       "      <td>0</td>\n",
       "    </tr>\n",
       "    <tr>\n",
       "      <th>NOUN+ADP</th>\n",
       "      <td>0.000000</td>\n",
       "      <td>0.000000</td>\n",
       "      <td>0.000000</td>\n",
       "      <td>0</td>\n",
       "    </tr>\n",
       "  </tbody>\n",
       "</table>\n",
       "</div>"
      ],
      "text/plain": [
       "            Precision    Recall        F1  Support\n",
       "tag                                               \n",
       "PUNCT        0.970143  0.926878  0.948017     2489\n",
       "DET          0.739943  0.878840  0.803432      586\n",
       "NUM+ADP      0.695652  0.636816  0.664935      201\n",
       "DET+ADP      0.777778  0.862319  0.817869      138\n",
       "DET+PART     0.876543  0.855422  0.865854       83\n",
       "PART+PART    0.680412  0.891892  0.771930       74\n",
       "PROPN        0.565217  0.433333  0.490566       60\n",
       "ADJ          0.604167  0.491525  0.542056       59\n",
       "NUM+PART     0.724138  0.477273  0.575342       44\n",
       "PART         0.800000  0.444444  0.571429        9\n",
       "PRON+ADP     0.888889  1.000000  0.941176        8\n",
       "PRON         0.000000  0.000000  0.000000        7\n",
       "ADJ+ADP      0.600000  0.500000  0.545455        6\n",
       "ADJ+PART     0.400000  0.333333  0.363636        6\n",
       "ADV          0.300000  0.600000  0.400000        5\n",
       "PROPN+PART   0.000000  0.000000  0.000000        3\n",
       "NOUN+PART    0.083333  0.333333  0.133333        3\n",
       "ADV+ADP      0.500000  0.500000  0.500000        2\n",
       "PROPN+ADP    0.000000  0.000000  0.000000        1\n",
       "CCONJ        0.000000  0.000000  0.000000        1\n",
       "AUX          0.000000  0.000000  0.000000        1\n",
       "ADP          0.000000  0.000000  0.000000        0\n",
       "PART+ADP     0.000000  0.000000  0.000000        0\n",
       "NUM          0.000000  0.000000  0.000000        0\n",
       "NOUN         0.000000  0.000000  0.000000        0\n",
       "ADV+PART     0.000000  0.000000  0.000000        0\n",
       "NOUN+ADP     0.000000  0.000000  0.000000        0"
      ]
     },
     "execution_count": 30,
     "metadata": {},
     "output_type": "execute_result"
    }
   ],
   "source": [
    "res_df = {\n",
    "    \"tag\": [],\n",
    "    \"Precision\": [],\n",
    "    \"Recall\": [],\n",
    "    \"F1\": [],\n",
    "    \"Support\": []\n",
    "}\n",
    "for tag, tag_precision, tag_recall, tag_f1, tag_support in zip(\n",
    "    [tagger.id_to_label_map[i] for i in range(len(f1))], precision, recall, f1, support\n",
    "):\n",
    "    res_df[\"tag\"].append(tag)\n",
    "    res_df[\"Precision\"].append(tag_precision)\n",
    "    res_df[\"Recall\"].append(tag_recall)\n",
    "    res_df[\"F1\"].append(tag_f1)\n",
    "    res_df[\"Support\"].append(tag_support)\n",
    "res_df = pd.DataFrame(res_df).set_index('tag').sort_values(\"Support\", ascending=False)\n",
    "res_df"
   ]
  }
 ],
 "metadata": {
  "kernelspec": {
   "display_name": "Python 3 (ipykernel)",
   "language": "python",
   "name": "python3"
  },
  "language_info": {
   "codemirror_mode": {
    "name": "ipython",
    "version": 3
   },
   "file_extension": ".py",
   "mimetype": "text/x-python",
   "name": "python",
   "nbconvert_exporter": "python",
   "pygments_lexer": "ipython3",
   "version": "3.10.5"
  }
 },
 "nbformat": 4,
 "nbformat_minor": 5
}
