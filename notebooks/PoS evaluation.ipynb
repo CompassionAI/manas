{
 "cells": [
  {
   "cell_type": "markdown",
   "id": "6912022d-a8dc-457c-8b18-7f7f09e3a46c",
   "metadata": {},
   "source": [
    "# Load: part-of-speech-olive-cormorant"
   ]
  },
  {
   "cell_type": "code",
   "execution_count": null,
   "id": "dd3222f3-bc35-424d-9a04-83878d2d6198",
   "metadata": {},
   "outputs": [],
   "source": [
    "import pickle\n",
    "import pandas as pd\n",
    "\n",
    "from tqdm.auto import tqdm"
   ]
  },
  {
   "cell_type": "code",
   "execution_count": null,
   "id": "7cf914a4-6cbd-42f3-8850-eedbe83acf48",
   "metadata": {},
   "outputs": [],
   "source": [
    "model_name = \"part-of-speech-olive-cormorant\""
   ]
  },
  {
   "cell_type": "code",
   "execution_count": null,
   "id": "cb3190b0-92a3-423e-a2cd-35392506afb9",
   "metadata": {},
   "outputs": [],
   "source": [
    "with open(\"/home/eeisenst/workspace/compassionai/data-registry/processed_datasets/part-of-speech-olive/train.pkl\", \"rb\") as f:\n",
    "    train_data = pickle.load(f)\n",
    "with open(\"/home/eeisenst/workspace/compassionai/data-registry/processed_datasets/part-of-speech-olive/test.pkl\", \"rb\") as f:\n",
    "    test_data = pickle.load(f)"
   ]
  },
  {
   "cell_type": "code",
   "execution_count": null,
   "id": "638dac2e-96d9-4bf6-88f8-5e024c7a457c",
   "metadata": {},
   "outputs": [],
   "source": [
    "len(train_data), len(test_data)"
   ]
  },
  {
   "cell_type": "code",
   "execution_count": null,
   "id": "326dbb0f-4ba9-4cac-b02f-a235db348987",
   "metadata": {},
   "outputs": [],
   "source": [
    "def _to_list_of_lists(data):\n",
    "    res = []\n",
    "    for example in tqdm(data):\n",
    "        cur_res = ([], [])\n",
    "        cur_word, cur_tag = [], set()\n",
    "        for token, tag in zip(*example):\n",
    "            if tag == '[MASK]':\n",
    "                continue\n",
    "            cur_word.append(token)\n",
    "            cur_tag = cur_tag.union(set(tag.split('+')))\n",
    "            if '[WORD_END]' in cur_tag:\n",
    "                cur_tag = sorted(filter(lambda x: not x == '[WORD_END]', list(cur_tag)))\n",
    "                cur_res[0].append(cur_word)\n",
    "                cur_res[1].append('+'.join(cur_tag))\n",
    "                cur_word, cur_tag = [], set()\n",
    "        res.append(cur_res)\n",
    "    return res"
   ]
  },
  {
   "cell_type": "code",
   "execution_count": null,
   "id": "58e9dc5e-219f-4431-acfb-d95345333afd",
   "metadata": {},
   "outputs": [],
   "source": [
    "train_data = _to_list_of_lists(train_data)\n",
    "test_data = _to_list_of_lists(test_data)"
   ]
  },
  {
   "cell_type": "code",
   "execution_count": null,
   "id": "11af8a66-4093-4bf3-abdd-3855c53dcd3d",
   "metadata": {},
   "outputs": [],
   "source": [
    "train_words = set([' '.join(map(str, word)) for words, _ in train_data for word in words])\n",
    "len(list(train_words))"
   ]
  },
  {
   "cell_type": "code",
   "execution_count": null,
   "id": "578ddd1a-44f6-4fa9-9dda-769e000fb62d",
   "metadata": {},
   "outputs": [],
   "source": [
    "test_words = set([' '.join(map(str, word)) for words, _ in test_data for word in words])\n",
    "len(list(test_words))"
   ]
  },
  {
   "cell_type": "code",
   "execution_count": null,
   "id": "6afd0300-665e-4e56-b3d8-31c7b02fa7df",
   "metadata": {},
   "outputs": [],
   "source": [
    "len(list(test_words - train_words))"
   ]
  },
  {
   "cell_type": "code",
   "execution_count": null,
   "id": "f4eb083f-c8a9-4e87-801b-5e56afe81b23",
   "metadata": {},
   "outputs": [],
   "source": [
    "test_word_lens = pd.Series([len(word) for word in test_words])"
   ]
  },
  {
   "cell_type": "code",
   "execution_count": null,
   "id": "e32f5429-91c1-49f7-a4cd-cfb65142abaf",
   "metadata": {},
   "outputs": [],
   "source": [
    "test_word_lens.value_counts().sort_index().plot(kind='bar', figsize=(12,8))"
   ]
  },
  {
   "cell_type": "markdown",
   "id": "3d6df31f-0505-4695-ac1a-b59a5504d94d",
   "metadata": {},
   "source": [
    "# Load: part-of-speech-intersyllabic-olive-cormorant"
   ]
  },
  {
   "cell_type": "code",
   "execution_count": 1,
   "id": "cab81e71-ac65-4b89-90b8-c04ca30c73f1",
   "metadata": {},
   "outputs": [],
   "source": [
    "import pickle\n",
    "import pandas as pd"
   ]
  },
  {
   "cell_type": "code",
   "execution_count": 2,
   "id": "98ab0e13-c9ce-483e-a7e5-c0facd264306",
   "metadata": {},
   "outputs": [],
   "source": [
    "model_name = \"part-of-speech-intersyllabic-olive-cormorant\""
   ]
  },
  {
   "cell_type": "code",
   "execution_count": 4,
   "id": "b6b2a92a-549f-4fa5-ae63-bb3be572b134",
   "metadata": {},
   "outputs": [],
   "source": [
    "with open(\"/home/eeisenst/workspace/compassionai/data-registry/processed_datasets/part-of-speech-intersyllabic-olive/train.pkl\", \"rb\") as f:\n",
    "    train_data = pickle.load(f)\n",
    "with open(\"/home/eeisenst/workspace/compassionai/data-registry/processed_datasets/part-of-speech-intersyllabic-olive/test.pkl\", \"rb\") as f:\n",
    "    test_data = pickle.load(f)"
   ]
  },
  {
   "cell_type": "code",
   "execution_count": 5,
   "id": "00c969a4-faee-4393-884a-eaf79d97147d",
   "metadata": {},
   "outputs": [
    {
     "data": {
      "text/plain": [
       "(248509, 27717)"
      ]
     },
     "execution_count": 5,
     "metadata": {},
     "output_type": "execute_result"
    }
   ],
   "source": [
    "len([t for w, _ in train_data for t in w]), len([t for w, _ in test_data for t in w])"
   ]
  },
  {
   "cell_type": "code",
   "execution_count": 6,
   "id": "14604298-af60-4744-8da5-48f3e1a63ec4",
   "metadata": {},
   "outputs": [
    {
     "data": {
      "text/plain": [
       "([[558, 246],\n",
       "  [2394, 88],\n",
       "  [912, 137],\n",
       "  [471, 57, 289],\n",
       "  [117],\n",
       "  [583, 212, 1828, 644],\n",
       "  [1613, 52, 3225],\n",
       "  [1029],\n",
       "  [6680],\n",
       "  [362, 9878],\n",
       "  [9955]],\n",
       " ['NOUN+PART',\n",
       "  'NOUN+ADP',\n",
       "  'NOUN+ADP',\n",
       "  'NOUN',\n",
       "  'ADP',\n",
       "  'NOUN',\n",
       "  'ADJ+ADP',\n",
       "  'NOUN',\n",
       "  'unk',\n",
       "  'NOUN',\n",
       "  'PUNCT'])"
      ]
     },
     "execution_count": 6,
     "metadata": {},
     "output_type": "execute_result"
    }
   ],
   "source": [
    "train_data[0]"
   ]
  },
  {
   "cell_type": "code",
   "execution_count": 7,
   "id": "34025996-b11d-480c-82cc-f2d813bd7f9c",
   "metadata": {},
   "outputs": [
    {
     "data": {
      "text/plain": [
       "(28186, 3110)"
      ]
     },
     "execution_count": 7,
     "metadata": {},
     "output_type": "execute_result"
    }
   ],
   "source": [
    "len(train_data), len(test_data)"
   ]
  },
  {
   "cell_type": "code",
   "execution_count": 8,
   "id": "2c2b2109-7b29-4d71-adc1-56d90d31957a",
   "metadata": {},
   "outputs": [
    {
     "data": {
      "text/plain": [
       "20634"
      ]
     },
     "execution_count": 8,
     "metadata": {},
     "output_type": "execute_result"
    }
   ],
   "source": [
    "train_words = set([' '.join(map(str, word)) for words, _ in train_data for word in words])\n",
    "len(list(train_words))"
   ]
  },
  {
   "cell_type": "code",
   "execution_count": 9,
   "id": "1123bbc8-7d62-43ec-8641-075cfa8eb474",
   "metadata": {},
   "outputs": [
    {
     "data": {
      "text/plain": [
       "5578"
      ]
     },
     "execution_count": 9,
     "metadata": {},
     "output_type": "execute_result"
    }
   ],
   "source": [
    "test_words = set([' '.join(map(str, word)) for words, _ in test_data for word in words])\n",
    "len(list(test_words))"
   ]
  },
  {
   "cell_type": "code",
   "execution_count": 10,
   "id": "3eeec4ef-97e5-47fc-b1e7-cb94410c15ac",
   "metadata": {},
   "outputs": [
    {
     "data": {
      "text/plain": [
       "1255"
      ]
     },
     "execution_count": 10,
     "metadata": {},
     "output_type": "execute_result"
    }
   ],
   "source": [
    "len(set(test_words - train_words))"
   ]
  },
  {
   "cell_type": "code",
   "execution_count": 11,
   "id": "6ca8a177-5c38-411e-9fef-b55f15c13210",
   "metadata": {},
   "outputs": [
    {
     "data": {
      "text/plain": [
       "16311"
      ]
     },
     "execution_count": 11,
     "metadata": {},
     "output_type": "execute_result"
    }
   ],
   "source": [
    "len(set(train_words - test_words))"
   ]
  },
  {
   "cell_type": "code",
   "execution_count": 12,
   "id": "9cf1a50f-eb2c-41f3-9d13-01d9661b3472",
   "metadata": {},
   "outputs": [],
   "source": [
    "train_word_lens = pd.Series([len(word) for word in train_words])"
   ]
  },
  {
   "cell_type": "code",
   "execution_count": 13,
   "id": "662335d3-a65b-4bc8-8643-efb3b9882c2c",
   "metadata": {},
   "outputs": [
    {
     "data": {
      "text/plain": [
       "<AxesSubplot:>"
      ]
     },
     "execution_count": 13,
     "metadata": {},
     "output_type": "execute_result"
    },
    {
     "data": {
      "image/png": "[encoded data removed]",
      "text/plain": [
       "<Figure size 864x576 with 1 Axes>"
      ]
     },
     "metadata": {
      "needs_background": "light"
     },
     "output_type": "display_data"
    }
   ],
   "source": [
    "train_word_lens.value_counts().sort_index().plot(kind='bar', figsize=(12,8))"
   ]
  },
  {
   "cell_type": "code",
   "execution_count": 14,
   "id": "ba975f4b-d3e5-4ad1-be97-be7388053720",
   "metadata": {},
   "outputs": [],
   "source": [
    "test_word_lens = pd.Series([len(word) for word in test_words])"
   ]
  },
  {
   "cell_type": "code",
   "execution_count": 15,
   "id": "0c24dc05-071b-4327-ab64-785901735b7c",
   "metadata": {},
   "outputs": [
    {
     "data": {
      "text/plain": [
       "<AxesSubplot:>"
      ]
     },
     "execution_count": 15,
     "metadata": {},
     "output_type": "execute_result"
    },
    {
     "data": {
      "image/png": "[encoded data removed]",
      "text/plain": [
       "<Figure size 864x576 with 1 Axes>"
      ]
     },
     "metadata": {
      "needs_background": "light"
     },
     "output_type": "display_data"
    }
   ],
   "source": [
    "test_word_lens.value_counts().sort_index().plot(kind='bar', figsize=(12,8))"
   ]
  },
  {
   "cell_type": "markdown",
   "id": "c372fd51-f6bd-4eec-9f11-8e66542f839f",
   "metadata": {},
   "source": [
    "# Classification metrics on new words"
   ]
  },
  {
   "cell_type": "code",
   "execution_count": 16,
   "id": "4d1526db-a698-480b-b8bf-45240e36843f",
   "metadata": {},
   "outputs": [],
   "source": [
    "from tqdm.auto import tqdm"
   ]
  },
  {
   "cell_type": "code",
   "execution_count": 17,
   "id": "b84b3b01-1dfc-4eb8-aaa6-ece3355e5aa8",
   "metadata": {},
   "outputs": [],
   "source": [
    "from cai_manas.part_of_speech.pos_tagger import PartOfSpeechTagger"
   ]
  },
  {
   "cell_type": "code",
   "execution_count": 18,
   "id": "5729afa0-f6bb-45ec-b0c6-52f0cff343d8",
   "metadata": {},
   "outputs": [],
   "source": [
    "from sklearn.metrics import precision_recall_fscore_support"
   ]
  },
  {
   "cell_type": "code",
   "execution_count": 19,
   "id": "5ad219b1-0c4a-4d31-b73b-b0f1a48e3747",
   "metadata": {},
   "outputs": [],
   "source": [
    "tagger = PartOfSpeechTagger(model_name)"
   ]
  },
  {
   "cell_type": "code",
   "execution_count": 20,
   "id": "71d66861-77f4-44cb-a4d8-ec1f47ef1ad1",
   "metadata": {},
   "outputs": [
    {
     "data": {
      "application/vnd.jupyter.widget-view+json": {
       "model_id": "7419ad21195241a3bf565a8b22d62f9d",
       "version_major": 2,
       "version_minor": 0
      },
      "text/plain": [
       "  0%|          | 0/3110 [00:00<?, ?it/s]"
      ]
     },
     "metadata": {},
     "output_type": "display_data"
    }
   ],
   "source": [
    "res_tokens, res_tags, res_labels = [], [], []\n",
    "for datum in tqdm(test_data):\n",
    "    if len(datum[0]) == 0:\n",
    "        continue\n",
    "    try:\n",
    "        cur_tags = tagger.predict_tokens([token for word in datum[0] for token in word])\n",
    "    except:\n",
    "        print(datum)\n",
    "        raise Exception()\n",
    "    cur_tags = [tagger.id_to_label_map[pred] for pred in cur_tags[1:-1]]\n",
    "    res_tokens.append(datum[0])\n",
    "    res_tags.append(cur_tags)\n",
    "    seq_labels = []\n",
    "    for word, word_label in zip(datum[0], datum[1]):\n",
    "        seq_labels.append(word_label)\n",
    "        for _ in range(len(word) - 1):\n",
    "            seq_labels.append('[MASK]')\n",
    "    res_labels.append(seq_labels)"
   ]
  },
  {
   "cell_type": "code",
   "execution_count": 21,
   "id": "49f15f21-4c42-42a1-8339-2c5bafd8e8e8",
   "metadata": {},
   "outputs": [],
   "source": [
    "label2id = {\n",
    "    label.upper(): id_\n",
    "    for id_, label in tagger.id_to_label_map.items()\n",
    "}"
   ]
  },
  {
   "cell_type": "markdown",
   "id": "d972915d-3e16-4997-b172-8d8422704eb5",
   "metadata": {},
   "source": [
    "## Out-of-vocabulary"
   ]
  },
  {
   "cell_type": "code",
   "execution_count": 22,
   "id": "07b60db0-fb9d-4e73-b8a9-8993736ac5cd",
   "metadata": {},
   "outputs": [
    {
     "data": {
      "application/vnd.jupyter.widget-view+json": {
       "model_id": "4d9697facce84b82a5827138296f43e1",
       "version_major": 2,
       "version_minor": 0
      },
      "text/plain": [
       "  0%|          | 0/1255 [00:00<?, ?it/s]"
      ]
     },
     "metadata": {},
     "output_type": "display_data"
    }
   ],
   "source": [
    "strange_tags, strange_labels = [], []\n",
    "# for test_word in tqdm(list(test_words.intersection(train_words))):\n",
    "for test_word in tqdm(list(test_words - train_words)):\n",
    "    test_tokens = list(map(int, test_word.split(' ')))\n",
    "    for example, tags, labels in zip(res_tokens, res_tags, res_labels):\n",
    "        example_str = [' '.join(map(str, word)) for word in example]\n",
    "        if test_word in example_str:\n",
    "            word_idx = example.index(test_tokens)\n",
    "            tag_idx = sum([len(word) for word in example[:word_idx]])\n",
    "            strange_tags.extend(tags[tag_idx:tag_idx+len(example[word_idx])])\n",
    "            strange_labels.extend(labels[tag_idx:tag_idx+len(example[word_idx])])"
   ]
  },
  {
   "cell_type": "code",
   "execution_count": 23,
   "id": "18948ae3-708c-4cce-a41a-766837cddead",
   "metadata": {},
   "outputs": [],
   "source": [
    "strange_tags = [label2id[t.upper()] for t in strange_tags]\n",
    "strange_labels = [label2id.get(l.upper(), label2id['UNK']) for l in strange_labels]"
   ]
  },
  {
   "cell_type": "code",
   "execution_count": 24,
   "id": "45cf7994-add7-4000-b374-b97cf69e60bc",
   "metadata": {},
   "outputs": [],
   "source": [
    "precision, recall, f1, support = precision_recall_fscore_support(\n",
    "    strange_labels,\n",
    "    strange_tags,\n",
    "    labels=range(max(0, min(label2id.values())), max(label2id.values()) + 1),\n",
    "    zero_division=0\n",
    ")"
   ]
  },
  {
   "cell_type": "code",
   "execution_count": 25,
   "id": "d75e702c-883c-4d56-86ea-72ce3ae5e376",
   "metadata": {},
   "outputs": [
    {
     "name": "stdout",
     "output_type": "stream",
     "text": [
      "        Precision    Recall       F1   Support\n",
      "tag                                           \n",
      "[MASK]    0.96531  0.895155  0.92891  0.662283\n",
      "            Precision    Recall        F1   Support\n",
      "tag                                                \n",
      "NOUN         0.610256  0.856115  0.712575  0.433022\n",
      "PROPN        0.717949  0.396226  0.510638  0.165109\n",
      "NOUN+ADP     0.758824  0.791411  0.774775  0.126947\n",
      "NOUN+PART    0.743243  0.774648  0.758621  0.055296\n",
      "unk          0.586207  0.492754  0.535433  0.053738\n",
      "VERB         0.577320  0.811594  0.674699  0.053738\n",
      "ADJ          0.354839  0.468085  0.403670  0.036604\n",
      "PROPN+ADP    0.703704  0.463415  0.558824  0.031931\n",
      "PROPN+PART   0.000000  0.000000  0.000000  0.010903\n",
      "ADJ+ADP      0.500000  0.571429  0.533333  0.005452\n"
     ]
    },
    {
     "name": "stderr",
     "output_type": "stream",
     "text": [
      "/tmp/ipykernel_295460/2681762738.py:24: SettingWithCopyWarning: \n",
      "A value is trying to be set on a copy of a slice from a DataFrame.\n",
      "Try using .loc[row_indexer,col_indexer] = value instead\n",
      "\n",
      "See the caveats in the documentation: https://pandas.pydata.org/pandas-docs/stable/user_guide/indexing.html#returning-a-view-versus-a-copy\n",
      "  non_mask_res_df[\"Support\"] = non_mask_res_df.Support / non_mask_res_df.Support.sum()\n"
     ]
    }
   ],
   "source": [
    "res_df = {\n",
    "    \"tag\": [],\n",
    "    \"Precision\": [],\n",
    "    \"Recall\": [],\n",
    "    \"F1\": [],\n",
    "    \"Support\": []\n",
    "}\n",
    "for tag, tag_precision, tag_recall, tag_f1, tag_support in zip(\n",
    "    [tagger.id_to_label_map.get(i, 'WTF') for i in range(len(f1))], precision, recall, f1, support\n",
    "):\n",
    "    res_df[\"tag\"].append(tag)\n",
    "    res_df[\"Precision\"].append(tag_precision)\n",
    "    res_df[\"Recall\"].append(tag_recall)\n",
    "    res_df[\"F1\"].append(tag_f1)\n",
    "    res_df[\"Support\"].append(tag_support)\n",
    "res_df = pd.DataFrame(res_df).set_index('tag').sort_values(\"Support\", ascending=False)\n",
    "\n",
    "mask_res_df = res_df\n",
    "non_mask_res_df = res_df[res_df.index != '[MASK]']\n",
    "\n",
    "mask_res_df[\"Support\"] = mask_res_df.Support / mask_res_df.Support.sum()\n",
    "print(mask_res_df[mask_res_df.index == '[MASK]'])\n",
    "\n",
    "non_mask_res_df[\"Support\"] = non_mask_res_df.Support / non_mask_res_df.Support.sum()\n",
    "print(non_mask_res_df.head(10))\n",
    "res_df = non_mask_res_df"
   ]
  },
  {
   "cell_type": "code",
   "execution_count": 26,
   "id": "fb14aca6-1fb3-4a79-9ccf-fd2698022e4e",
   "metadata": {},
   "outputs": [
    {
     "name": "stdout",
     "output_type": "stream",
     "text": [
      "Support percentage: 1.0\n",
      "Weighted average precision: 0.6272128477314887\n",
      "Weighted average recall: 0.690809968847352\n",
      "Weighted average f1: 0.6395884844927584\n"
     ]
    }
   ],
   "source": [
    "totals_df = res_df.copy()\n",
    "print(\"Support percentage:\", totals_df.Support.sum() / res_df.Support.sum())\n",
    "totals_df[\"Support\"] = totals_df.Support / totals_df.Support.sum()\n",
    "print(\"Weighted average precision:\", (totals_df.Precision * totals_df.Support).sum())\n",
    "print(\"Weighted average recall:\", (totals_df.Recall * totals_df.Support).sum())\n",
    "print(\"Weighted average f1:\", (totals_df.F1 * totals_df.Support).sum())"
   ]
  },
  {
   "cell_type": "markdown",
   "id": "e5fd2314-c969-475f-a8b8-a9368781e226",
   "metadata": {},
   "source": [
    "## In-vocabulary"
   ]
  },
  {
   "cell_type": "code",
   "execution_count": 27,
   "id": "6e6f5e5e-139b-4b83-90d9-da332441f7a1",
   "metadata": {},
   "outputs": [],
   "source": [
    "in_univ_tags = [label2id[t.upper()] for ex in res_tags for t in ex]\n",
    "in_univ_labels = [label2id.get(l.upper(), label2id['UNK']) for ex in res_labels for l in ex]"
   ]
  },
  {
   "cell_type": "code",
   "execution_count": 28,
   "id": "2fb0a541-0e60-46c9-9270-b3faa771c1ca",
   "metadata": {},
   "outputs": [],
   "source": [
    "precision, recall, f1, support = precision_recall_fscore_support(\n",
    "    in_univ_labels,\n",
    "    in_univ_tags,\n",
    "    labels=range(max(0, min(label2id.values())), max(label2id.values()) + 1),\n",
    "    zero_division=0\n",
    ")"
   ]
  },
  {
   "cell_type": "code",
   "execution_count": 29,
   "id": "2627b620-0235-4128-a4e5-f5833e7ad086",
   "metadata": {},
   "outputs": [
    {
     "name": "stdout",
     "output_type": "stream",
     "text": [
      "        Precision    Recall        F1   Support\n",
      "tag                                            \n",
      "[MASK]   0.960803  0.973013  0.966869  0.315021\n",
      "           Precision    Recall        F1   Support\n",
      "tag                                               \n",
      "NOUN        0.913466  0.944428  0.928689  0.248007\n",
      "PART        0.975617  0.973075  0.974344  0.124617\n",
      "ADP         0.977511  0.990634  0.984029  0.115561\n",
      "PUNCT       1.000000  0.992926  0.996450  0.112206\n",
      "VERB        0.954745  0.936713  0.945643  0.108886\n",
      "CCONJ       0.990698  0.992236  0.991466  0.046470\n",
      "NOUN+ADP    0.929448  0.946875  0.938080  0.046181\n",
      "NOUN+PART   0.919903  0.938119  0.928922  0.029152\n",
      "unk         0.864706  0.703349  0.775726  0.022621\n",
      "DET         0.995114  0.988673  0.991883  0.022297\n"
     ]
    },
    {
     "name": "stderr",
     "output_type": "stream",
     "text": [
      "/tmp/ipykernel_295460/2681762738.py:24: SettingWithCopyWarning: \n",
      "A value is trying to be set on a copy of a slice from a DataFrame.\n",
      "Try using .loc[row_indexer,col_indexer] = value instead\n",
      "\n",
      "See the caveats in the documentation: https://pandas.pydata.org/pandas-docs/stable/user_guide/indexing.html#returning-a-view-versus-a-copy\n",
      "  non_mask_res_df[\"Support\"] = non_mask_res_df.Support / non_mask_res_df.Support.sum()\n"
     ]
    }
   ],
   "source": [
    "res_df = {\n",
    "    \"tag\": [],\n",
    "    \"Precision\": [],\n",
    "    \"Recall\": [],\n",
    "    \"F1\": [],\n",
    "    \"Support\": []\n",
    "}\n",
    "for tag, tag_precision, tag_recall, tag_f1, tag_support in zip(\n",
    "    [tagger.id_to_label_map.get(i, 'WTF') for i in range(len(f1))], precision, recall, f1, support\n",
    "):\n",
    "    res_df[\"tag\"].append(tag)\n",
    "    res_df[\"Precision\"].append(tag_precision)\n",
    "    res_df[\"Recall\"].append(tag_recall)\n",
    "    res_df[\"F1\"].append(tag_f1)\n",
    "    res_df[\"Support\"].append(tag_support)\n",
    "res_df = pd.DataFrame(res_df).set_index('tag').sort_values(\"Support\", ascending=False)\n",
    "\n",
    "mask_res_df = res_df\n",
    "non_mask_res_df = res_df[res_df.index != '[MASK]']\n",
    "\n",
    "mask_res_df[\"Support\"] = mask_res_df.Support / mask_res_df.Support.sum()\n",
    "print(mask_res_df[mask_res_df.index == '[MASK]'])\n",
    "\n",
    "non_mask_res_df[\"Support\"] = non_mask_res_df.Support / non_mask_res_df.Support.sum()\n",
    "print(non_mask_res_df.head(10))\n",
    "res_df = non_mask_res_df"
   ]
  },
  {
   "cell_type": "code",
   "execution_count": 30,
   "id": "c4363e2c-4a93-4b99-a149-c281ffcc663d",
   "metadata": {},
   "outputs": [
    {
     "name": "stdout",
     "output_type": "stream",
     "text": [
      "Support percentage: 1.0\n",
      "Weighted average precision: 0.9447035557794519\n",
      "Weighted average recall: 0.941299563444817\n",
      "Weighted average f1: 0.940990025152403\n"
     ]
    }
   ],
   "source": [
    "totals_df = res_df.copy()\n",
    "print(\"Support percentage:\", totals_df.Support.sum() / res_df.Support.sum())\n",
    "totals_df[\"Support\"] = totals_df.Support / totals_df.Support.sum()\n",
    "print(\"Weighted average precision:\", (totals_df.Precision * totals_df.Support).sum())\n",
    "print(\"Weighted average recall:\", (totals_df.Recall * totals_df.Support).sum())\n",
    "print(\"Weighted average f1:\", (totals_df.F1 * totals_df.Support).sum())"
   ]
  }
 ],
 "metadata": {
  "kernelspec": {
   "display_name": "Python 3 (ipykernel)",
   "language": "python",
   "name": "python3"
  },
  "language_info": {
   "codemirror_mode": {
    "name": "ipython",
    "version": 3
   },
   "file_extension": ".py",
   "mimetype": "text/x-python",
   "name": "python",
   "nbconvert_exporter": "python",
   "pygments_lexer": "ipython3",
   "version": "3.10.5"
  }
 },
 "nbformat": 4,
 "nbformat_minor": 5
}
