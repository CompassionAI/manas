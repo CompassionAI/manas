{
 "cells": [
  {
   "cell_type": "code",
   "execution_count": 1,
   "metadata": {},
   "outputs": [
    {
     "name": "stderr",
     "output_type": "stream",
     "text": [
      "2022-07-25 09:59:05,955 - distributed.diskutils - INFO - Found stale lock file and directory '/home/eeisenst/workspace/compassionai/manas/notebooks/dask-worker-space/worker-oc_tve2z', purging\n",
      "2022-07-25 09:59:05,955 - distributed.diskutils - INFO - Found stale lock file and directory '/home/eeisenst/workspace/compassionai/manas/notebooks/dask-worker-space/worker-y2iz22rx', purging\n",
      "2022-07-25 09:59:05,955 - distributed.diskutils - INFO - Found stale lock file and directory '/home/eeisenst/workspace/compassionai/manas/notebooks/dask-worker-space/worker-7jwzsnux', purging\n",
      "2022-07-25 09:59:05,956 - distributed.diskutils - INFO - Found stale lock file and directory '/home/eeisenst/workspace/compassionai/manas/notebooks/dask-worker-space/worker-yhn4mlxt', purging\n",
      "2022-07-25 09:59:05,956 - distributed.diskutils - INFO - Found stale lock file and directory '/home/eeisenst/workspace/compassionai/manas/notebooks/dask-worker-space/worker-dxf6dy2u', purging\n",
      "2022-07-25 09:59:05,956 - distributed.diskutils - INFO - Found stale lock file and directory '/home/eeisenst/workspace/compassionai/manas/notebooks/dask-worker-space/worker-s9cpvjl8', purging\n",
      "2022-07-25 09:59:05,956 - distributed.diskutils - INFO - Found stale lock file and directory '/home/eeisenst/workspace/compassionai/manas/notebooks/dask-worker-space/worker-pkz1qu4d', purging\n",
      "2022-07-25 09:59:05,956 - distributed.diskutils - INFO - Found stale lock file and directory '/home/eeisenst/workspace/compassionai/manas/notebooks/dask-worker-space/worker-htxjgc3s', purging\n",
      "2022-07-25 09:59:05,956 - distributed.diskutils - INFO - Found stale lock file and directory '/home/eeisenst/workspace/compassionai/manas/notebooks/dask-worker-space/worker-1iv67c7h', purging\n",
      "2022-07-25 09:59:05,956 - distributed.diskutils - INFO - Found stale lock file and directory '/home/eeisenst/workspace/compassionai/manas/notebooks/dask-worker-space/worker-llearz6n', purging\n"
     ]
    },
    {
     "data": {
      "text/html": [
       "<div>\n",
       "    <div style=\"width: 24px; height: 24px; background-color: #e1e1e1; border: 3px solid #9D9D9D; border-radius: 5px; position: absolute;\"> </div>\n",
       "    <div style=\"margin-left: 48px;\">\n",
       "        <h3 style=\"margin-bottom: 0px;\">Client</h3>\n",
       "        <p style=\"color: #9D9D9D; margin-bottom: 0px;\">Client-f2a4e659-0c21-11ed-977d-f44637a8a7cd</p>\n",
       "        <table style=\"width: 100%; text-align: left;\">\n",
       "\n",
       "        <tr>\n",
       "        \n",
       "            <td style=\"text-align: left;\"><strong>Connection method:</strong> Cluster object</td>\n",
       "            <td style=\"text-align: left;\"><strong>Cluster type:</strong> distributed.LocalCluster</td>\n",
       "        \n",
       "        </tr>\n",
       "\n",
       "        \n",
       "            <tr>\n",
       "                <td style=\"text-align: left;\">\n",
       "                    <strong>Dashboard: </strong> <a href=\"http://127.0.0.1:8787/status\" target=\"_blank\">http://127.0.0.1:8787/status</a>\n",
       "                </td>\n",
       "                <td style=\"text-align: left;\"></td>\n",
       "            </tr>\n",
       "        \n",
       "\n",
       "        </table>\n",
       "\n",
       "        \n",
       "            <details>\n",
       "            <summary style=\"margin-bottom: 20px;\"><h3 style=\"display: inline;\">Cluster Info</h3></summary>\n",
       "            <div class=\"jp-RenderedHTMLCommon jp-RenderedHTML jp-mod-trusted jp-OutputArea-output\">\n",
       "    <div style=\"width: 24px; height: 24px; background-color: #e1e1e1; border: 3px solid #9D9D9D; border-radius: 5px; position: absolute;\">\n",
       "    </div>\n",
       "    <div style=\"margin-left: 48px;\">\n",
       "        <h3 style=\"margin-bottom: 0px; margin-top: 0px;\">LocalCluster</h3>\n",
       "        <p style=\"color: #9D9D9D; margin-bottom: 0px;\">d49eba12</p>\n",
       "        <table style=\"width: 100%; text-align: left;\">\n",
       "            <tr>\n",
       "                <td style=\"text-align: left;\">\n",
       "                    <strong>Dashboard:</strong> <a href=\"http://127.0.0.1:8787/status\" target=\"_blank\">http://127.0.0.1:8787/status</a>\n",
       "                </td>\n",
       "                <td style=\"text-align: left;\">\n",
       "                    <strong>Workers:</strong> 10\n",
       "                </td>\n",
       "            </tr>\n",
       "            <tr>\n",
       "                <td style=\"text-align: left;\">\n",
       "                    <strong>Total threads:</strong> 10\n",
       "                </td>\n",
       "                <td style=\"text-align: left;\">\n",
       "                    <strong>Total memory:</strong> 31.17 GiB\n",
       "                </td>\n",
       "            </tr>\n",
       "            \n",
       "            <tr>\n",
       "    <td style=\"text-align: left;\"><strong>Status:</strong> running</td>\n",
       "    <td style=\"text-align: left;\"><strong>Using processes:</strong> True</td>\n",
       "</tr>\n",
       "\n",
       "            \n",
       "        </table>\n",
       "\n",
       "        <details>\n",
       "            <summary style=\"margin-bottom: 20px;\">\n",
       "                <h3 style=\"display: inline;\">Scheduler Info</h3>\n",
       "            </summary>\n",
       "\n",
       "            <div style=\"\">\n",
       "    <div>\n",
       "        <div style=\"width: 24px; height: 24px; background-color: #FFF7E5; border: 3px solid #FF6132; border-radius: 5px; position: absolute;\"> </div>\n",
       "        <div style=\"margin-left: 48px;\">\n",
       "            <h3 style=\"margin-bottom: 0px;\">Scheduler</h3>\n",
       "            <p style=\"color: #9D9D9D; margin-bottom: 0px;\">Scheduler-81378d68-8159-425e-a5d1-1a5fa6fe5bc9</p>\n",
       "            <table style=\"width: 100%; text-align: left;\">\n",
       "                <tr>\n",
       "                    <td style=\"text-align: left;\">\n",
       "                        <strong>Comm:</strong> tcp://127.0.0.1:34557\n",
       "                    </td>\n",
       "                    <td style=\"text-align: left;\">\n",
       "                        <strong>Workers:</strong> 10\n",
       "                    </td>\n",
       "                </tr>\n",
       "                <tr>\n",
       "                    <td style=\"text-align: left;\">\n",
       "                        <strong>Dashboard:</strong> <a href=\"http://127.0.0.1:8787/status\" target=\"_blank\">http://127.0.0.1:8787/status</a>\n",
       "                    </td>\n",
       "                    <td style=\"text-align: left;\">\n",
       "                        <strong>Total threads:</strong> 10\n",
       "                    </td>\n",
       "                </tr>\n",
       "                <tr>\n",
       "                    <td style=\"text-align: left;\">\n",
       "                        <strong>Started:</strong> Just now\n",
       "                    </td>\n",
       "                    <td style=\"text-align: left;\">\n",
       "                        <strong>Total memory:</strong> 31.17 GiB\n",
       "                    </td>\n",
       "                </tr>\n",
       "            </table>\n",
       "        </div>\n",
       "    </div>\n",
       "\n",
       "    <details style=\"margin-left: 48px;\">\n",
       "        <summary style=\"margin-bottom: 20px;\">\n",
       "            <h3 style=\"display: inline;\">Workers</h3>\n",
       "        </summary>\n",
       "\n",
       "        \n",
       "        <div style=\"margin-bottom: 20px;\">\n",
       "            <div style=\"width: 24px; height: 24px; background-color: #DBF5FF; border: 3px solid #4CC9FF; border-radius: 5px; position: absolute;\"> </div>\n",
       "            <div style=\"margin-left: 48px;\">\n",
       "            <details>\n",
       "                <summary>\n",
       "                    <h4 style=\"margin-bottom: 0px; display: inline;\">Worker: 0</h4>\n",
       "                </summary>\n",
       "                <table style=\"width: 100%; text-align: left;\">\n",
       "                    <tr>\n",
       "                        <td style=\"text-align: left;\">\n",
       "                            <strong>Comm: </strong> tcp://127.0.0.1:44641\n",
       "                        </td>\n",
       "                        <td style=\"text-align: left;\">\n",
       "                            <strong>Total threads: </strong> 1\n",
       "                        </td>\n",
       "                    </tr>\n",
       "                    <tr>\n",
       "                        <td style=\"text-align: left;\">\n",
       "                            <strong>Dashboard: </strong> <a href=\"http://127.0.0.1:38701/status\" target=\"_blank\">http://127.0.0.1:38701/status</a>\n",
       "                        </td>\n",
       "                        <td style=\"text-align: left;\">\n",
       "                            <strong>Memory: </strong> 3.12 GiB\n",
       "                        </td>\n",
       "                    </tr>\n",
       "                    <tr>\n",
       "                        <td style=\"text-align: left;\">\n",
       "                            <strong>Nanny: </strong> tcp://127.0.0.1:34061\n",
       "                        </td>\n",
       "                        <td style=\"text-align: left;\"></td>\n",
       "                    </tr>\n",
       "                    <tr>\n",
       "                        <td colspan=\"2\" style=\"text-align: left;\">\n",
       "                            <strong>Local directory: </strong> /home/eeisenst/workspace/compassionai/manas/notebooks/dask-worker-space/worker-_zozch7a\n",
       "                        </td>\n",
       "                    </tr>\n",
       "\n",
       "                    \n",
       "\n",
       "                    \n",
       "\n",
       "                </table>\n",
       "            </details>\n",
       "            </div>\n",
       "        </div>\n",
       "        \n",
       "        <div style=\"margin-bottom: 20px;\">\n",
       "            <div style=\"width: 24px; height: 24px; background-color: #DBF5FF; border: 3px solid #4CC9FF; border-radius: 5px; position: absolute;\"> </div>\n",
       "            <div style=\"margin-left: 48px;\">\n",
       "            <details>\n",
       "                <summary>\n",
       "                    <h4 style=\"margin-bottom: 0px; display: inline;\">Worker: 1</h4>\n",
       "                </summary>\n",
       "                <table style=\"width: 100%; text-align: left;\">\n",
       "                    <tr>\n",
       "                        <td style=\"text-align: left;\">\n",
       "                            <strong>Comm: </strong> tcp://127.0.0.1:39251\n",
       "                        </td>\n",
       "                        <td style=\"text-align: left;\">\n",
       "                            <strong>Total threads: </strong> 1\n",
       "                        </td>\n",
       "                    </tr>\n",
       "                    <tr>\n",
       "                        <td style=\"text-align: left;\">\n",
       "                            <strong>Dashboard: </strong> <a href=\"http://127.0.0.1:42651/status\" target=\"_blank\">http://127.0.0.1:42651/status</a>\n",
       "                        </td>\n",
       "                        <td style=\"text-align: left;\">\n",
       "                            <strong>Memory: </strong> 3.12 GiB\n",
       "                        </td>\n",
       "                    </tr>\n",
       "                    <tr>\n",
       "                        <td style=\"text-align: left;\">\n",
       "                            <strong>Nanny: </strong> tcp://127.0.0.1:41527\n",
       "                        </td>\n",
       "                        <td style=\"text-align: left;\"></td>\n",
       "                    </tr>\n",
       "                    <tr>\n",
       "                        <td colspan=\"2\" style=\"text-align: left;\">\n",
       "                            <strong>Local directory: </strong> /home/eeisenst/workspace/compassionai/manas/notebooks/dask-worker-space/worker-0qn0mfxm\n",
       "                        </td>\n",
       "                    </tr>\n",
       "\n",
       "                    \n",
       "\n",
       "                    \n",
       "\n",
       "                </table>\n",
       "            </details>\n",
       "            </div>\n",
       "        </div>\n",
       "        \n",
       "        <div style=\"margin-bottom: 20px;\">\n",
       "            <div style=\"width: 24px; height: 24px; background-color: #DBF5FF; border: 3px solid #4CC9FF; border-radius: 5px; position: absolute;\"> </div>\n",
       "            <div style=\"margin-left: 48px;\">\n",
       "            <details>\n",
       "                <summary>\n",
       "                    <h4 style=\"margin-bottom: 0px; display: inline;\">Worker: 2</h4>\n",
       "                </summary>\n",
       "                <table style=\"width: 100%; text-align: left;\">\n",
       "                    <tr>\n",
       "                        <td style=\"text-align: left;\">\n",
       "                            <strong>Comm: </strong> tcp://127.0.0.1:36963\n",
       "                        </td>\n",
       "                        <td style=\"text-align: left;\">\n",
       "                            <strong>Total threads: </strong> 1\n",
       "                        </td>\n",
       "                    </tr>\n",
       "                    <tr>\n",
       "                        <td style=\"text-align: left;\">\n",
       "                            <strong>Dashboard: </strong> <a href=\"http://127.0.0.1:41117/status\" target=\"_blank\">http://127.0.0.1:41117/status</a>\n",
       "                        </td>\n",
       "                        <td style=\"text-align: left;\">\n",
       "                            <strong>Memory: </strong> 3.12 GiB\n",
       "                        </td>\n",
       "                    </tr>\n",
       "                    <tr>\n",
       "                        <td style=\"text-align: left;\">\n",
       "                            <strong>Nanny: </strong> tcp://127.0.0.1:41927\n",
       "                        </td>\n",
       "                        <td style=\"text-align: left;\"></td>\n",
       "                    </tr>\n",
       "                    <tr>\n",
       "                        <td colspan=\"2\" style=\"text-align: left;\">\n",
       "                            <strong>Local directory: </strong> /home/eeisenst/workspace/compassionai/manas/notebooks/dask-worker-space/worker-_6aywse2\n",
       "                        </td>\n",
       "                    </tr>\n",
       "\n",
       "                    \n",
       "\n",
       "                    \n",
       "\n",
       "                </table>\n",
       "            </details>\n",
       "            </div>\n",
       "        </div>\n",
       "        \n",
       "        <div style=\"margin-bottom: 20px;\">\n",
       "            <div style=\"width: 24px; height: 24px; background-color: #DBF5FF; border: 3px solid #4CC9FF; border-radius: 5px; position: absolute;\"> </div>\n",
       "            <div style=\"margin-left: 48px;\">\n",
       "            <details>\n",
       "                <summary>\n",
       "                    <h4 style=\"margin-bottom: 0px; display: inline;\">Worker: 3</h4>\n",
       "                </summary>\n",
       "                <table style=\"width: 100%; text-align: left;\">\n",
       "                    <tr>\n",
       "                        <td style=\"text-align: left;\">\n",
       "                            <strong>Comm: </strong> tcp://127.0.0.1:34815\n",
       "                        </td>\n",
       "                        <td style=\"text-align: left;\">\n",
       "                            <strong>Total threads: </strong> 1\n",
       "                        </td>\n",
       "                    </tr>\n",
       "                    <tr>\n",
       "                        <td style=\"text-align: left;\">\n",
       "                            <strong>Dashboard: </strong> <a href=\"http://127.0.0.1:35963/status\" target=\"_blank\">http://127.0.0.1:35963/status</a>\n",
       "                        </td>\n",
       "                        <td style=\"text-align: left;\">\n",
       "                            <strong>Memory: </strong> 3.12 GiB\n",
       "                        </td>\n",
       "                    </tr>\n",
       "                    <tr>\n",
       "                        <td style=\"text-align: left;\">\n",
       "                            <strong>Nanny: </strong> tcp://127.0.0.1:43925\n",
       "                        </td>\n",
       "                        <td style=\"text-align: left;\"></td>\n",
       "                    </tr>\n",
       "                    <tr>\n",
       "                        <td colspan=\"2\" style=\"text-align: left;\">\n",
       "                            <strong>Local directory: </strong> /home/eeisenst/workspace/compassionai/manas/notebooks/dask-worker-space/worker-h68mjaph\n",
       "                        </td>\n",
       "                    </tr>\n",
       "\n",
       "                    \n",
       "\n",
       "                    \n",
       "\n",
       "                </table>\n",
       "            </details>\n",
       "            </div>\n",
       "        </div>\n",
       "        \n",
       "        <div style=\"margin-bottom: 20px;\">\n",
       "            <div style=\"width: 24px; height: 24px; background-color: #DBF5FF; border: 3px solid #4CC9FF; border-radius: 5px; position: absolute;\"> </div>\n",
       "            <div style=\"margin-left: 48px;\">\n",
       "            <details>\n",
       "                <summary>\n",
       "                    <h4 style=\"margin-bottom: 0px; display: inline;\">Worker: 4</h4>\n",
       "                </summary>\n",
       "                <table style=\"width: 100%; text-align: left;\">\n",
       "                    <tr>\n",
       "                        <td style=\"text-align: left;\">\n",
       "                            <strong>Comm: </strong> tcp://127.0.0.1:45229\n",
       "                        </td>\n",
       "                        <td style=\"text-align: left;\">\n",
       "                            <strong>Total threads: </strong> 1\n",
       "                        </td>\n",
       "                    </tr>\n",
       "                    <tr>\n",
       "                        <td style=\"text-align: left;\">\n",
       "                            <strong>Dashboard: </strong> <a href=\"http://127.0.0.1:36263/status\" target=\"_blank\">http://127.0.0.1:36263/status</a>\n",
       "                        </td>\n",
       "                        <td style=\"text-align: left;\">\n",
       "                            <strong>Memory: </strong> 3.12 GiB\n",
       "                        </td>\n",
       "                    </tr>\n",
       "                    <tr>\n",
       "                        <td style=\"text-align: left;\">\n",
       "                            <strong>Nanny: </strong> tcp://127.0.0.1:33777\n",
       "                        </td>\n",
       "                        <td style=\"text-align: left;\"></td>\n",
       "                    </tr>\n",
       "                    <tr>\n",
       "                        <td colspan=\"2\" style=\"text-align: left;\">\n",
       "                            <strong>Local directory: </strong> /home/eeisenst/workspace/compassionai/manas/notebooks/dask-worker-space/worker-myv69c_n\n",
       "                        </td>\n",
       "                    </tr>\n",
       "\n",
       "                    \n",
       "\n",
       "                    \n",
       "\n",
       "                </table>\n",
       "            </details>\n",
       "            </div>\n",
       "        </div>\n",
       "        \n",
       "        <div style=\"margin-bottom: 20px;\">\n",
       "            <div style=\"width: 24px; height: 24px; background-color: #DBF5FF; border: 3px solid #4CC9FF; border-radius: 5px; position: absolute;\"> </div>\n",
       "            <div style=\"margin-left: 48px;\">\n",
       "            <details>\n",
       "                <summary>\n",
       "                    <h4 style=\"margin-bottom: 0px; display: inline;\">Worker: 5</h4>\n",
       "                </summary>\n",
       "                <table style=\"width: 100%; text-align: left;\">\n",
       "                    <tr>\n",
       "                        <td style=\"text-align: left;\">\n",
       "                            <strong>Comm: </strong> tcp://127.0.0.1:33385\n",
       "                        </td>\n",
       "                        <td style=\"text-align: left;\">\n",
       "                            <strong>Total threads: </strong> 1\n",
       "                        </td>\n",
       "                    </tr>\n",
       "                    <tr>\n",
       "                        <td style=\"text-align: left;\">\n",
       "                            <strong>Dashboard: </strong> <a href=\"http://127.0.0.1:37227/status\" target=\"_blank\">http://127.0.0.1:37227/status</a>\n",
       "                        </td>\n",
       "                        <td style=\"text-align: left;\">\n",
       "                            <strong>Memory: </strong> 3.12 GiB\n",
       "                        </td>\n",
       "                    </tr>\n",
       "                    <tr>\n",
       "                        <td style=\"text-align: left;\">\n",
       "                            <strong>Nanny: </strong> tcp://127.0.0.1:33643\n",
       "                        </td>\n",
       "                        <td style=\"text-align: left;\"></td>\n",
       "                    </tr>\n",
       "                    <tr>\n",
       "                        <td colspan=\"2\" style=\"text-align: left;\">\n",
       "                            <strong>Local directory: </strong> /home/eeisenst/workspace/compassionai/manas/notebooks/dask-worker-space/worker-80sdb68v\n",
       "                        </td>\n",
       "                    </tr>\n",
       "\n",
       "                    \n",
       "\n",
       "                    \n",
       "\n",
       "                </table>\n",
       "            </details>\n",
       "            </div>\n",
       "        </div>\n",
       "        \n",
       "        <div style=\"margin-bottom: 20px;\">\n",
       "            <div style=\"width: 24px; height: 24px; background-color: #DBF5FF; border: 3px solid #4CC9FF; border-radius: 5px; position: absolute;\"> </div>\n",
       "            <div style=\"margin-left: 48px;\">\n",
       "            <details>\n",
       "                <summary>\n",
       "                    <h4 style=\"margin-bottom: 0px; display: inline;\">Worker: 6</h4>\n",
       "                </summary>\n",
       "                <table style=\"width: 100%; text-align: left;\">\n",
       "                    <tr>\n",
       "                        <td style=\"text-align: left;\">\n",
       "                            <strong>Comm: </strong> tcp://127.0.0.1:45341\n",
       "                        </td>\n",
       "                        <td style=\"text-align: left;\">\n",
       "                            <strong>Total threads: </strong> 1\n",
       "                        </td>\n",
       "                    </tr>\n",
       "                    <tr>\n",
       "                        <td style=\"text-align: left;\">\n",
       "                            <strong>Dashboard: </strong> <a href=\"http://127.0.0.1:33015/status\" target=\"_blank\">http://127.0.0.1:33015/status</a>\n",
       "                        </td>\n",
       "                        <td style=\"text-align: left;\">\n",
       "                            <strong>Memory: </strong> 3.12 GiB\n",
       "                        </td>\n",
       "                    </tr>\n",
       "                    <tr>\n",
       "                        <td style=\"text-align: left;\">\n",
       "                            <strong>Nanny: </strong> tcp://127.0.0.1:42575\n",
       "                        </td>\n",
       "                        <td style=\"text-align: left;\"></td>\n",
       "                    </tr>\n",
       "                    <tr>\n",
       "                        <td colspan=\"2\" style=\"text-align: left;\">\n",
       "                            <strong>Local directory: </strong> /home/eeisenst/workspace/compassionai/manas/notebooks/dask-worker-space/worker-9z4_x0aa\n",
       "                        </td>\n",
       "                    </tr>\n",
       "\n",
       "                    \n",
       "\n",
       "                    \n",
       "\n",
       "                </table>\n",
       "            </details>\n",
       "            </div>\n",
       "        </div>\n",
       "        \n",
       "        <div style=\"margin-bottom: 20px;\">\n",
       "            <div style=\"width: 24px; height: 24px; background-color: #DBF5FF; border: 3px solid #4CC9FF; border-radius: 5px; position: absolute;\"> </div>\n",
       "            <div style=\"margin-left: 48px;\">\n",
       "            <details>\n",
       "                <summary>\n",
       "                    <h4 style=\"margin-bottom: 0px; display: inline;\">Worker: 7</h4>\n",
       "                </summary>\n",
       "                <table style=\"width: 100%; text-align: left;\">\n",
       "                    <tr>\n",
       "                        <td style=\"text-align: left;\">\n",
       "                            <strong>Comm: </strong> tcp://127.0.0.1:37303\n",
       "                        </td>\n",
       "                        <td style=\"text-align: left;\">\n",
       "                            <strong>Total threads: </strong> 1\n",
       "                        </td>\n",
       "                    </tr>\n",
       "                    <tr>\n",
       "                        <td style=\"text-align: left;\">\n",
       "                            <strong>Dashboard: </strong> <a href=\"http://127.0.0.1:35757/status\" target=\"_blank\">http://127.0.0.1:35757/status</a>\n",
       "                        </td>\n",
       "                        <td style=\"text-align: left;\">\n",
       "                            <strong>Memory: </strong> 3.12 GiB\n",
       "                        </td>\n",
       "                    </tr>\n",
       "                    <tr>\n",
       "                        <td style=\"text-align: left;\">\n",
       "                            <strong>Nanny: </strong> tcp://127.0.0.1:35091\n",
       "                        </td>\n",
       "                        <td style=\"text-align: left;\"></td>\n",
       "                    </tr>\n",
       "                    <tr>\n",
       "                        <td colspan=\"2\" style=\"text-align: left;\">\n",
       "                            <strong>Local directory: </strong> /home/eeisenst/workspace/compassionai/manas/notebooks/dask-worker-space/worker-0gkx88my\n",
       "                        </td>\n",
       "                    </tr>\n",
       "\n",
       "                    \n",
       "\n",
       "                    \n",
       "\n",
       "                </table>\n",
       "            </details>\n",
       "            </div>\n",
       "        </div>\n",
       "        \n",
       "        <div style=\"margin-bottom: 20px;\">\n",
       "            <div style=\"width: 24px; height: 24px; background-color: #DBF5FF; border: 3px solid #4CC9FF; border-radius: 5px; position: absolute;\"> </div>\n",
       "            <div style=\"margin-left: 48px;\">\n",
       "            <details>\n",
       "                <summary>\n",
       "                    <h4 style=\"margin-bottom: 0px; display: inline;\">Worker: 8</h4>\n",
       "                </summary>\n",
       "                <table style=\"width: 100%; text-align: left;\">\n",
       "                    <tr>\n",
       "                        <td style=\"text-align: left;\">\n",
       "                            <strong>Comm: </strong> tcp://127.0.0.1:33255\n",
       "                        </td>\n",
       "                        <td style=\"text-align: left;\">\n",
       "                            <strong>Total threads: </strong> 1\n",
       "                        </td>\n",
       "                    </tr>\n",
       "                    <tr>\n",
       "                        <td style=\"text-align: left;\">\n",
       "                            <strong>Dashboard: </strong> <a href=\"http://127.0.0.1:34801/status\" target=\"_blank\">http://127.0.0.1:34801/status</a>\n",
       "                        </td>\n",
       "                        <td style=\"text-align: left;\">\n",
       "                            <strong>Memory: </strong> 3.12 GiB\n",
       "                        </td>\n",
       "                    </tr>\n",
       "                    <tr>\n",
       "                        <td style=\"text-align: left;\">\n",
       "                            <strong>Nanny: </strong> tcp://127.0.0.1:40719\n",
       "                        </td>\n",
       "                        <td style=\"text-align: left;\"></td>\n",
       "                    </tr>\n",
       "                    <tr>\n",
       "                        <td colspan=\"2\" style=\"text-align: left;\">\n",
       "                            <strong>Local directory: </strong> /home/eeisenst/workspace/compassionai/manas/notebooks/dask-worker-space/worker-urk071jz\n",
       "                        </td>\n",
       "                    </tr>\n",
       "\n",
       "                    \n",
       "\n",
       "                    \n",
       "\n",
       "                </table>\n",
       "            </details>\n",
       "            </div>\n",
       "        </div>\n",
       "        \n",
       "        <div style=\"margin-bottom: 20px;\">\n",
       "            <div style=\"width: 24px; height: 24px; background-color: #DBF5FF; border: 3px solid #4CC9FF; border-radius: 5px; position: absolute;\"> </div>\n",
       "            <div style=\"margin-left: 48px;\">\n",
       "            <details>\n",
       "                <summary>\n",
       "                    <h4 style=\"margin-bottom: 0px; display: inline;\">Worker: 9</h4>\n",
       "                </summary>\n",
       "                <table style=\"width: 100%; text-align: left;\">\n",
       "                    <tr>\n",
       "                        <td style=\"text-align: left;\">\n",
       "                            <strong>Comm: </strong> tcp://127.0.0.1:37029\n",
       "                        </td>\n",
       "                        <td style=\"text-align: left;\">\n",
       "                            <strong>Total threads: </strong> 1\n",
       "                        </td>\n",
       "                    </tr>\n",
       "                    <tr>\n",
       "                        <td style=\"text-align: left;\">\n",
       "                            <strong>Dashboard: </strong> <a href=\"http://127.0.0.1:33597/status\" target=\"_blank\">http://127.0.0.1:33597/status</a>\n",
       "                        </td>\n",
       "                        <td style=\"text-align: left;\">\n",
       "                            <strong>Memory: </strong> 3.12 GiB\n",
       "                        </td>\n",
       "                    </tr>\n",
       "                    <tr>\n",
       "                        <td style=\"text-align: left;\">\n",
       "                            <strong>Nanny: </strong> tcp://127.0.0.1:37113\n",
       "                        </td>\n",
       "                        <td style=\"text-align: left;\"></td>\n",
       "                    </tr>\n",
       "                    <tr>\n",
       "                        <td colspan=\"2\" style=\"text-align: left;\">\n",
       "                            <strong>Local directory: </strong> /home/eeisenst/workspace/compassionai/manas/notebooks/dask-worker-space/worker-uehm61n8\n",
       "                        </td>\n",
       "                    </tr>\n",
       "\n",
       "                    \n",
       "\n",
       "                    \n",
       "\n",
       "                </table>\n",
       "            </details>\n",
       "            </div>\n",
       "        </div>\n",
       "        \n",
       "\n",
       "    </details>\n",
       "</div>\n",
       "\n",
       "        </details>\n",
       "    </div>\n",
       "</div>\n",
       "            </details>\n",
       "        \n",
       "\n",
       "    </div>\n",
       "</div>"
      ],
      "text/plain": [
       "<Client: 'tcp://127.0.0.1:34557' processes=10 threads=10, memory=31.17 GiB>"
      ]
     },
     "execution_count": 1,
     "metadata": {},
     "output_type": "execute_result"
    }
   ],
   "source": [
    "from dask.distributed import Client, LocalCluster\n",
    "import dask.bag as db\n",
    "import dask.dataframe as df\n",
    "\n",
    "dask_client = Client(LocalCluster(\n",
    "    n_workers=10,\n",
    "    threads_per_worker=1))\n",
    "dask_client"
   ]
  },
  {
   "cell_type": "markdown",
   "metadata": {},
   "source": [
    "# Dataset creation"
   ]
  },
  {
   "cell_type": "markdown",
   "metadata": {},
   "source": [
    "## Load the dataset"
   ]
  },
  {
   "cell_type": "code",
   "execution_count": 2,
   "metadata": {},
   "outputs": [],
   "source": [
    "import os\n",
    "soas_dataset_path = os.path.join(os.environ['CAI_DATA_BASE_PATH'], \"raw_datasets/SOAS-part-of-speech/Texts\")\n",
    "simplifiers_path = os.path.join(os.environ['CAI_DATA_BASE_PATH'], \"raw_datasets/Esukhia-SOAS-pos-simplification\")"
   ]
  },
  {
   "cell_type": "code",
   "execution_count": 3,
   "metadata": {},
   "outputs": [],
   "source": [
    "tagged_words = df \\\n",
    "    .read_csv(os.path.join(soas_dataset_path, \"*-horizontal.txt\"), header=None, names=[\"folio\"]) \\\n",
    "    .folio \\\n",
    "    .str.split(' ') \\\n",
    "    .explode()"
   ]
  },
  {
   "cell_type": "code",
   "execution_count": 4,
   "metadata": {},
   "outputs": [
    {
     "data": {
      "text/plain": [
       "319955"
      ]
     },
     "execution_count": 4,
     "metadata": {},
     "output_type": "execute_result"
    }
   ],
   "source": [
    "tagged_words.count().compute()"
   ]
  },
  {
   "cell_type": "code",
   "execution_count": 5,
   "metadata": {},
   "outputs": [
    {
     "data": {
      "text/plain": [
       "0               བདེ་བ|n.v.invar\n",
       "0                  ར་|case.term\n",
       "0             གཤེགས་པ|n.v.invar\n",
       "0                  འི་|case.gen\n",
       "0                བསྟན་བ|n.v.fut\n",
       "0                  འི་|case.gen\n",
       "0         གསལ་བྱེད་ཆོས་|n.count\n",
       "0                 ཀྱི་|case.gen\n",
       "0    འབྱུང་གནས་གསུང་རབ་|n.count\n",
       "0                 རིན་པོ་ཆེ|adj\n",
       "Name: folio, dtype: object"
      ]
     },
     "execution_count": 5,
     "metadata": {},
     "output_type": "execute_result"
    }
   ],
   "source": [
    "tagged_words.head(10)"
   ]
  },
  {
   "cell_type": "code",
   "execution_count": 6,
   "metadata": {},
   "outputs": [
    {
     "data": {
      "text/plain": [
       "(tagged_word    318230\n",
       " dtype: int64,\n",
       "                      tagged_word\n",
       " 0             [བདེ་བ, n.v.invar]\n",
       " 1                [ར་, case.term]\n",
       " 2           [གཤེགས་པ, n.v.invar]\n",
       " 3                [འི་, case.gen]\n",
       " 4              [བསྟན་བ, n.v.fut]\n",
       " 5                [འི་, case.gen]\n",
       " 6       [གསལ་བྱེད་ཆོས་, n.count]\n",
       " 7               [ཀྱི་, case.gen]\n",
       " 8  [འབྱུང་གནས་གསུང་རབ་, n.count]\n",
       " 9               [རིན་པོ་ཆེ, adj])"
      ]
     },
     "execution_count": 6,
     "metadata": {},
     "output_type": "execute_result"
    }
   ],
   "source": [
    "pos_tags_df = df.from_array(tagged_words.str.split('|').values, columns=['tagged_word'])\n",
    "pos_tags_df = pos_tags_df[pos_tags_df.tagged_word.map(len) == 2]\n",
    "pos_tags_df.count().compute(), pos_tags_df.head(10)"
   ]
  },
  {
   "cell_type": "code",
   "execution_count": 7,
   "metadata": {},
   "outputs": [
    {
     "data": {
      "text/html": [
       "<div>\n",
       "<style scoped>\n",
       "    .dataframe tbody tr th:only-of-type {\n",
       "        vertical-align: middle;\n",
       "    }\n",
       "\n",
       "    .dataframe tbody tr th {\n",
       "        vertical-align: top;\n",
       "    }\n",
       "\n",
       "    .dataframe thead th {\n",
       "        text-align: right;\n",
       "    }\n",
       "</style>\n",
       "<table border=\"1\" class=\"dataframe\">\n",
       "  <thead>\n",
       "    <tr style=\"text-align: right;\">\n",
       "      <th></th>\n",
       "      <th>word</th>\n",
       "      <th>tag</th>\n",
       "    </tr>\n",
       "  </thead>\n",
       "  <tbody>\n",
       "    <tr>\n",
       "      <th>0</th>\n",
       "      <td>བདེ་བ</td>\n",
       "      <td>n.v.invar</td>\n",
       "    </tr>\n",
       "    <tr>\n",
       "      <th>1</th>\n",
       "      <td>ར་</td>\n",
       "      <td>case.term</td>\n",
       "    </tr>\n",
       "    <tr>\n",
       "      <th>2</th>\n",
       "      <td>གཤེགས་པ</td>\n",
       "      <td>n.v.invar</td>\n",
       "    </tr>\n",
       "    <tr>\n",
       "      <th>3</th>\n",
       "      <td>འི་</td>\n",
       "      <td>case.gen</td>\n",
       "    </tr>\n",
       "    <tr>\n",
       "      <th>4</th>\n",
       "      <td>བསྟན་བ</td>\n",
       "      <td>n.v.fut</td>\n",
       "    </tr>\n",
       "    <tr>\n",
       "      <th>5</th>\n",
       "      <td>འི་</td>\n",
       "      <td>case.gen</td>\n",
       "    </tr>\n",
       "    <tr>\n",
       "      <th>6</th>\n",
       "      <td>གསལ་བྱེད་ཆོས་</td>\n",
       "      <td>n.count</td>\n",
       "    </tr>\n",
       "    <tr>\n",
       "      <th>7</th>\n",
       "      <td>ཀྱི་</td>\n",
       "      <td>case.gen</td>\n",
       "    </tr>\n",
       "    <tr>\n",
       "      <th>8</th>\n",
       "      <td>འབྱུང་གནས་གསུང་རབ་</td>\n",
       "      <td>n.count</td>\n",
       "    </tr>\n",
       "    <tr>\n",
       "      <th>9</th>\n",
       "      <td>རིན་པོ་ཆེ</td>\n",
       "      <td>adj</td>\n",
       "    </tr>\n",
       "  </tbody>\n",
       "</table>\n",
       "</div>"
      ],
      "text/plain": [
       "                 word        tag\n",
       "0               བདེ་བ  n.v.invar\n",
       "1                  ར་  case.term\n",
       "2             གཤེགས་པ  n.v.invar\n",
       "3                 འི་   case.gen\n",
       "4              བསྟན་བ    n.v.fut\n",
       "5                 འི་   case.gen\n",
       "6       གསལ་བྱེད་ཆོས་    n.count\n",
       "7                ཀྱི་   case.gen\n",
       "8  འབྱུང་གནས་གསུང་རབ་    n.count\n",
       "9           རིན་པོ་ཆེ        adj"
      ]
     },
     "execution_count": 7,
     "metadata": {},
     "output_type": "execute_result"
    }
   ],
   "source": [
    "pos_tags_df['word'] = pos_tags_df.tagged_word.map(lambda x: x[0])\n",
    "pos_tags_df['tag'] = pos_tags_df.tagged_word.map(lambda x: x[1])\n",
    "del pos_tags_df['tagged_word']\n",
    "pos_tags_df.head(10)"
   ]
  },
  {
   "cell_type": "markdown",
   "metadata": {},
   "source": [
    "## Transform the tags if needed"
   ]
  },
  {
   "cell_type": "code",
   "execution_count": 8,
   "metadata": {},
   "outputs": [],
   "source": [
    "with open(os.path.join(simplifiers_path, \"regex-SOAS-to-UD-BOD.txt\"), 'r') as f:\n",
    "    tag_mapping = f.read()\n",
    "tag_mapping = eval(tag_mapping.replace('\\n', '').replace(' ', ''))\n",
    "tag_mapping = {left_tag: right_elem for left_elem, right_elem in tag_mapping for left_tag in left_elem.strip('(').strip(')').split('|')}\n",
    "# tag_mapping"
   ]
  },
  {
   "cell_type": "code",
   "execution_count": 9,
   "metadata": {},
   "outputs": [],
   "source": [
    "with open(os.path.join(simplifiers_path, \"regex-UD-BOD-to-UD-ENG.txt\"), 'r') as f:\n",
    "    tag_remapping = f.read()\n",
    "tag_remapping = eval(tag_remapping.replace('\\n', '').replace(' ', ''))\n",
    "tag_remapping = {left_tag: right_elem for left_elem, right_elem in tag_remapping for left_tag in left_elem.strip('(').strip(')').split('|')}\n",
    "# tag_remapping"
   ]
  },
  {
   "cell_type": "code",
   "execution_count": 10,
   "metadata": {},
   "outputs": [],
   "source": [
    "pos_tags_df[\"tag\"] = pos_tags_df.tag.map(lambda tag: tag_mapping.get(tag, \"unk\"))\n",
    "pos_tags_df[\"tag\"] = pos_tags_df.tag.map(lambda tag: tag_remapping.get(tag, \"unk\"))"
   ]
  },
  {
   "cell_type": "code",
   "execution_count": 11,
   "metadata": {},
   "outputs": [
    {
     "data": {
      "text/plain": [
       "(6278, 318230, 0.019727869779719073)"
      ]
     },
     "execution_count": 11,
     "metadata": {},
     "output_type": "execute_result"
    }
   ],
   "source": [
    "len(pos_tags_df[pos_tags_df.tag == \"unk\"].compute()), \\\n",
    "    len(pos_tags_df.compute()), len(pos_tags_df[pos_tags_df.tag == \"unk\"].compute()) / len(pos_tags_df.compute())"
   ]
  },
  {
   "cell_type": "code",
   "execution_count": 12,
   "metadata": {},
   "outputs": [
    {
     "data": {
      "text/html": [
       "<div>\n",
       "<style scoped>\n",
       "    .dataframe tbody tr th:only-of-type {\n",
       "        vertical-align: middle;\n",
       "    }\n",
       "\n",
       "    .dataframe tbody tr th {\n",
       "        vertical-align: top;\n",
       "    }\n",
       "\n",
       "    .dataframe thead th {\n",
       "        text-align: right;\n",
       "    }\n",
       "</style>\n",
       "<table border=\"1\" class=\"dataframe\">\n",
       "  <thead>\n",
       "    <tr style=\"text-align: right;\">\n",
       "      <th></th>\n",
       "      <th>word</th>\n",
       "      <th>tag</th>\n",
       "    </tr>\n",
       "  </thead>\n",
       "  <tbody>\n",
       "    <tr>\n",
       "      <th>0</th>\n",
       "      <td>བདེ་བ</td>\n",
       "      <td>NOUN</td>\n",
       "    </tr>\n",
       "    <tr>\n",
       "      <th>1</th>\n",
       "      <td>ར་</td>\n",
       "      <td>PART</td>\n",
       "    </tr>\n",
       "    <tr>\n",
       "      <th>2</th>\n",
       "      <td>གཤེགས་པ</td>\n",
       "      <td>NOUN</td>\n",
       "    </tr>\n",
       "    <tr>\n",
       "      <th>3</th>\n",
       "      <td>འི་</td>\n",
       "      <td>ADP</td>\n",
       "    </tr>\n",
       "    <tr>\n",
       "      <th>4</th>\n",
       "      <td>བསྟན་བ</td>\n",
       "      <td>NOUN</td>\n",
       "    </tr>\n",
       "  </tbody>\n",
       "</table>\n",
       "</div>"
      ],
      "text/plain": [
       "      word   tag\n",
       "0    བདེ་བ  NOUN\n",
       "1       ར་  PART\n",
       "2  གཤེགས་པ  NOUN\n",
       "3      འི་   ADP\n",
       "4   བསྟན་བ  NOUN"
      ]
     },
     "execution_count": 12,
     "metadata": {},
     "output_type": "execute_result"
    }
   ],
   "source": [
    "pos_tags_df.head()"
   ]
  },
  {
   "cell_type": "code",
   "execution_count": 13,
   "metadata": {},
   "outputs": [
    {
     "data": {
      "text/plain": [
       "0    །\n",
       "1    ༑\n",
       "Name: word, dtype: object"
      ]
     },
     "execution_count": 13,
     "metadata": {},
     "output_type": "execute_result"
    }
   ],
   "source": [
    "pos_tags_df[pos_tags_df.tag == 'PUNCT'].word.unique().compute()"
   ]
  },
  {
   "cell_type": "code",
   "execution_count": 14,
   "metadata": {},
   "outputs": [
    {
     "data": {
      "text/plain": [
       "4"
      ]
     },
     "execution_count": 14,
     "metadata": {},
     "output_type": "execute_result"
    }
   ],
   "source": [
    "pos_tags_df.npartitions"
   ]
  },
  {
   "cell_type": "markdown",
   "metadata": {},
   "source": [
    "# Concatenate intra-tsheg tokens"
   ]
  },
  {
   "cell_type": "code",
   "execution_count": 15,
   "metadata": {},
   "outputs": [],
   "source": [
    "import pandas as pd\n",
    "\n",
    "from tqdm.notebook import tqdm"
   ]
  },
  {
   "cell_type": "code",
   "execution_count": 16,
   "metadata": {},
   "outputs": [],
   "source": [
    "concat_df = pos_tags_df.compute()"
   ]
  },
  {
   "cell_type": "code",
   "execution_count": 17,
   "metadata": {},
   "outputs": [
    {
     "data": {
      "application/vnd.jupyter.widget-view+json": {
       "model_id": "f70db57df92e4e2e9aa38cbd036c74d5",
       "version_major": 2,
       "version_minor": 0
      },
      "text/plain": [
       "  0%|          | 0/318230 [00:00<?, ?it/s]"
      ]
     },
     "metadata": {},
     "output_type": "display_data"
    }
   ],
   "source": [
    "words, tags = [], []\n",
    "cur_word, cur_tags = \"\", []\n",
    "for _, row in tqdm(concat_df.iterrows(), total=len(concat_df)):\n",
    "    if row.tag == 'PUNCT':\n",
    "        if len(cur_word) > 0 and len(cur_tags) > 0:\n",
    "            words.append(cur_word)\n",
    "            tags.append('+'.join(cur_tags))\n",
    "        words.append(row.word)\n",
    "        tags.append(row.tag)\n",
    "        cur_word, cur_tags = \"\", []\n",
    "        continue\n",
    "    cur_word += row.word\n",
    "    cur_tags.append(row.tag)\n",
    "    if row.word[-1] == '་':\n",
    "        if len(cur_word) == 0 and len(cur_tags) == 0:\n",
    "            continue\n",
    "        words.append(cur_word)\n",
    "        tags.append('+'.join(cur_tags))\n",
    "        cur_word, cur_tags = \"\", []"
   ]
  },
  {
   "cell_type": "code",
   "execution_count": 18,
   "metadata": {},
   "outputs": [],
   "source": [
    "concat_tags_df = df.from_pandas(\n",
    "    pd.DataFrame({\n",
    "        \"section\": words,\n",
    "        \"tags\": tags}),\n",
    "    npartitions=10)"
   ]
  },
  {
   "cell_type": "code",
   "execution_count": 19,
   "metadata": {},
   "outputs": [
    {
     "data": {
      "text/html": [
       "<div>\n",
       "<style scoped>\n",
       "    .dataframe tbody tr th:only-of-type {\n",
       "        vertical-align: middle;\n",
       "    }\n",
       "\n",
       "    .dataframe tbody tr th {\n",
       "        vertical-align: top;\n",
       "    }\n",
       "\n",
       "    .dataframe thead th {\n",
       "        text-align: right;\n",
       "    }\n",
       "</style>\n",
       "<table border=\"1\" class=\"dataframe\">\n",
       "  <thead>\n",
       "    <tr style=\"text-align: right;\">\n",
       "      <th></th>\n",
       "      <th>section</th>\n",
       "      <th>tags</th>\n",
       "    </tr>\n",
       "  </thead>\n",
       "  <tbody>\n",
       "    <tr>\n",
       "      <th>0</th>\n",
       "      <td>བདེ་བར་</td>\n",
       "      <td>NOUN+PART</td>\n",
       "    </tr>\n",
       "    <tr>\n",
       "      <th>1</th>\n",
       "      <td>གཤེགས་པའི་</td>\n",
       "      <td>NOUN+ADP</td>\n",
       "    </tr>\n",
       "    <tr>\n",
       "      <th>2</th>\n",
       "      <td>བསྟན་བའི་</td>\n",
       "      <td>NOUN+ADP</td>\n",
       "    </tr>\n",
       "    <tr>\n",
       "      <th>3</th>\n",
       "      <td>གསལ་བྱེད་ཆོས་</td>\n",
       "      <td>NOUN</td>\n",
       "    </tr>\n",
       "    <tr>\n",
       "      <th>4</th>\n",
       "      <td>ཀྱི་</td>\n",
       "      <td>ADP</td>\n",
       "    </tr>\n",
       "    <tr>\n",
       "      <th>5</th>\n",
       "      <td>འབྱུང་གནས་གསུང་རབ་</td>\n",
       "      <td>NOUN</td>\n",
       "    </tr>\n",
       "    <tr>\n",
       "      <th>6</th>\n",
       "      <td>རིན་པོ་ཆེའི་</td>\n",
       "      <td>ADJ+ADP</td>\n",
       "    </tr>\n",
       "    <tr>\n",
       "      <th>7</th>\n",
       "      <td>མཛོད་</td>\n",
       "      <td>NOUN</td>\n",
       "    </tr>\n",
       "    <tr>\n",
       "      <th>8</th>\n",
       "      <td>ཅེས་</td>\n",
       "      <td>unk</td>\n",
       "    </tr>\n",
       "    <tr>\n",
       "      <th>9</th>\n",
       "      <td>བྱ་བ</td>\n",
       "      <td>NOUN</td>\n",
       "    </tr>\n",
       "  </tbody>\n",
       "</table>\n",
       "</div>"
      ],
      "text/plain": [
       "              section       tags\n",
       "0             བདེ་བར་  NOUN+PART\n",
       "1          གཤེགས་པའི་   NOUN+ADP\n",
       "2           བསྟན་བའི་   NOUN+ADP\n",
       "3       གསལ་བྱེད་ཆོས་       NOUN\n",
       "4                ཀྱི་        ADP\n",
       "5  འབྱུང་གནས་གསུང་རབ་       NOUN\n",
       "6        རིན་པོ་ཆེའི་    ADJ+ADP\n",
       "7               མཛོད་       NOUN\n",
       "8                ཅེས་        unk\n",
       "9                བྱ་བ       NOUN"
      ]
     },
     "execution_count": 19,
     "metadata": {},
     "output_type": "execute_result"
    }
   ],
   "source": [
    "concat_tags_df.head(10)"
   ]
  },
  {
   "cell_type": "code",
   "execution_count": 20,
   "metadata": {},
   "outputs": [
    {
     "data": {
      "text/plain": [
       "<AxesSubplot:xlabel='tags'>"
      ]
     },
     "execution_count": 20,
     "metadata": {},
     "output_type": "execute_result"
    },
    {
     "data": {
      "image/png": "[encoded data removed]",
      "text/plain": [
       "<Figure size 1440x576 with 1 Axes>"
      ]
     },
     "metadata": {
      "needs_background": "light"
     },
     "output_type": "display_data"
    }
   ],
   "source": [
    "tag_counts = concat_tags_df.groupby(\"tags\").count().compute().section.sort_values(ascending=False)\n",
    "tag_counts.plot(kind='bar', figsize=(20, 8))"
   ]
  },
  {
   "cell_type": "code",
   "execution_count": 21,
   "metadata": {},
   "outputs": [
    {
     "data": {
      "text/plain": [
       "(tags\n",
       " NOUN          68081\n",
       " PUNCT         42354\n",
       " PART          33718\n",
       " ADP           32118\n",
       " VERB          30536\n",
       " NOUN+ADP      12943\n",
       " CCONJ         12535\n",
       " NOUN+PART      8501\n",
       " DET            6473\n",
       " NUM            5803\n",
       " PROPN          5497\n",
       " unk            5179\n",
       " PRON           4379\n",
       " ADJ            3794\n",
       " ADV            3071\n",
       " AUX            2840\n",
       " DET+ADP        1862\n",
       " PROPN+ADP      1165\n",
       " PRON+ADP        764\n",
       " DET+PART        700\n",
       " VERB+PART       659\n",
       " ADJ+ADP         542\n",
       " ADV+PART        440\n",
       " ADJ+PART        403\n",
       " unk+unk         369\n",
       " PART+ADP        330\n",
       " unk+ADP         271\n",
       " PROPN+PART      247\n",
       " VERB+ADP        221\n",
       " NUM+ADP         219\n",
       " PART+PART       191\n",
       " NUM+PART        118\n",
       " ADV+ADP         113\n",
       " Name: section, dtype: int64,\n",
       " 0.9969198213844446,\n",
       " 33)"
      ]
     },
     "execution_count": 21,
     "metadata": {},
     "output_type": "execute_result"
    }
   ],
   "source": [
    "tag_counts[tag_counts > 100], (tag_counts[tag_counts > 100]).sum() / tag_counts.sum(), (tag_counts > 100).sum()"
   ]
  },
  {
   "cell_type": "markdown",
   "metadata": {},
   "source": [
    "## Replace rare tags with unk"
   ]
  },
  {
   "cell_type": "code",
   "execution_count": 22,
   "metadata": {},
   "outputs": [
    {
     "data": {
      "text/plain": [
       "'PROPN+PROPN, PART+NOUN+ADP, PART+unk, NOUN+ADV, PROPN+unk, PART+DET+PART, PRON+CCONJ, ADP+PROPN, VERB+NOUN+ADP, PRON+ADV, VERB+VERB, PART+unk+unk, NOUN+VERB, PART+NOUN, unk+CCONJ, NUM+NUM+ADP, PART+PRON, unk+NOUN, PART+ADV+PART, NUM+NOUN+ADP, INTJ+ADP, NOUN+CCONJ, NOUN+NOUN+PART, VERB+ADV+PART, NOUN+DET, PRON+PART, PROPN+unk+ADP, NOUN+ADP+PART, NOUN+ADP+VERB+NOUN, PART+CCONJ, X, PART+DET, ADP+ADP, ADP+CCONJ, VERB+DET+PART, PROPN+NOUN+PART, INTJ, X+PART, ADJ+PROPN, NUM+NOUN, AUX+NOUN, NUM+ADV, NOUN+DET+ADP, PART+NUM, PART+PROPN+ADP, VERB+unk, NUM+PROPN+ADP, NOUN+ADP+NOUN, PART+PROPN, PART+NOUN+PART, NOUN+NOUN, VERB+PRON+ADP, NUM+NOUN+PART, ADJ+CCONJ, ADP+AUX, VERB+PRON, AUX+PROPN, PROPN+NOUN, PART+ADV, ADP+NOUN, PROPN+CCONJ, NOUN+NOUN+ADP, NOUN+ADJ, ADP+PART, NUM+PROPN, NOUN+ADP+NOUN+PART, NUM+NUM, unk+NOUN+ADP, PRON+VERB, VERB+PART+PART, PROPN+NOUN+ADP, ADJ+NOUN, NOUN+PART+NOUN+PART, NOUN+PROPN+ADP, DET+CCONJ, VERB+DET+ADP, unk+PART, VERB+ADV+ADP, CCONJ+ADP, VERB+PROPN+ADP, PART+VERB, NOUN+PART+VERB, PART+PRON+ADP, DET+ADJ, ADP+VERB+PART, VERB+NUM, VERB+NOUN, VERB+ADJ, PART+ADJ, VERB+PROPN, NUM+DET, VERB+ADV, VERB+DET, PROPN+PROPN+ADP, ADP+ADV, NUM+VERB, VERB+PART+ADP, VERB+NOUN+PART, CCONJ+PART, PART+DET+ADP'"
      ]
     },
     "execution_count": 22,
     "metadata": {},
     "output_type": "execute_result"
    }
   ],
   "source": [
    "to_replace = set(tag_counts[tag_counts <= 100].index.to_list())\n",
    "', '.join(to_replace)"
   ]
  },
  {
   "cell_type": "code",
   "execution_count": 23,
   "metadata": {},
   "outputs": [
    {
     "data": {
      "text/plain": [
       "5179"
      ]
     },
     "execution_count": 23,
     "metadata": {},
     "output_type": "execute_result"
    }
   ],
   "source": [
    "len(concat_tags_df[concat_tags_df.tags == 'unk'])"
   ]
  },
  {
   "cell_type": "code",
   "execution_count": 24,
   "metadata": {},
   "outputs": [],
   "source": [
    "concat_tags_df['tags'] = concat_tags_df.tags.map(lambda tag: 'unk' if tag in to_replace else tag)"
   ]
  },
  {
   "cell_type": "code",
   "execution_count": 25,
   "metadata": {},
   "outputs": [
    {
     "data": {
      "text/plain": [
       "6064"
      ]
     },
     "execution_count": 25,
     "metadata": {},
     "output_type": "execute_result"
    }
   ],
   "source": [
    "len(concat_tags_df[concat_tags_df.tags == 'unk'])"
   ]
  },
  {
   "cell_type": "code",
   "execution_count": 26,
   "metadata": {},
   "outputs": [
    {
     "data": {
      "text/plain": [
       "33"
      ]
     },
     "execution_count": 26,
     "metadata": {},
     "output_type": "execute_result"
    }
   ],
   "source": [
    "concat_tags_df.tags.unique().count().compute()"
   ]
  },
  {
   "cell_type": "code",
   "execution_count": 27,
   "metadata": {},
   "outputs": [],
   "source": [
    "pos_tags_df = concat_tags_df"
   ]
  },
  {
   "cell_type": "code",
   "execution_count": 28,
   "metadata": {},
   "outputs": [
    {
     "data": {
      "text/html": [
       "<div>\n",
       "<style scoped>\n",
       "    .dataframe tbody tr th:only-of-type {\n",
       "        vertical-align: middle;\n",
       "    }\n",
       "\n",
       "    .dataframe tbody tr th {\n",
       "        vertical-align: top;\n",
       "    }\n",
       "\n",
       "    .dataframe thead th {\n",
       "        text-align: right;\n",
       "    }\n",
       "</style>\n",
       "<table border=\"1\" class=\"dataframe\">\n",
       "  <thead>\n",
       "    <tr style=\"text-align: right;\">\n",
       "      <th></th>\n",
       "      <th>section</th>\n",
       "      <th>tags</th>\n",
       "    </tr>\n",
       "  </thead>\n",
       "  <tbody>\n",
       "    <tr>\n",
       "      <th>0</th>\n",
       "      <td>བདེ་བར་</td>\n",
       "      <td>NOUN+PART</td>\n",
       "    </tr>\n",
       "    <tr>\n",
       "      <th>1</th>\n",
       "      <td>གཤེགས་པའི་</td>\n",
       "      <td>NOUN+ADP</td>\n",
       "    </tr>\n",
       "    <tr>\n",
       "      <th>2</th>\n",
       "      <td>བསྟན་བའི་</td>\n",
       "      <td>NOUN+ADP</td>\n",
       "    </tr>\n",
       "    <tr>\n",
       "      <th>3</th>\n",
       "      <td>གསལ་བྱེད་ཆོས་</td>\n",
       "      <td>NOUN</td>\n",
       "    </tr>\n",
       "    <tr>\n",
       "      <th>4</th>\n",
       "      <td>ཀྱི་</td>\n",
       "      <td>ADP</td>\n",
       "    </tr>\n",
       "    <tr>\n",
       "      <th>5</th>\n",
       "      <td>འབྱུང་གནས་གསུང་རབ་</td>\n",
       "      <td>NOUN</td>\n",
       "    </tr>\n",
       "    <tr>\n",
       "      <th>6</th>\n",
       "      <td>རིན་པོ་ཆེའི་</td>\n",
       "      <td>ADJ+ADP</td>\n",
       "    </tr>\n",
       "    <tr>\n",
       "      <th>7</th>\n",
       "      <td>མཛོད་</td>\n",
       "      <td>NOUN</td>\n",
       "    </tr>\n",
       "    <tr>\n",
       "      <th>8</th>\n",
       "      <td>ཅེས་</td>\n",
       "      <td>unk</td>\n",
       "    </tr>\n",
       "    <tr>\n",
       "      <th>9</th>\n",
       "      <td>བྱ་བ</td>\n",
       "      <td>NOUN</td>\n",
       "    </tr>\n",
       "    <tr>\n",
       "      <th>10</th>\n",
       "      <td>།</td>\n",
       "      <td>PUNCT</td>\n",
       "    </tr>\n",
       "    <tr>\n",
       "      <th>11</th>\n",
       "      <td>བཅོམ་ལྡན་འདས་</td>\n",
       "      <td>NOUN</td>\n",
       "    </tr>\n",
       "    <tr>\n",
       "      <th>12</th>\n",
       "      <td>ཤཱཀྱ་སེང་གེ་</td>\n",
       "      <td>PROPN</td>\n",
       "    </tr>\n",
       "    <tr>\n",
       "      <th>13</th>\n",
       "      <td>ལ་</td>\n",
       "      <td>ADP</td>\n",
       "    </tr>\n",
       "    <tr>\n",
       "      <th>14</th>\n",
       "      <td>ཕྱག་</td>\n",
       "      <td>NOUN</td>\n",
       "    </tr>\n",
       "  </tbody>\n",
       "</table>\n",
       "</div>"
      ],
      "text/plain": [
       "               section       tags\n",
       "0              བདེ་བར་  NOUN+PART\n",
       "1           གཤེགས་པའི་   NOUN+ADP\n",
       "2            བསྟན་བའི་   NOUN+ADP\n",
       "3        གསལ་བྱེད་ཆོས་       NOUN\n",
       "4                 ཀྱི་        ADP\n",
       "5   འབྱུང་གནས་གསུང་རབ་       NOUN\n",
       "6         རིན་པོ་ཆེའི་    ADJ+ADP\n",
       "7                མཛོད་       NOUN\n",
       "8                 ཅེས་        unk\n",
       "9                 བྱ་བ       NOUN\n",
       "10                   །      PUNCT\n",
       "11       བཅོམ་ལྡན་འདས་       NOUN\n",
       "12        ཤཱཀྱ་སེང་གེ་      PROPN\n",
       "13                  ལ་        ADP\n",
       "14                ཕྱག་       NOUN"
      ]
     },
     "execution_count": 28,
     "metadata": {},
     "output_type": "execute_result"
    }
   ],
   "source": [
    "pos_tags_df.head(15)"
   ]
  },
  {
   "cell_type": "markdown",
   "metadata": {},
   "source": [
    "# Tokenization that first concatenates consecutive words"
   ]
  },
  {
   "cell_type": "markdown",
   "metadata": {},
   "source": [
    "## Concatenate"
   ]
  },
  {
   "cell_type": "code",
   "execution_count": 29,
   "metadata": {},
   "outputs": [],
   "source": [
    "import pandas as pd\n",
    "\n",
    "from tqdm.notebook import tqdm"
   ]
  },
  {
   "cell_type": "code",
   "execution_count": 30,
   "metadata": {},
   "outputs": [],
   "source": [
    "pos_tags_df = pos_tags_df.compute()"
   ]
  },
  {
   "cell_type": "code",
   "execution_count": 31,
   "metadata": {},
   "outputs": [
    {
     "data": {
      "application/vnd.jupyter.widget-view+json": {
       "model_id": "49c1dbe39cdb452b98cf8adc0989a03a",
       "version_major": 2,
       "version_minor": 0
      },
      "text/plain": [
       "  0%|          | 0/287321 [00:00<?, ?it/s]"
      ]
     },
     "metadata": {},
     "output_type": "display_data"
    }
   ],
   "source": [
    "sections, tags = [], []\n",
    "cur_section, cur_tags = \"\", []\n",
    "for _, row in tqdm(pos_tags_df.iterrows(), total=len(pos_tags_df)):\n",
    "    cur_section += row.section\n",
    "    cur_tags.append(row.tags)\n",
    "    if row.tags == 'PUNCT':\n",
    "        sections.append(cur_section)\n",
    "        tags.append('|'.join(cur_tags))\n",
    "        cur_section, cur_tags = \"\", []\n",
    "    else:\n",
    "        cur_section += '|'"
   ]
  },
  {
   "cell_type": "code",
   "execution_count": 32,
   "metadata": {},
   "outputs": [
    {
     "data": {
      "text/plain": [
       "(42354, 42354)"
      ]
     },
     "execution_count": 32,
     "metadata": {},
     "output_type": "execute_result"
    }
   ],
   "source": [
    "len(sections), len(tags)"
   ]
  },
  {
   "cell_type": "code",
   "execution_count": 33,
   "metadata": {},
   "outputs": [
    {
     "data": {
      "text/html": [
       "<div>\n",
       "<style scoped>\n",
       "    .dataframe tbody tr th:only-of-type {\n",
       "        vertical-align: middle;\n",
       "    }\n",
       "\n",
       "    .dataframe tbody tr th {\n",
       "        vertical-align: top;\n",
       "    }\n",
       "\n",
       "    .dataframe thead th {\n",
       "        text-align: right;\n",
       "    }\n",
       "</style>\n",
       "<table border=\"1\" class=\"dataframe\">\n",
       "  <thead>\n",
       "    <tr style=\"text-align: right;\">\n",
       "      <th></th>\n",
       "      <th>section</th>\n",
       "      <th>tags</th>\n",
       "    </tr>\n",
       "  </thead>\n",
       "  <tbody>\n",
       "    <tr>\n",
       "      <th>0</th>\n",
       "      <td>བདེ་བར་</td>\n",
       "      <td>NOUN+PART</td>\n",
       "    </tr>\n",
       "    <tr>\n",
       "      <th>1</th>\n",
       "      <td>གཤེགས་པའི་</td>\n",
       "      <td>NOUN+ADP</td>\n",
       "    </tr>\n",
       "    <tr>\n",
       "      <th>2</th>\n",
       "      <td>བསྟན་བའི་</td>\n",
       "      <td>NOUN+ADP</td>\n",
       "    </tr>\n",
       "    <tr>\n",
       "      <th>3</th>\n",
       "      <td>གསལ་བྱེད་ཆོས་</td>\n",
       "      <td>NOUN</td>\n",
       "    </tr>\n",
       "    <tr>\n",
       "      <th>4</th>\n",
       "      <td>ཀྱི་</td>\n",
       "      <td>ADP</td>\n",
       "    </tr>\n",
       "    <tr>\n",
       "      <th>5</th>\n",
       "      <td>འབྱུང་གནས་གསུང་རབ་</td>\n",
       "      <td>NOUN</td>\n",
       "    </tr>\n",
       "    <tr>\n",
       "      <th>6</th>\n",
       "      <td>རིན་པོ་ཆེའི་</td>\n",
       "      <td>ADJ+ADP</td>\n",
       "    </tr>\n",
       "    <tr>\n",
       "      <th>7</th>\n",
       "      <td>མཛོད་</td>\n",
       "      <td>NOUN</td>\n",
       "    </tr>\n",
       "    <tr>\n",
       "      <th>8</th>\n",
       "      <td>ཅེས་</td>\n",
       "      <td>unk</td>\n",
       "    </tr>\n",
       "    <tr>\n",
       "      <th>9</th>\n",
       "      <td>བྱ་བ</td>\n",
       "      <td>NOUN</td>\n",
       "    </tr>\n",
       "  </tbody>\n",
       "</table>\n",
       "</div>"
      ],
      "text/plain": [
       "              section       tags\n",
       "0             བདེ་བར་  NOUN+PART\n",
       "1          གཤེགས་པའི་   NOUN+ADP\n",
       "2           བསྟན་བའི་   NOUN+ADP\n",
       "3       གསལ་བྱེད་ཆོས་       NOUN\n",
       "4                ཀྱི་        ADP\n",
       "5  འབྱུང་གནས་གསུང་རབ་       NOUN\n",
       "6        རིན་པོ་ཆེའི་    ADJ+ADP\n",
       "7               མཛོད་       NOUN\n",
       "8                ཅེས་        unk\n",
       "9                བྱ་བ       NOUN"
      ]
     },
     "execution_count": 33,
     "metadata": {},
     "output_type": "execute_result"
    }
   ],
   "source": [
    "pos_tags_df.head(10)"
   ]
  },
  {
   "cell_type": "code",
   "execution_count": 34,
   "metadata": {},
   "outputs": [
    {
     "data": {
      "text/plain": [
       "('བདེ་བར་|གཤེགས་པའི་|བསྟན་བའི་|གསལ་བྱེད་ཆོས་|ཀྱི་|འབྱུང་གནས་གསུང་རབ་|རིན་པོ་ཆེའི་|མཛོད་|ཅེས་|བྱ་བ|།',\n",
       " 'NOUN+PART|NOUN+ADP|NOUN+ADP|NOUN|ADP|NOUN|ADJ+ADP|NOUN|unk|NOUN|PUNCT')"
      ]
     },
     "execution_count": 34,
     "metadata": {},
     "output_type": "execute_result"
    }
   ],
   "source": [
    "sections[0], tags[0]"
   ]
  },
  {
   "cell_type": "code",
   "execution_count": 35,
   "metadata": {},
   "outputs": [],
   "source": [
    "concat_tags_df = df.from_pandas(\n",
    "    pd.DataFrame({\n",
    "        \"section\": sections,\n",
    "        \"tags\": tags}),\n",
    "    npartitions=10)"
   ]
  },
  {
   "cell_type": "code",
   "execution_count": 36,
   "metadata": {},
   "outputs": [],
   "source": [
    "concat_tags_df = concat_tags_df[concat_tags_df.tags != 'PUNCT']"
   ]
  },
  {
   "cell_type": "code",
   "execution_count": 37,
   "metadata": {},
   "outputs": [
    {
     "data": {
      "text/html": [
       "<div>\n",
       "<style scoped>\n",
       "    .dataframe tbody tr th:only-of-type {\n",
       "        vertical-align: middle;\n",
       "    }\n",
       "\n",
       "    .dataframe tbody tr th {\n",
       "        vertical-align: top;\n",
       "    }\n",
       "\n",
       "    .dataframe thead th {\n",
       "        text-align: right;\n",
       "    }\n",
       "</style>\n",
       "<table border=\"1\" class=\"dataframe\">\n",
       "  <thead>\n",
       "    <tr style=\"text-align: right;\">\n",
       "      <th></th>\n",
       "      <th>section</th>\n",
       "      <th>tags</th>\n",
       "    </tr>\n",
       "  </thead>\n",
       "  <tbody>\n",
       "    <tr>\n",
       "      <th>0</th>\n",
       "      <td>བདེ་བར་|གཤེགས་པའི་|བསྟན་བའི་|གསལ་བྱེད་ཆོས་|ཀྱི...</td>\n",
       "      <td>NOUN+PART|NOUN+ADP|NOUN+ADP|NOUN|ADP|NOUN|ADJ+...</td>\n",
       "    </tr>\n",
       "    <tr>\n",
       "      <th>1</th>\n",
       "      <td>བཅོམ་ལྡན་འདས་|ཤཱཀྱ་སེང་གེ་|ལ་|ཕྱག་|འཚལ་|ལོ|།</td>\n",
       "      <td>NOUN|PROPN|ADP|NOUN|VERB|PART|PUNCT</td>\n",
       "    </tr>\n",
       "    <tr>\n",
       "      <th>3</th>\n",
       "      <td>གང་|ཞིག་|ཐུགས་བསྐྱེད་དགེ་ཚོགས་བདུད་རྩིའི་|ཟས་ཅ...</td>\n",
       "      <td>PART|PART|NOUN+ADP|NOUN|ADP|VERB|NOUN+ADP|NOUN...</td>\n",
       "    </tr>\n",
       "    <tr>\n",
       "      <th>5</th>\n",
       "      <td>སྐུ་|གསུམ་|མཐར་|ཕྱིན་རིན་ཆེན་རང་བཞིན་དཔག་ཡས་སྨ...</td>\n",
       "      <td>NOUN|NUM|NOUN+PART|NOUN|VERB|VERB|NOUN|NOUN+AD...</td>\n",
       "    </tr>\n",
       "    <tr>\n",
       "      <th>7</th>\n",
       "      <td>སྒྲིབ་|གཉིས་|ཆུ་འཛིན་|བྲལ་བའི་|བྱ་ལམ་|ཡངས་པར་|...</td>\n",
       "      <td>NOUN|NUM|NOUN|NOUN+ADP|NOUN|ADJ+PART|VERB|PART...</td>\n",
       "    </tr>\n",
       "    <tr>\n",
       "      <th>9</th>\n",
       "      <td>དྲི་མེད་གསུང་ཟེར་ཚ་ཟེར་|བྱེད་པའི་|འོད་ཟེར་བྱེ་...</td>\n",
       "      <td>NOUN|NOUN+ADP|ADJ|NOUN|NOUN|ADP|PUNCT</td>\n",
       "    </tr>\n",
       "    <tr>\n",
       "      <th>11</th>\n",
       "      <td>རབ་བྱུང་སྦྱིན་དགྲ་ཡིད་|ཀྱི་|སྲུབས་ཤིང་|གཙུག་ན་...</td>\n",
       "      <td>NOUN|ADP|NOUN|NOUN|NOUN|NOUN|NOUN|NOUN|PART|PUNCT</td>\n",
       "    </tr>\n",
       "    <tr>\n",
       "      <th>13</th>\n",
       "      <td>སྲིད་|གསུམ་|འདི་|ན་|སྟོན་པར་|ཁས་འཆེ་|ཆེ་བར་|མང...</td>\n",
       "      <td>NOUN|NUM|DET|ADP|NOUN+PART|NOUN|NOUN+PART|NOUN...</td>\n",
       "    </tr>\n",
       "    <tr>\n",
       "      <th>15</th>\n",
       "      <td>ཐུབ་པ་|སེར་སྐྱ་|རྐང་མིག་པ་|དང་|རིག་བྱེད་|གཞུང་...</td>\n",
       "      <td>NOUN|PROPN|PROPN|CCONJ|PROPN|NOUN|NOUN+ADP|NOU...</td>\n",
       "    </tr>\n",
       "    <tr>\n",
       "      <th>17</th>\n",
       "      <td>རྒྱས་པ་|རྔ་བོང་|གྲོག་མཁར་བ་|སོགས་|འབྱུང་པོའི་|...</td>\n",
       "      <td>PROPN|PROPN|PROPN|PART|NOUN+ADP|NOUN|NOUN|PART...</td>\n",
       "    </tr>\n",
       "  </tbody>\n",
       "</table>\n",
       "</div>"
      ],
      "text/plain": [
       "                                              section  \\\n",
       "0   བདེ་བར་|གཤེགས་པའི་|བསྟན་བའི་|གསལ་བྱེད་ཆོས་|ཀྱི...   \n",
       "1        བཅོམ་ལྡན་འདས་|ཤཱཀྱ་སེང་གེ་|ལ་|ཕྱག་|འཚལ་|ལོ|།   \n",
       "3   གང་|ཞིག་|ཐུགས་བསྐྱེད་དགེ་ཚོགས་བདུད་རྩིའི་|ཟས་ཅ...   \n",
       "5   སྐུ་|གསུམ་|མཐར་|ཕྱིན་རིན་ཆེན་རང་བཞིན་དཔག་ཡས་སྨ...   \n",
       "7   སྒྲིབ་|གཉིས་|ཆུ་འཛིན་|བྲལ་བའི་|བྱ་ལམ་|ཡངས་པར་|...   \n",
       "9   དྲི་མེད་གསུང་ཟེར་ཚ་ཟེར་|བྱེད་པའི་|འོད་ཟེར་བྱེ་...   \n",
       "11  རབ་བྱུང་སྦྱིན་དགྲ་ཡིད་|ཀྱི་|སྲུབས་ཤིང་|གཙུག་ན་...   \n",
       "13  སྲིད་|གསུམ་|འདི་|ན་|སྟོན་པར་|ཁས་འཆེ་|ཆེ་བར་|མང...   \n",
       "15  ཐུབ་པ་|སེར་སྐྱ་|རྐང་མིག་པ་|དང་|རིག་བྱེད་|གཞུང་...   \n",
       "17  རྒྱས་པ་|རྔ་བོང་|གྲོག་མཁར་བ་|སོགས་|འབྱུང་པོའི་|...   \n",
       "\n",
       "                                                 tags  \n",
       "0   NOUN+PART|NOUN+ADP|NOUN+ADP|NOUN|ADP|NOUN|ADJ+...  \n",
       "1                 NOUN|PROPN|ADP|NOUN|VERB|PART|PUNCT  \n",
       "3   PART|PART|NOUN+ADP|NOUN|ADP|VERB|NOUN+ADP|NOUN...  \n",
       "5   NOUN|NUM|NOUN+PART|NOUN|VERB|VERB|NOUN|NOUN+AD...  \n",
       "7   NOUN|NUM|NOUN|NOUN+ADP|NOUN|ADJ+PART|VERB|PART...  \n",
       "9               NOUN|NOUN+ADP|ADJ|NOUN|NOUN|ADP|PUNCT  \n",
       "11  NOUN|ADP|NOUN|NOUN|NOUN|NOUN|NOUN|NOUN|PART|PUNCT  \n",
       "13  NOUN|NUM|DET|ADP|NOUN+PART|NOUN|NOUN+PART|NOUN...  \n",
       "15  NOUN|PROPN|PROPN|CCONJ|PROPN|NOUN|NOUN+ADP|NOU...  \n",
       "17  PROPN|PROPN|PROPN|PART|NOUN+ADP|NOUN|NOUN|PART...  "
      ]
     },
     "execution_count": 37,
     "metadata": {},
     "output_type": "execute_result"
    }
   ],
   "source": [
    "concat_tags_df.head(10)"
   ]
  },
  {
   "cell_type": "markdown",
   "metadata": {},
   "source": [
    "## Tokenize"
   ]
  },
  {
   "cell_type": "code",
   "execution_count": 38,
   "metadata": {},
   "outputs": [],
   "source": [
    "from cai_manas.tokenizer import CAITokenizerSlow\n",
    "CAITokenizer = CAITokenizerSlow"
   ]
  },
  {
   "cell_type": "code",
   "execution_count": 39,
   "metadata": {},
   "outputs": [],
   "source": [
    "tibert_tkn = CAITokenizer.from_pretrained(CAITokenizer.get_local_model_dir(\"olive-large\"))\n",
    "tibert_tkn.tsheg_pretokenization = True"
   ]
  },
  {
   "cell_type": "code",
   "execution_count": 40,
   "metadata": {},
   "outputs": [],
   "source": [
    "import unicodedata\n",
    "\n",
    "def tokenize_section(section, tags, tibert_tkn):\n",
    "    section = section.replace('༌', '་')\n",
    "    section, tags = section.split('|'), tags.split('|')\n",
    "    joined_tokens = tibert_tkn.encode(''.join(section), add_special_tokens=False)\n",
    "    \n",
    "    tokens, final_tags = [], []\n",
    "    cur_tokens, cur_word, cur_tag = [], section[0], tags[0]\n",
    "    for token in joined_tokens:\n",
    "        cur_tokens.append(token)\n",
    "        if cur_word == tibert_tkn.decode(cur_tokens):\n",
    "            tokens.append(cur_tokens)\n",
    "            final_tags.append(cur_tag)\n",
    "            section, tags = section[1:], tags[1:]\n",
    "            if len(section) == 0:\n",
    "                break\n",
    "            cur_tokens, cur_word, cur_tag = [], section[0], tags[0]\n",
    "    if not len(section) == 0:\n",
    "        return \"BAD SECTION\"\n",
    "    assert len(section) == 0\n",
    "\n",
    "    return tokens"
   ]
  },
  {
   "cell_type": "code",
   "execution_count": 41,
   "metadata": {},
   "outputs": [
    {
     "data": {
      "text/plain": [
       "('བདེ་བར་|གཤེགས་པའི་|བསྟན་བའི་|གསལ་བྱེད་ཆོས་|ཀྱི་|འབྱུང་གནས་གསུང་རབ་|རིན་པོ་ཆེའི་|མཛོད་|ཅེས་|བྱ་བ|།',\n",
       " 'NOUN+PART|NOUN+ADP|NOUN+ADP|NOUN|ADP|NOUN|ADJ+ADP|NOUN|unk|NOUN|PUNCT')"
      ]
     },
     "execution_count": 41,
     "metadata": {},
     "output_type": "execute_result"
    }
   ],
   "source": [
    "section, tags = concat_tags_df.head(10).loc[0].section, concat_tags_df.head(10).loc[0].tags\n",
    "section, tags"
   ]
  },
  {
   "cell_type": "code",
   "execution_count": 42,
   "metadata": {},
   "outputs": [
    {
     "data": {
      "text/plain": [
       "[[558, 246],\n",
       " [2394, 88],\n",
       " [912, 137],\n",
       " [471, 57, 289],\n",
       " [117],\n",
       " [583, 212, 1828, 644],\n",
       " [1613, 52, 3225],\n",
       " [1029],\n",
       " [6680],\n",
       " [362, 9878],\n",
       " [9955]]"
      ]
     },
     "execution_count": 42,
     "metadata": {},
     "output_type": "execute_result"
    }
   ],
   "source": [
    "tokens = tokenize_section(section, tags, tibert_tkn)\n",
    "tokens"
   ]
  },
  {
   "cell_type": "code",
   "execution_count": 43,
   "metadata": {},
   "outputs": [
    {
     "data": {
      "text/plain": [
       "(['བདེ་བར་',\n",
       "  'གཤེགས་པའི་',\n",
       "  'བསྟན་བའི་',\n",
       "  'གསལ་བྱེད་ཆོས་',\n",
       "  'ཀྱི་',\n",
       "  'འབྱུང་གནས་གསུང་རབ་',\n",
       "  'རིན་པོ་ཆེའི་',\n",
       "  'མཛོད་',\n",
       "  'ཅེས་',\n",
       "  'བྱ་བ',\n",
       "  '།'],\n",
       " 'བདེ་བར་|གཤེགས་པའི་|བསྟན་བའི་|གསལ་བྱེད་ཆོས་|ཀྱི་|འབྱུང་གནས་གསུང་རབ་|རིན་པོ་ཆེའི་|མཛོད་|ཅེས་|བྱ་བ|།',\n",
       " 'བདེ་བར་གཤེགས་པའི་བསྟན་བའི་གསལ་བྱེད་ཆོས་ཀྱི་འབྱུང་གནས་གསུང་རབ་རིན་པོ་ཆེའི་མཛོད་ཅེས་བྱ་བ།')"
      ]
     },
     "execution_count": 43,
     "metadata": {},
     "output_type": "execute_result"
    }
   ],
   "source": [
    "[tibert_tkn.decode(cur_tokens) for cur_tokens in tokens], section, tibert_tkn.decode([x for _ in tokens for x in _])"
   ]
  },
  {
   "cell_type": "markdown",
   "metadata": {},
   "source": [
    "## Run tokenization"
   ]
  },
  {
   "cell_type": "code",
   "execution_count": 44,
   "metadata": {},
   "outputs": [
    {
     "name": "stderr",
     "output_type": "stream",
     "text": [
      "/home/eeisenst/miniconda3/envs/cai-garland/lib/python3.10/site-packages/dask/dataframe/core.py:5463: UserWarning: \n",
      "You did not provide metadata, so Dask is running your function on a small dataset to guess output types. It is possible that Dask will guess incorrectly.\n",
      "To provide an explicit output types or to silence this message, please provide the `meta=` keyword, as described in the map or apply function that you are using.\n",
      "  Before: .apply(func)\n",
      "  After:  .apply(func, meta=(None, 'object'))\n",
      "\n",
      "  warnings.warn(meta_warning(meta))\n"
     ]
    }
   ],
   "source": [
    "concat_tags_df['tokens'] = concat_tags_df.apply(lambda row: tokenize_section(row.section, row.tags, tibert_tkn), axis=1)"
   ]
  },
  {
   "cell_type": "code",
   "execution_count": 45,
   "metadata": {},
   "outputs": [],
   "source": [
    "local_dfs = concat_tags_df.compute()"
   ]
  },
  {
   "cell_type": "code",
   "execution_count": 46,
   "metadata": {},
   "outputs": [
    {
     "data": {
      "text/html": [
       "<div>\n",
       "<style scoped>\n",
       "    .dataframe tbody tr th:only-of-type {\n",
       "        vertical-align: middle;\n",
       "    }\n",
       "\n",
       "    .dataframe tbody tr th {\n",
       "        vertical-align: top;\n",
       "    }\n",
       "\n",
       "    .dataframe thead th {\n",
       "        text-align: right;\n",
       "    }\n",
       "</style>\n",
       "<table border=\"1\" class=\"dataframe\">\n",
       "  <thead>\n",
       "    <tr style=\"text-align: right;\">\n",
       "      <th></th>\n",
       "      <th>section</th>\n",
       "      <th>tags</th>\n",
       "      <th>tokens</th>\n",
       "    </tr>\n",
       "  </thead>\n",
       "  <tbody>\n",
       "    <tr>\n",
       "      <th>21188</th>\n",
       "      <td>1|།</td>\n",
       "      <td>NUM|PUNCT</td>\n",
       "      <td>BAD SECTION</td>\n",
       "    </tr>\n",
       "    <tr>\n",
       "      <th>21196</th>\n",
       "      <td>2|།</td>\n",
       "      <td>NUM|PUNCT</td>\n",
       "      <td>BAD SECTION</td>\n",
       "    </tr>\n",
       "    <tr>\n",
       "      <th>21204</th>\n",
       "      <td>3|།</td>\n",
       "      <td>NUM|PUNCT</td>\n",
       "      <td>BAD SECTION</td>\n",
       "    </tr>\n",
       "    <tr>\n",
       "      <th>21212</th>\n",
       "      <td>4|།</td>\n",
       "      <td>NUM|PUNCT</td>\n",
       "      <td>BAD SECTION</td>\n",
       "    </tr>\n",
       "    <tr>\n",
       "      <th>21219</th>\n",
       "      <td>འགྱུར་བ་|སྙིང་|ལ་|རྒྱལ་|ཀུན་|བྱིན་རླབས་|དུས་|ག...</td>\n",
       "      <td>NOUN|NOUN|ADP|NOUN|PART|NOUN|NOUN|NUM|unk|PUNCT</td>\n",
       "      <td>BAD SECTION</td>\n",
       "    </tr>\n",
       "    <tr>\n",
       "      <th>21227</th>\n",
       "      <td>6|།</td>\n",
       "      <td>NUM|PUNCT</td>\n",
       "      <td>BAD SECTION</td>\n",
       "    </tr>\n",
       "    <tr>\n",
       "      <th>21235</th>\n",
       "      <td>7|།</td>\n",
       "      <td>NUM|PUNCT</td>\n",
       "      <td>BAD SECTION</td>\n",
       "    </tr>\n",
       "    <tr>\n",
       "      <th>21243</th>\n",
       "      <td>8|།</td>\n",
       "      <td>NUM|PUNCT</td>\n",
       "      <td>BAD SECTION</td>\n",
       "    </tr>\n",
       "    <tr>\n",
       "      <th>21250</th>\n",
       "      <td>ཐར་པ་|མཆོག་|ལ་|མྱུར་|དུ་|གནས་པར་|ཤོག9|།</td>\n",
       "      <td>NOUN|ADJ|ADP|VERB|ADP|NOUN+PART|unk|PUNCT</td>\n",
       "      <td>BAD SECTION</td>\n",
       "    </tr>\n",
       "    <tr>\n",
       "      <th>21258</th>\n",
       "      <td>10|།</td>\n",
       "      <td>NUM|PUNCT</td>\n",
       "      <td>BAD SECTION</td>\n",
       "    </tr>\n",
       "    <tr>\n",
       "      <th>21266</th>\n",
       "      <td>11|།</td>\n",
       "      <td>NUM|PUNCT</td>\n",
       "      <td>BAD SECTION</td>\n",
       "    </tr>\n",
       "    <tr>\n",
       "      <th>21273</th>\n",
       "      <td>མར་སྟོན་|ཆོས་རྗེའི་|གོ་འཕང་|ཐོབ་པར་|ཤོག12|།</td>\n",
       "      <td>PROPN|NOUN+ADP|NOUN|NOUN+PART|unk|PUNCT</td>\n",
       "      <td>BAD SECTION</td>\n",
       "    </tr>\n",
       "    <tr>\n",
       "      <th>21280</th>\n",
       "      <td>ཕན་པ་|བླ་མེད་|བྱེད་པ་|ཉིད་|གྱུར་|ཅིག13|།</td>\n",
       "      <td>NOUN|ADJ|NOUN|PART|VERB|unk|PUNCT</td>\n",
       "      <td>BAD SECTION</td>\n",
       "    </tr>\n",
       "  </tbody>\n",
       "</table>\n",
       "</div>"
      ],
      "text/plain": [
       "                                                 section  \\\n",
       "21188                                                1|།   \n",
       "21196                                                2|།   \n",
       "21204                                                3|།   \n",
       "21212                                                4|།   \n",
       "21219  འགྱུར་བ་|སྙིང་|ལ་|རྒྱལ་|ཀུན་|བྱིན་རླབས་|དུས་|ག...   \n",
       "21227                                                6|།   \n",
       "21235                                                7|།   \n",
       "21243                                                8|།   \n",
       "21250            ཐར་པ་|མཆོག་|ལ་|མྱུར་|དུ་|གནས་པར་|ཤོག9|།   \n",
       "21258                                               10|།   \n",
       "21266                                               11|།   \n",
       "21273        མར་སྟོན་|ཆོས་རྗེའི་|གོ་འཕང་|ཐོབ་པར་|ཤོག12|།   \n",
       "21280           ཕན་པ་|བླ་མེད་|བྱེད་པ་|ཉིད་|གྱུར་|ཅིག13|།   \n",
       "\n",
       "                                                  tags       tokens  \n",
       "21188                                        NUM|PUNCT  BAD SECTION  \n",
       "21196                                        NUM|PUNCT  BAD SECTION  \n",
       "21204                                        NUM|PUNCT  BAD SECTION  \n",
       "21212                                        NUM|PUNCT  BAD SECTION  \n",
       "21219  NOUN|NOUN|ADP|NOUN|PART|NOUN|NOUN|NUM|unk|PUNCT  BAD SECTION  \n",
       "21227                                        NUM|PUNCT  BAD SECTION  \n",
       "21235                                        NUM|PUNCT  BAD SECTION  \n",
       "21243                                        NUM|PUNCT  BAD SECTION  \n",
       "21250        NOUN|ADJ|ADP|VERB|ADP|NOUN+PART|unk|PUNCT  BAD SECTION  \n",
       "21258                                        NUM|PUNCT  BAD SECTION  \n",
       "21266                                        NUM|PUNCT  BAD SECTION  \n",
       "21273          PROPN|NOUN+ADP|NOUN|NOUN+PART|unk|PUNCT  BAD SECTION  \n",
       "21280                NOUN|ADJ|NOUN|PART|VERB|unk|PUNCT  BAD SECTION  "
      ]
     },
     "execution_count": 46,
     "metadata": {},
     "output_type": "execute_result"
    }
   ],
   "source": [
    "local_dfs[local_dfs.tokens == 'BAD SECTION']"
   ]
  },
  {
   "cell_type": "markdown",
   "metadata": {},
   "source": [
    "## Save"
   ]
  },
  {
   "cell_type": "code",
   "execution_count": 47,
   "metadata": {},
   "outputs": [],
   "source": [
    "from tqdm.notebook import tqdm"
   ]
  },
  {
   "cell_type": "code",
   "execution_count": 48,
   "metadata": {},
   "outputs": [],
   "source": [
    "local_dfs = local_dfs[local_dfs.tokens != 'BAD SECTION']"
   ]
  },
  {
   "cell_type": "code",
   "execution_count": 49,
   "metadata": {},
   "outputs": [],
   "source": [
    "examples = []"
   ]
  },
  {
   "cell_type": "code",
   "execution_count": 50,
   "metadata": {},
   "outputs": [
    {
     "data": {
      "application/vnd.jupyter.widget-view+json": {
       "model_id": "ea74462d5ee042c8b824f7beb1dc590f",
       "version_major": 2,
       "version_minor": 0
      },
      "text/plain": [
       "  0%|          | 0/31296 [00:00<?, ?it/s]"
      ]
     },
     "metadata": {},
     "output_type": "display_data"
    }
   ],
   "source": [
    "for _, example in tqdm(local_dfs.iterrows(), total=len(local_dfs)):\n",
    "    examples.append((example.tokens, example.tags.split('|')))"
   ]
  },
  {
   "cell_type": "code",
   "execution_count": 51,
   "metadata": {},
   "outputs": [
    {
     "data": {
      "text/plain": [
       "([[558, 246],\n",
       "  [2394, 88],\n",
       "  [912, 137],\n",
       "  [471, 57, 289],\n",
       "  [117],\n",
       "  [583, 212, 1828, 644],\n",
       "  [1613, 52, 3225],\n",
       "  [1029],\n",
       "  [6680],\n",
       "  [362, 9878],\n",
       "  [9955]],\n",
       " ['NOUN+PART',\n",
       "  'NOUN+ADP',\n",
       "  'NOUN+ADP',\n",
       "  'NOUN',\n",
       "  'ADP',\n",
       "  'NOUN',\n",
       "  'ADJ+ADP',\n",
       "  'NOUN',\n",
       "  'unk',\n",
       "  'NOUN',\n",
       "  'PUNCT'])"
      ]
     },
     "execution_count": 51,
     "metadata": {},
     "output_type": "execute_result"
    }
   ],
   "source": [
    "examples[0]"
   ]
  },
  {
   "cell_type": "code",
   "execution_count": 52,
   "metadata": {},
   "outputs": [],
   "source": [
    "test_frac = 0.1"
   ]
  },
  {
   "cell_type": "code",
   "execution_count": 53,
   "metadata": {},
   "outputs": [],
   "source": [
    "import random"
   ]
  },
  {
   "cell_type": "code",
   "execution_count": 54,
   "metadata": {},
   "outputs": [
    {
     "data": {
      "text/plain": [
       "(28167, 3129)"
      ]
     },
     "execution_count": 54,
     "metadata": {},
     "output_type": "execute_result"
    }
   ],
   "source": [
    "train_data, test_data = [], []\n",
    "for ex in examples:\n",
    "    if random.random() < test_frac:\n",
    "        test_data.append(ex)\n",
    "    else:\n",
    "        train_data.append(ex)\n",
    "len(train_data), len(test_data)"
   ]
  },
  {
   "cell_type": "code",
   "execution_count": 55,
   "metadata": {},
   "outputs": [],
   "source": [
    "import pickle"
   ]
  },
  {
   "cell_type": "code",
   "execution_count": 58,
   "metadata": {},
   "outputs": [],
   "source": [
    "import os\n",
    "dataset_dir = os.path.join(os.environ['CAI_DATA_BASE_PATH'], \"processed_datasets/part-of-speech-intersyllabic-olive/\")\n",
    "\n",
    "with open(os.path.join(dataset_dir, \"dataset.pkl\"), 'wb') as f:\n",
    "    pickle.dump(examples, f)\n",
    "with open(os.path.join(dataset_dir, \"train.pkl\"), 'wb') as f:\n",
    "    pickle.dump(train_data, f)\n",
    "with open(os.path.join(dataset_dir, \"test.pkl\"), 'wb') as f:\n",
    "    pickle.dump(test_data, f)"
   ]
  },
  {
   "cell_type": "markdown",
   "metadata": {},
   "source": [
    "# Naive tokenization without concatenation"
   ]
  },
  {
   "cell_type": "markdown",
   "metadata": {},
   "source": [
    "## Tokenize"
   ]
  },
  {
   "cell_type": "code",
   "execution_count": 12,
   "metadata": {},
   "outputs": [],
   "source": [
    "import tibert.models.training as training"
   ]
  },
  {
   "cell_type": "code",
   "execution_count": 13,
   "metadata": {},
   "outputs": [],
   "source": [
    "tibert_tkn = training.make_tokenizer(tokenizer_name=\"tibert-bpe-large\")\n",
    "tibert_tkn.stochastic_tokenization = False\n",
    "tibert_tkn.tsheg_pretokenization = True"
   ]
  },
  {
   "cell_type": "code",
   "execution_count": 14,
   "metadata": {},
   "outputs": [
    {
     "data": {
      "text/html": [
       "<div>\n",
       "<style scoped>\n",
       "    .dataframe tbody tr th:only-of-type {\n",
       "        vertical-align: middle;\n",
       "    }\n",
       "\n",
       "    .dataframe tbody tr th {\n",
       "        vertical-align: top;\n",
       "    }\n",
       "\n",
       "    .dataframe thead th {\n",
       "        text-align: right;\n",
       "    }\n",
       "</style>\n",
       "<table border=\"1\" class=\"dataframe\">\n",
       "  <thead>\n",
       "    <tr style=\"text-align: right;\">\n",
       "      <th></th>\n",
       "      <th>word</th>\n",
       "      <th>tag</th>\n",
       "      <th>tokens</th>\n",
       "    </tr>\n",
       "  </thead>\n",
       "  <tbody>\n",
       "    <tr>\n",
       "      <th>0</th>\n",
       "      <td>བདེ་བ</td>\n",
       "      <td>NOUN</td>\n",
       "      <td>[558, 9878]</td>\n",
       "    </tr>\n",
       "    <tr>\n",
       "      <th>1</th>\n",
       "      <td>ར་</td>\n",
       "      <td>PART</td>\n",
       "      <td>[733]</td>\n",
       "    </tr>\n",
       "    <tr>\n",
       "      <th>2</th>\n",
       "      <td>གཤེགས་པ</td>\n",
       "      <td>NOUN</td>\n",
       "      <td>[3698, 9890]</td>\n",
       "    </tr>\n",
       "    <tr>\n",
       "      <th>3</th>\n",
       "      <td>འི་</td>\n",
       "      <td>ADP</td>\n",
       "      <td>[28, 14]</td>\n",
       "    </tr>\n",
       "    <tr>\n",
       "      <th>4</th>\n",
       "      <td>བསྟན་བ</td>\n",
       "      <td>NOUN</td>\n",
       "      <td>[1060, 9878]</td>\n",
       "    </tr>\n",
       "    <tr>\n",
       "      <th>5</th>\n",
       "      <td>འི་</td>\n",
       "      <td>ADP</td>\n",
       "      <td>[28, 14]</td>\n",
       "    </tr>\n",
       "    <tr>\n",
       "      <th>6</th>\n",
       "      <td>གསལ་བྱེད་ཆོས་</td>\n",
       "      <td>NOUN</td>\n",
       "      <td>[711, 57, 289]</td>\n",
       "    </tr>\n",
       "    <tr>\n",
       "      <th>7</th>\n",
       "      <td>ཀྱི་</td>\n",
       "      <td>ADP</td>\n",
       "      <td>[2944]</td>\n",
       "    </tr>\n",
       "    <tr>\n",
       "      <th>8</th>\n",
       "      <td>འབྱུང་གནས་གསུང་རབ་</td>\n",
       "      <td>NOUN</td>\n",
       "      <td>[956, 212, 1828, 644]</td>\n",
       "    </tr>\n",
       "    <tr>\n",
       "      <th>9</th>\n",
       "      <td>རིན་པོ་ཆེ</td>\n",
       "      <td>ADJ</td>\n",
       "      <td>[790, 52, 9893, 9885]</td>\n",
       "    </tr>\n",
       "  </tbody>\n",
       "</table>\n",
       "</div>"
      ],
      "text/plain": [
       "                 word   tag                 tokens\n",
       "0               བདེ་བ  NOUN            [558, 9878]\n",
       "1                  ར་  PART                  [733]\n",
       "2             གཤེགས་པ  NOUN           [3698, 9890]\n",
       "3                 འི་   ADP               [28, 14]\n",
       "4              བསྟན་བ  NOUN           [1060, 9878]\n",
       "5                 འི་   ADP               [28, 14]\n",
       "6       གསལ་བྱེད་ཆོས་  NOUN         [711, 57, 289]\n",
       "7                ཀྱི་   ADP                 [2944]\n",
       "8  འབྱུང་གནས་གསུང་རབ་  NOUN  [956, 212, 1828, 644]\n",
       "9           རིན་པོ་ཆེ   ADJ  [790, 52, 9893, 9885]"
      ]
     },
     "execution_count": 14,
     "metadata": {},
     "output_type": "execute_result"
    }
   ],
   "source": [
    "pos_tags_df['tokens'] = pos_tags_df.word.map(lambda word: tibert_tkn.encode(word, add_special_tokens=False))\n",
    "pos_tags_df.head(10)"
   ]
  },
  {
   "cell_type": "code",
   "execution_count": 15,
   "metadata": {},
   "outputs": [],
   "source": [
    "pos_tags_df = pos_tags_df.compute()"
   ]
  },
  {
   "cell_type": "markdown",
   "metadata": {},
   "source": [
    "## Save"
   ]
  },
  {
   "cell_type": "code",
   "execution_count": 16,
   "metadata": {},
   "outputs": [],
   "source": [
    "from tqdm.notebook import tqdm"
   ]
  },
  {
   "cell_type": "code",
   "execution_count": 17,
   "metadata": {},
   "outputs": [],
   "source": [
    "examples = []"
   ]
  },
  {
   "cell_type": "code",
   "execution_count": 18,
   "metadata": {},
   "outputs": [
    {
     "data": {
      "text/plain": [
       "318230"
      ]
     },
     "execution_count": 18,
     "metadata": {},
     "output_type": "execute_result"
    }
   ],
   "source": [
    "len(pos_tags_df)"
   ]
  },
  {
   "cell_type": "code",
   "execution_count": 19,
   "metadata": {},
   "outputs": [
    {
     "data": {
      "application/vnd.jupyter.widget-view+json": {
       "model_id": "7141cc189ee7413ca9862ed6a0e597d0",
       "version_major": 2,
       "version_minor": 0
      },
      "text/plain": [
       "HBox(children=(HTML(value=''), FloatProgress(value=1.0, bar_style='info', layout=Layout(width='20px'), max=1.0…"
      ]
     },
     "metadata": {},
     "output_type": "display_data"
    },
    {
     "name": "stdout",
     "output_type": "stream",
     "text": [
      "\n"
     ]
    }
   ],
   "source": [
    "for _, example in tqdm(pos_tags_df.iterrows()):\n",
    "    examples.append((example.tokens, example.tag))"
   ]
  },
  {
   "cell_type": "code",
   "execution_count": 20,
   "metadata": {},
   "outputs": [],
   "source": [
    "import pickle"
   ]
  },
  {
   "cell_type": "code",
   "execution_count": 21,
   "metadata": {},
   "outputs": [],
   "source": [
    "with open(\"/home/eeisenst/workspace/tibert_data/training/part-of-speech/soas_simple.pkl\", 'wb') as f:\n",
    "    pickle.dump(examples, f)"
   ]
  },
  {
   "cell_type": "markdown",
   "metadata": {},
   "source": [
    "## Check the pickle file"
   ]
  },
  {
   "cell_type": "code",
   "execution_count": 22,
   "metadata": {},
   "outputs": [],
   "source": [
    "import pickle"
   ]
  },
  {
   "cell_type": "code",
   "execution_count": 23,
   "metadata": {},
   "outputs": [],
   "source": [
    "with open(\"/home/eeisenst/workspace/tibert_data/training/part-of-speech/soas_simple.pkl\", 'rb') as f:\n",
    "    examples = pickle.load(f)"
   ]
  },
  {
   "cell_type": "code",
   "execution_count": 24,
   "metadata": {},
   "outputs": [
    {
     "data": {
      "text/plain": [
       "([3698, 9890], 'NOUN')"
      ]
     },
     "execution_count": 24,
     "metadata": {},
     "output_type": "execute_result"
    }
   ],
   "source": [
    "examples[2]"
   ]
  },
  {
   "cell_type": "markdown",
   "metadata": {},
   "source": [
    "# Test dataset object examples"
   ]
  },
  {
   "cell_type": "code",
   "execution_count": 1,
   "metadata": {},
   "outputs": [],
   "source": [
    "from tqdm.notebook import tqdm"
   ]
  },
  {
   "cell_type": "code",
   "execution_count": 2,
   "metadata": {},
   "outputs": [],
   "source": [
    "from tibert.models.pos_dataset import PoSDataset\n",
    "import tibert.models.training as training"
   ]
  },
  {
   "cell_type": "code",
   "execution_count": 3,
   "metadata": {},
   "outputs": [],
   "source": [
    "tibert_tkn = training.make_tokenizer(tokenizer_name=\"tibert-bpe-large\")\n",
    "tibert_tkn.stochastic_tokenization = False\n",
    "tibert_tkn.tsheg_pretokenization = True"
   ]
  },
  {
   "cell_type": "code",
   "execution_count": 4,
   "metadata": {},
   "outputs": [],
   "source": [
    "# PoSDataset.dupe_count = 10\n",
    "PoSDataset.preprocessed_dataset = \"/home/eeisenst/workspace/tibert_data/training/part-of-speech/soas_concat.pkl\"\n",
    "PoSDataset.use_mask_for_word_pieces = True"
   ]
  },
  {
   "cell_type": "code",
   "execution_count": 5,
   "metadata": {},
   "outputs": [
    {
     "data": {
      "application/vnd.jupyter.widget-view+json": {
       "model_id": "c9668a0b01c0431882daf289d660aad4",
       "version_major": 2,
       "version_minor": 0
      },
      "text/plain": [
       "HBox(children=(HTML(value='Example'), FloatProgress(value=0.0, max=31296.0), HTML(value='')))"
      ]
     },
     "metadata": {},
     "output_type": "display_data"
    },
    {
     "name": "stdout",
     "output_type": "stream",
     "text": [
      "\n"
     ]
    }
   ],
   "source": [
    "dataset = PoSDataset(tibert_tkn, verbose=True, tqdm=tqdm)"
   ]
  },
  {
   "cell_type": "code",
   "execution_count": 6,
   "metadata": {},
   "outputs": [
    {
     "data": {
      "text/plain": [
       "3473"
      ]
     },
     "execution_count": 6,
     "metadata": {},
     "output_type": "execute_result"
    }
   ],
   "source": [
    "len(dataset)"
   ]
  },
  {
   "cell_type": "code",
   "execution_count": 7,
   "metadata": {},
   "outputs": [
    {
     "data": {
      "text/plain": [
       "26"
      ]
     },
     "execution_count": 7,
     "metadata": {},
     "output_type": "execute_result"
    }
   ],
   "source": [
    "dataset.label_to_id_map['PUNCT']"
   ]
  },
  {
   "cell_type": "code",
   "execution_count": 8,
   "metadata": {},
   "outputs": [
    {
     "data": {
      "text/plain": [
       "(128, 272, 128, 128)"
      ]
     },
     "execution_count": 8,
     "metadata": {},
     "output_type": "execute_result"
    }
   ],
   "source": [
    "len(dataset[0].input_ids), len(dataset[0].label_ids), len(dataset[0].attention_mask), len(dataset[0].token_type_ids)"
   ]
  },
  {
   "cell_type": "code",
   "execution_count": 9,
   "metadata": {},
   "outputs": [
    {
     "data": {
      "text/plain": [
       "'2, 558, 246, 2394, 88, 912, 137, 471, 57, 289, 117, 583, 212, 1828, 644, 1613, 52, 3225, 1029, 6680, 362, 9878, 9955, 3397, 213, 1276, 9901, 9927, 2981, 1296, 458, 17, 1007, 2171, 9888, 9877, 9955, 463, 677, 2239, 1132, 1300, 323, 1518, 2696, 1114, 105, 191, 209, 4525, 11, 179, 33, 2583, 634, 6287, 1248, 1359, 9878, 9955, 399, 149, 1674, 1096, 1613, 119, 467, 386, 1795, 1054, 1933, 253, 3307, 363, 550, 213, 1947, 194, 752, 656, 108, 9955, 3271, 252, 316, 194, 656, 137, 362, 253, 1697, 109, 958, 1944, 1696, 2449, 3249, 475, 611, 323, 1162, 312, 9905, 9886, 9955, 0, 0, 0, 0, 0, 0, 0, 0, 0, 0, 0, 0, 0, 0, 0, 0, 0, 0, 0, 0, 0, 0, 3'"
      ]
     },
     "execution_count": 9,
     "metadata": {},
     "output_type": "execute_result"
    }
   ],
   "source": [
    "', '.join(map(str, dataset[0].input_ids))"
   ]
  },
  {
   "cell_type": "code",
   "execution_count": 10,
   "metadata": {},
   "outputs": [
    {
     "data": {
      "text/plain": [
       "'34, 14, 34, 34, 34, 34, 34, 34, 34, 34, 13, 34, 34, 34, 34, 34, 34, 34, 13, 34, 34, 34, 34, 34, 34, 34, 12, 34, 34, 34, 3, 34, 34, 12, 34, 34, 34, 1, 34, 34, 34, 34, 34, 34, 12, 34, 34, 34, 30, 34, 34, 12, 34, 34, 34, 26, 34, 34, 34, 34, 12, 34, 34, 34, 23, 34, 34, 34, 34, 3, 34, 34, 12, 34, 34, 34, 27, 34, 34, 34, 18, 34, 34, 34, 26, 34, 34, 34, 34, 18, 34, 34, 34, 18, 34, 34, 34, 13, 34, 34, 34, 34, 34, 34, 34, 12, 34, 34, 34, 3, 34, 34, 27, 34, 34, 34, 13, 34, 34, 34, 34, 34, 34, 34, 13, 34, 34, 34, 34, 34, 34, 34, 12, 34, 34, 34, 12, 34, 34, 34, 26, 34, 34, 34, 34, 12, 34, 34, 34, 15, 34, 34, 14, 34, 34, 34, 34, 34, 34, 34, 34, 12, 34, 34, 34, 27, 34, 34, 34, 27, 34, 34, 34, 12, 34, 34, 34, 13, 34, 34, 34, 34, 34, 34, 34, 26, 34, 34, 34, 34, 12, 34, 34, 34, 15, 34, 34, 12, 34, 34, 34, 13, 34, 34, 34, 34, 34, 34, 34, 12, 34, 34, 34, 2, 34, 34, 34, 34, 34, 34, 34, 27, 34, 34, 34, 18, 34, 34, 34, 12, 34, 34, 34, 12, 34, 34, 34, 18, 34, 34, 34, 0, 34, 34, 26, 34, 34, 34, 34, -100, -100, -100, -100, -100, -100, -100, -100, -100, -100, -100, -100, -100, -100, -100, -100, -100, -100, -100, -100, -100, -100, 34'"
      ]
     },
     "execution_count": 10,
     "metadata": {},
     "output_type": "execute_result"
    }
   ],
   "source": [
    "', '.join(map(str, dataset[0].label_ids))"
   ]
  },
  {
   "cell_type": "code",
   "execution_count": 12,
   "metadata": {},
   "outputs": [
    {
     "data": {
      "text/plain": [
       "'[MASK], NOUN+PART, [MASK], [MASK], [MASK], [MASK], [MASK], [MASK], [MASK], [MASK], NOUN+ADP, [MASK], [MASK], [MASK], [MASK], [MASK], [MASK], [MASK], NOUN+ADP, [MASK], [MASK], [MASK], [MASK], [MASK], [MASK], [MASK], NOUN, [MASK], [MASK], [MASK], ADP, [MASK], [MASK], NOUN, [MASK], [MASK], [MASK], ADJ+ADP, [MASK], [MASK], [MASK], [MASK], [MASK], [MASK], NOUN, [MASK], [MASK], [MASK], unk, [MASK], [MASK], NOUN, [MASK], [MASK], [MASK], PUNCT, [MASK], [MASK], [MASK], [MASK], NOUN, [MASK], [MASK], [MASK], PROPN, [MASK], [MASK], [MASK], [MASK], ADP, [MASK], [MASK], NOUN, [MASK], [MASK], [MASK], VERB, [MASK], [MASK], [MASK], PART, [MASK], [MASK], [MASK], PUNCT, [MASK], [MASK], [MASK], [MASK], PART, [MASK], [MASK], [MASK], PART, [MASK], [MASK], [MASK], NOUN+ADP, [MASK], [MASK], [MASK], [MASK], [MASK], [MASK], [MASK], NOUN, [MASK], [MASK], [MASK], ADP, [MASK], [MASK], VERB, [MASK], [MASK], [MASK], NOUN+ADP, [MASK], [MASK], [MASK], [MASK], [MASK], [MASK], [MASK], NOUN+ADP, [MASK], [MASK], [MASK], [MASK], [MASK], [MASK], [MASK], NOUN, [MASK], [MASK], [MASK], NOUN, [MASK], [MASK], [MASK], PUNCT, [MASK], [MASK], [MASK], [MASK], NOUN, [MASK], [MASK], [MASK], NUM, [MASK], [MASK], NOUN+PART, [MASK], [MASK], [MASK], [MASK], [MASK], [MASK], [MASK], [MASK], NOUN, [MASK], [MASK], [MASK], VERB, [MASK], [MASK], [MASK], VERB, [MASK], [MASK], [MASK], NOUN, [MASK], [MASK], [MASK], NOUN+ADP, [MASK], [MASK], [MASK], [MASK], [MASK], [MASK], [MASK], PUNCT, [MASK], [MASK], [MASK], [MASK], NOUN, [MASK], [MASK], [MASK], NUM, [MASK], [MASK], NOUN, [MASK], [MASK], [MASK], NOUN+ADP, [MASK], [MASK], [MASK], [MASK], [MASK], [MASK], [MASK], NOUN, [MASK], [MASK], [MASK], ADJ+PART, [MASK], [MASK], [MASK], [MASK], [MASK], [MASK], [MASK], VERB, [MASK], [MASK], [MASK], PART, [MASK], [MASK], [MASK], NOUN, [MASK], [MASK], [MASK], NOUN, [MASK], [MASK], [MASK], PART, [MASK], [MASK], [MASK], ADJ, [MASK], [MASK], PUNCT, [MASK], [MASK], [MASK], [MASK], <pad>, <pad>, <pad>, <pad>, <pad>, <pad>, <pad>, <pad>, <pad>, <pad>, <pad>, <pad>, <pad>, <pad>, <pad>, <pad>, <pad>, <pad>, <pad>, <pad>, <pad>, <pad>, [MASK]'"
      ]
     },
     "execution_count": 12,
     "metadata": {},
     "output_type": "execute_result"
    }
   ],
   "source": [
    "', '.join(map(lambda x: dataset.id_to_label_map[x], dataset[0].label_ids))"
   ]
  },
  {
   "cell_type": "code",
   "execution_count": 11,
   "metadata": {},
   "outputs": [
    {
     "data": {
      "text/plain": [
       "{0: 'ADJ',\n",
       " 1: 'ADJ+ADP',\n",
       " 2: 'ADJ+PART',\n",
       " 3: 'ADP',\n",
       " 4: 'ADV',\n",
       " 5: 'ADV+ADP',\n",
       " 6: 'ADV+PART',\n",
       " 7: 'AUX',\n",
       " 8: 'CCONJ',\n",
       " 9: 'DET',\n",
       " 10: 'DET+ADP',\n",
       " 11: 'DET+PART',\n",
       " 12: 'NOUN',\n",
       " 13: 'NOUN+ADP',\n",
       " 14: 'NOUN+PART',\n",
       " 15: 'NUM',\n",
       " 16: 'NUM+ADP',\n",
       " 17: 'NUM+PART',\n",
       " 18: 'PART',\n",
       " 19: 'PART+ADP',\n",
       " 20: 'PART+PART',\n",
       " 21: 'PRON',\n",
       " 22: 'PRON+ADP',\n",
       " 23: 'PROPN',\n",
       " 24: 'PROPN+ADP',\n",
       " 25: 'PROPN+PART',\n",
       " 26: 'PUNCT',\n",
       " 27: 'VERB',\n",
       " 28: 'VERB+ADP',\n",
       " 29: 'VERB+PART',\n",
       " 30: 'unk',\n",
       " 31: 'unk+ADP',\n",
       " 32: 'unk+unk',\n",
       " -100: '<pad>',\n",
       " 34: '[MASK]'}"
      ]
     },
     "execution_count": 11,
     "metadata": {},
     "output_type": "execute_result"
    }
   ],
   "source": [
    "dataset.id_to_label_map"
   ]
  },
  {
   "cell_type": "markdown",
   "metadata": {},
   "source": [
    "## Train/test split"
   ]
  },
  {
   "cell_type": "code",
   "execution_count": 48,
   "metadata": {},
   "outputs": [],
   "source": [
    "train_ds, test_ds = dataset.train_test_split()"
   ]
  },
  {
   "cell_type": "code",
   "execution_count": 49,
   "metadata": {},
   "outputs": [
    {
     "data": {
      "text/plain": [
       "(0.899251026818072, 0.100748973181928)"
      ]
     },
     "execution_count": 49,
     "metadata": {},
     "output_type": "execute_result"
    }
   ],
   "source": [
    "len(train_ds) / len(dataset), len(test_ds) / len(dataset) "
   ]
  },
  {
   "cell_type": "markdown",
   "metadata": {},
   "source": [
    "# Evaluation of a training run"
   ]
  },
  {
   "cell_type": "code",
   "execution_count": 1,
   "metadata": {},
   "outputs": [],
   "source": [
    "import pickle\n",
    "\n",
    "import torch\n",
    "from tibert.models.training import make_tokenizer\n",
    "from tibert.models.pos_dataset import PoSDataset\n",
    "\n",
    "from transformers import (\n",
    "    AutoConfig,\n",
    "    AlbertForTokenClassification,\n",
    "    HfArgumentParser,\n",
    "    Trainer,\n",
    "    TrainingArguments,\n",
    "    set_seed)"
   ]
  },
  {
   "cell_type": "code",
   "execution_count": 2,
   "metadata": {},
   "outputs": [],
   "source": [
    "tibert_tkn = make_tokenizer(tokenizer_name='tibert-bpe-large')\n",
    "tibert_tkn.stochastic_tokenization = False\n",
    "tibert_tkn.tsheg_pretokenization = True"
   ]
  },
  {
   "cell_type": "code",
   "execution_count": 3,
   "metadata": {},
   "outputs": [],
   "source": [
    "with open(\"../../tibert_data/training/models/pos-tagger-concat/train_dataset.pkl\", 'rb') as f:\n",
    "    train_data = pickle.load(f)\n",
    "with open(\"../../tibert_data/training/models/pos-tagger-concat/test_dataset.pkl\", 'rb') as f:\n",
    "    test_data = pickle.load(f)"
   ]
  },
  {
   "cell_type": "code",
   "execution_count": 4,
   "metadata": {},
   "outputs": [],
   "source": [
    "# with open(\"../../tibert_data/training/models/pos-tagger-no-marpa/train_dataset.pkl\", 'rb') as f:\n",
    "#     train_data = pickle.load(f)\n",
    "# # with open(\"../../tibert_data/training/models/pos-tagger-no-marpa/test_dataset.pkl\", 'rb') as f:\n",
    "# #     test_data = pickle.load(f)\n",
    "\n",
    "# PoSDataset.use_mask_for_word_pieces = True\n",
    "# test_data = PoSDataset(\n",
    "#     tibert_tkn,\n",
    "#     preprocessed_dataset=\"../../tibert_data/training/part-of-speech/soas_test.pkl\",\n",
    "#     label_to_id_map=train_data.label_to_id_map)"
   ]
  },
  {
   "cell_type": "code",
   "execution_count": 5,
   "metadata": {},
   "outputs": [
    {
     "data": {
      "text/plain": [
       "(3117, 354)"
      ]
     },
     "execution_count": 5,
     "metadata": {},
     "output_type": "execute_result"
    }
   ],
   "source": [
    "len(train_data), len(test_data)"
   ]
  },
  {
   "cell_type": "code",
   "execution_count": 6,
   "metadata": {},
   "outputs": [],
   "source": [
    "# tibert_mdl = AlbertForTokenClassification.from_pretrained(\n",
    "#     \"../../tibert_data/training/models/pos-tagger/pytorch_model.bin\",\n",
    "#     config=AutoConfig.from_pretrained(\n",
    "#         'albert-base-v2',\n",
    "#         vocab_size=10000,\n",
    "#         num_labels=len(test_data.label_to_id_map),\n",
    "#         id2label={id_: label for label, id_ in test_data.label_to_id_map.items()},\n",
    "#         label2id=test_data.label_to_id_map))\n",
    "\n",
    "tibert_mdl = AlbertForTokenClassification.from_pretrained(\n",
    "    \"../../tibert_data/training/models/pos-tagger-concat/checkpoint-best-f1/pytorch_model.bin\",\n",
    "    config=AutoConfig.from_pretrained(\n",
    "        'albert-base-v2',\n",
    "        vocab_size=10000,\n",
    "        num_labels=len(train_data.label_to_id_map),\n",
    "        id2label=train_data.id_to_label_map,\n",
    "        label2id=train_data.label_to_id_map))\n",
    "\n",
    "tibert_mdl.resize_token_embeddings(len(tibert_tkn))\n",
    "tibert_mdl.to('cpu')\n",
    "_ = tibert_mdl.eval()"
   ]
  },
  {
   "cell_type": "code",
   "execution_count": 7,
   "metadata": {},
   "outputs": [],
   "source": [
    "example = test_data[0]"
   ]
  },
  {
   "cell_type": "code",
   "execution_count": 8,
   "metadata": {},
   "outputs": [],
   "source": [
    "mdl_res = tibert_mdl(**{\n",
    "    'input_ids': torch.LongTensor([example.input_ids]),\n",
    "    'attention_mask': torch.LongTensor([example.attention_mask]),\n",
    "    'token_type_ids': torch.LongTensor([example.token_type_ids])})[0]"
   ]
  },
  {
   "cell_type": "code",
   "execution_count": 9,
   "metadata": {},
   "outputs": [
    {
     "data": {
      "text/plain": [
       "torch.Size([1, 128, 35])"
      ]
     },
     "execution_count": 9,
     "metadata": {},
     "output_type": "execute_result"
    }
   ],
   "source": [
    "mdl_res.shape"
   ]
  },
  {
   "cell_type": "code",
   "execution_count": 10,
   "metadata": {},
   "outputs": [],
   "source": [
    "import numpy as np"
   ]
  },
  {
   "cell_type": "code",
   "execution_count": 11,
   "metadata": {},
   "outputs": [],
   "source": [
    "preds = np.argmax(mdl_res.detach().numpy(), axis=2)[0].tolist()"
   ]
  },
  {
   "cell_type": "code",
   "execution_count": 12,
   "metadata": {},
   "outputs": [],
   "source": [
    "# [(x, y) for x, y in zip(preds, example.label_ids) if not y == -100]"
   ]
  },
  {
   "cell_type": "code",
   "execution_count": 13,
   "metadata": {},
   "outputs": [],
   "source": [
    "# [(x, y) for x, y in zip(preds, example.label_ids) if not y == -100 and not x == y]"
   ]
  },
  {
   "cell_type": "code",
   "execution_count": 14,
   "metadata": {},
   "outputs": [],
   "source": [
    "id_to_label_map = {id_: label for label, id_ in train_data.label_to_id_map.items()}"
   ]
  },
  {
   "cell_type": "code",
   "execution_count": 16,
   "metadata": {},
   "outputs": [
    {
     "data": {
      "text/plain": [
       "['<pad>',\n",
       " 'ADJ',\n",
       " 'ADJ+ADP',\n",
       " 'ADJ+PART',\n",
       " 'ADP',\n",
       " 'ADV',\n",
       " 'ADV+ADP',\n",
       " 'ADV+PART',\n",
       " 'AUX',\n",
       " 'CCONJ',\n",
       " 'DET',\n",
       " 'DET+ADP',\n",
       " 'DET+PART',\n",
       " 'NOUN',\n",
       " 'NOUN+ADP',\n",
       " 'NOUN+PART',\n",
       " 'NUM',\n",
       " 'NUM+ADP',\n",
       " 'NUM+PART',\n",
       " 'PART',\n",
       " 'PART+ADP',\n",
       " 'PART+PART',\n",
       " 'PRON',\n",
       " 'PRON+ADP',\n",
       " 'PROPN',\n",
       " 'PROPN+ADP',\n",
       " 'PROPN+PART',\n",
       " 'PUNCT',\n",
       " 'VERB',\n",
       " 'VERB+ADP',\n",
       " 'VERB+PART',\n",
       " '[MASK]',\n",
       " 'unk',\n",
       " 'unk+ADP',\n",
       " 'unk+unk']"
      ]
     },
     "execution_count": 16,
     "metadata": {},
     "output_type": "execute_result"
    }
   ],
   "source": [
    "sorted(id_to_label_map.values())"
   ]
  },
  {
   "cell_type": "code",
   "execution_count": 96,
   "metadata": {},
   "outputs": [],
   "source": [
    "# [(id_to_label_map[x], id_to_label_map[y]) for x, y in zip(preds, example.label_ids) if not y == -100 and not x == y]"
   ]
  },
  {
   "cell_type": "markdown",
   "metadata": {},
   "source": [
    "## Precision and recall by part-of-speech tag"
   ]
  },
  {
   "cell_type": "code",
   "execution_count": 17,
   "metadata": {},
   "outputs": [],
   "source": [
    "from tqdm.notebook import tqdm"
   ]
  },
  {
   "cell_type": "code",
   "execution_count": 18,
   "metadata": {},
   "outputs": [],
   "source": [
    "import pandas as pd\n",
    "import numpy as np"
   ]
  },
  {
   "cell_type": "code",
   "execution_count": 19,
   "metadata": {},
   "outputs": [],
   "source": [
    "from sklearn.metrics import precision_recall_fscore_support"
   ]
  },
  {
   "cell_type": "code",
   "execution_count": 20,
   "metadata": {},
   "outputs": [
    {
     "data": {
      "text/plain": [
       "(4042, 2533, 67)"
      ]
     },
     "execution_count": 20,
     "metadata": {},
     "output_type": "execute_result"
    }
   ],
   "source": [
    "train_tokens = set([token for example in train_data for token in example.input_ids])\n",
    "test_tokens = set([token for example in test_data for token in example.input_ids])\n",
    "test_only_tokens = test_tokens.difference(train_tokens)\n",
    "len(train_tokens), len(test_tokens), len(test_only_tokens)"
   ]
  },
  {
   "cell_type": "code",
   "execution_count": 21,
   "metadata": {},
   "outputs": [
    {
     "data": {
      "text/plain": [
       "torch.Size([354, 128])"
      ]
     },
     "execution_count": 21,
     "metadata": {},
     "output_type": "execute_result"
    }
   ],
   "source": [
    "input_ids = torch.LongTensor([example.input_ids for example in test_data])\n",
    "attention_mask = torch.LongTensor([example.attention_mask for example in test_data])\n",
    "token_type_ids = torch.LongTensor([example.token_type_ids for example in test_data])\n",
    "label_ids = np.array([example.label_ids for example in test_data])\n",
    "input_ids.shape"
   ]
  },
  {
   "cell_type": "code",
   "execution_count": 22,
   "metadata": {},
   "outputs": [
    {
     "data": {
      "application/vnd.jupyter.widget-view+json": {
       "model_id": "96f2b370f73349f1a4d264ef07df249b",
       "version_major": 2,
       "version_minor": 0
      },
      "text/plain": [
       "HBox(children=(HTML(value=''), FloatProgress(value=0.0, max=44.0), HTML(value='')))"
      ]
     },
     "metadata": {},
     "output_type": "display_data"
    },
    {
     "name": "stdout",
     "output_type": "stream",
     "text": [
      "\n",
      "Number of sequences: 70 70\n",
      "Word accuracy: (54, 69, 0.782608695652174)\n"
     ]
    }
   ],
   "source": [
    "ffill_masks = True\n",
    "test_only_examples = True\n",
    "\n",
    "def ffill_masks_np(arr):\n",
    "    arr_df = pd.DataFrame(arr.transpose())\n",
    "    for c in arr_df.columns:\n",
    "        arr_df[arr_df[c] == 4] = np.nan\n",
    "    arr_df = arr_df.fillna(method='ffill').fillna(-100)\n",
    "    return arr_df.values.transpose()\n",
    "\n",
    "def word_accuracy(preds, labels):\n",
    "    word_cnt, correct_words, = 0, 0\n",
    "    word_pred, word_label = None, None\n",
    "    for idx, (pred, label) in enumerate(zip(preds, labels)):\n",
    "        if not label == 4:\n",
    "            if word_pred is not None:\n",
    "                word_cnt += 1\n",
    "                correct_words += 1 if all([p == l for p, l in zip(word_pred, word_label)]) else 0\n",
    "            word_pred, word_label = [], []\n",
    "        word_pred.append(pred)\n",
    "        word_label.append(label)\n",
    "    return correct_words, word_cnt, correct_words / word_cnt\n",
    "\n",
    "preds, labels, batch_size = [], [], 8\n",
    "for idx in tqdm(range(batch_size, input_ids.shape[0], batch_size)):\n",
    "    cur_res = tibert_mdl(**{\n",
    "        'input_ids': input_ids[idx:idx + batch_size],\n",
    "        'attention_mask': attention_mask[idx:idx + batch_size],\n",
    "        'token_type_ids': token_type_ids[idx:idx + batch_size]})[0]\n",
    "    cur_preds = np.argmax(cur_res.detach().numpy(), axis=2)\n",
    "    cur_labels = label_ids[idx:idx + batch_size]\n",
    "    if ffill_masks:\n",
    "        cur_labels = ffill_masks_np(cur_labels)\n",
    "        cur_preds = ffill_masks_np(cur_preds)\n",
    "    non_padding = np.where(~(cur_labels == -100))\n",
    "    if test_only_examples:\n",
    "        cur_inputs = input_ids[idx:idx + batch_size][non_padding].tolist()\n",
    "        cur_preds, cur_labels = cur_preds[non_padding].tolist(), cur_labels[non_padding].tolist()\n",
    "        for idx, (pred, label) in enumerate(zip(cur_preds, cur_labels)):\n",
    "            if cur_inputs[idx] in test_only_tokens:\n",
    "                preds.append(pred)\n",
    "                labels.append(label)\n",
    "    else:\n",
    "        preds.extend(cur_preds[non_padding].tolist())\n",
    "        labels.extend(cur_labels[non_padding].tolist())\n",
    "preds, labels = [train_data.id_to_label_map[p] for p in preds], [train_data.id_to_label_map[l] for l in labels]\n",
    "print(\"Number of sequences:\", len(preds), len(labels))\n",
    "print(\"Word accuracy:\", word_accuracy(preds, labels))"
   ]
  },
  {
   "cell_type": "markdown",
   "metadata": {},
   "source": [
    "No-Marpa test set split"
   ]
  },
  {
   "cell_type": "code",
   "execution_count": null,
   "metadata": {},
   "outputs": [],
   "source": [
    "# All test sequences:\n",
    "precision_recall_fscore_support(preds, labels, average='weighted', zero_division=0)"
   ]
  },
  {
   "cell_type": "code",
   "execution_count": null,
   "metadata": {},
   "outputs": [],
   "source": [
    "# Tokens that appear only in test data:\n",
    "precision_recall_fscore_support(preds, labels, average='weighted', zero_division=0)"
   ]
  },
  {
   "cell_type": "markdown",
   "metadata": {},
   "source": [
    "Normal test set split"
   ]
  },
  {
   "cell_type": "code",
   "execution_count": 23,
   "metadata": {},
   "outputs": [
    {
     "data": {
      "text/plain": [
       "(0.7497906855049711, 0.7857142857142857, 0.7651224214382109, None)"
      ]
     },
     "execution_count": 23,
     "metadata": {},
     "output_type": "execute_result"
    }
   ],
   "source": [
    "# All test sequences:\n",
    "precision_recall_fscore_support(preds, labels, average='weighted', zero_division=0)"
   ]
  },
  {
   "cell_type": "code",
   "execution_count": 24,
   "metadata": {},
   "outputs": [
    {
     "data": {
      "text/plain": [
       "(0.7497906855049711, 0.7857142857142857, 0.7651224214382109, None)"
      ]
     },
     "execution_count": 24,
     "metadata": {},
     "output_type": "execute_result"
    }
   ],
   "source": [
    "# Tokens that appear only in the test data:\n",
    "precision_recall_fscore_support(preds, labels, average='weighted', zero_division=0)"
   ]
  },
  {
   "cell_type": "code",
   "execution_count": 25,
   "metadata": {},
   "outputs": [],
   "source": [
    "precision, recall, fscore, support = precision_recall_fscore_support(\n",
    "    preds,\n",
    "    labels,\n",
    "    zero_division=0,\n",
    "    labels=sorted(list(set(labels).union(set(preds)))))"
   ]
  },
  {
   "cell_type": "code",
   "execution_count": 26,
   "metadata": {},
   "outputs": [],
   "source": [
    "res_df = pd \\\n",
    "    .DataFrame(\n",
    "        {\n",
    "            \"precision\": precision,\n",
    "            \"recall\": recall,\n",
    "            \"fscore\": fscore,\n",
    "            \"support\": support},\n",
    "        index=[label for label in sorted(list(set(labels).union(set(preds))))]) \\\n",
    "    .sort_values('support')"
   ]
  },
  {
   "cell_type": "code",
   "execution_count": 27,
   "metadata": {},
   "outputs": [
    {
     "data": {
      "text/plain": [
       "<AxesSubplot:>"
      ]
     },
     "execution_count": 27,
     "metadata": {},
     "output_type": "execute_result"
    },
    {
     "data": {
      "image/png": "[encoded data removed]",
      "text/plain": [
       "<Figure size 1440x720 with 2 Axes>"
      ]
     },
     "metadata": {
      "needs_background": "light"
     },
     "output_type": "display_data"
    }
   ],
   "source": [
    "res_df[res_df.support > 0] \\\n",
    "    .plot(kind='bar', secondary_y='support', figsize=(20, 10))"
   ]
  },
  {
   "cell_type": "code",
   "execution_count": 28,
   "metadata": {},
   "outputs": [
    {
     "data": {
      "text/plain": [
       "<AxesSubplot:>"
      ]
     },
     "execution_count": 28,
     "metadata": {},
     "output_type": "execute_result"
    },
    {
     "data": {
      "image/png": "[encoded data removed]",
      "text/plain": [
       "<Figure size 1440x720 with 2 Axes>"
      ]
     },
     "metadata": {
      "needs_background": "light"
     },
     "output_type": "display_data"
    }
   ],
   "source": [
    "res_df[res_df.support > 0] \\\n",
    "    .sort_values('precision') \\\n",
    "    .plot(kind='bar', secondary_y='support', figsize=(20, 10))"
   ]
  },
  {
   "cell_type": "code",
   "execution_count": 29,
   "metadata": {},
   "outputs": [
    {
     "data": {
      "text/html": [
       "<div>\n",
       "<style scoped>\n",
       "    .dataframe tbody tr th:only-of-type {\n",
       "        vertical-align: middle;\n",
       "    }\n",
       "\n",
       "    .dataframe tbody tr th {\n",
       "        vertical-align: top;\n",
       "    }\n",
       "\n",
       "    .dataframe thead th {\n",
       "        text-align: right;\n",
       "    }\n",
       "</style>\n",
       "<table border=\"1\" class=\"dataframe\">\n",
       "  <thead>\n",
       "    <tr style=\"text-align: right;\">\n",
       "      <th></th>\n",
       "      <th>precision</th>\n",
       "      <th>recall</th>\n",
       "      <th>fscore</th>\n",
       "      <th>support</th>\n",
       "    </tr>\n",
       "  </thead>\n",
       "  <tbody>\n",
       "    <tr>\n",
       "      <th>ADJ</th>\n",
       "      <td>0.000000</td>\n",
       "      <td>0.000000</td>\n",
       "      <td>0.000000</td>\n",
       "      <td>0</td>\n",
       "    </tr>\n",
       "    <tr>\n",
       "      <th>PRON</th>\n",
       "      <td>0.000000</td>\n",
       "      <td>0.000000</td>\n",
       "      <td>0.000000</td>\n",
       "      <td>0</td>\n",
       "    </tr>\n",
       "    <tr>\n",
       "      <th>ADJ+ADP</th>\n",
       "      <td>0.000000</td>\n",
       "      <td>0.000000</td>\n",
       "      <td>0.000000</td>\n",
       "      <td>1</td>\n",
       "    </tr>\n",
       "    <tr>\n",
       "      <th>ADP</th>\n",
       "      <td>1.000000</td>\n",
       "      <td>1.000000</td>\n",
       "      <td>1.000000</td>\n",
       "      <td>1</td>\n",
       "    </tr>\n",
       "    <tr>\n",
       "      <th>unk</th>\n",
       "      <td>0.000000</td>\n",
       "      <td>0.000000</td>\n",
       "      <td>0.000000</td>\n",
       "      <td>1</td>\n",
       "    </tr>\n",
       "    <tr>\n",
       "      <th>NOUN+PART</th>\n",
       "      <td>0.500000</td>\n",
       "      <td>0.500000</td>\n",
       "      <td>0.500000</td>\n",
       "      <td>2</td>\n",
       "    </tr>\n",
       "    <tr>\n",
       "      <th>PART</th>\n",
       "      <td>1.000000</td>\n",
       "      <td>1.000000</td>\n",
       "      <td>1.000000</td>\n",
       "      <td>2</td>\n",
       "    </tr>\n",
       "    <tr>\n",
       "      <th>PROPN+ADP</th>\n",
       "      <td>1.000000</td>\n",
       "      <td>1.000000</td>\n",
       "      <td>1.000000</td>\n",
       "      <td>2</td>\n",
       "    </tr>\n",
       "    <tr>\n",
       "      <th>PUNCT</th>\n",
       "      <td>0.000000</td>\n",
       "      <td>0.000000</td>\n",
       "      <td>0.000000</td>\n",
       "      <td>3</td>\n",
       "    </tr>\n",
       "    <tr>\n",
       "      <th>NOUN+ADP</th>\n",
       "      <td>0.800000</td>\n",
       "      <td>0.800000</td>\n",
       "      <td>0.800000</td>\n",
       "      <td>5</td>\n",
       "    </tr>\n",
       "    <tr>\n",
       "      <th>PROPN</th>\n",
       "      <td>0.666667</td>\n",
       "      <td>0.571429</td>\n",
       "      <td>0.615385</td>\n",
       "      <td>7</td>\n",
       "    </tr>\n",
       "    <tr>\n",
       "      <th>VERB</th>\n",
       "      <td>0.857143</td>\n",
       "      <td>0.750000</td>\n",
       "      <td>0.800000</td>\n",
       "      <td>8</td>\n",
       "    </tr>\n",
       "    <tr>\n",
       "      <th>[MASK]</th>\n",
       "      <td>0.769231</td>\n",
       "      <td>0.909091</td>\n",
       "      <td>0.833333</td>\n",
       "      <td>11</td>\n",
       "    </tr>\n",
       "    <tr>\n",
       "      <th>NOUN</th>\n",
       "      <td>0.833333</td>\n",
       "      <td>0.925926</td>\n",
       "      <td>0.877193</td>\n",
       "      <td>27</td>\n",
       "    </tr>\n",
       "  </tbody>\n",
       "</table>\n",
       "</div>"
      ],
      "text/plain": [
       "           precision    recall    fscore  support\n",
       "ADJ         0.000000  0.000000  0.000000        0\n",
       "PRON        0.000000  0.000000  0.000000        0\n",
       "ADJ+ADP     0.000000  0.000000  0.000000        1\n",
       "ADP         1.000000  1.000000  1.000000        1\n",
       "unk         0.000000  0.000000  0.000000        1\n",
       "NOUN+PART   0.500000  0.500000  0.500000        2\n",
       "PART        1.000000  1.000000  1.000000        2\n",
       "PROPN+ADP   1.000000  1.000000  1.000000        2\n",
       "PUNCT       0.000000  0.000000  0.000000        3\n",
       "NOUN+ADP    0.800000  0.800000  0.800000        5\n",
       "PROPN       0.666667  0.571429  0.615385        7\n",
       "VERB        0.857143  0.750000  0.800000        8\n",
       "[MASK]      0.769231  0.909091  0.833333       11\n",
       "NOUN        0.833333  0.925926  0.877193       27"
      ]
     },
     "execution_count": 29,
     "metadata": {},
     "output_type": "execute_result"
    }
   ],
   "source": [
    "res_df"
   ]
  },
  {
   "cell_type": "code",
   "execution_count": 27,
   "metadata": {},
   "outputs": [
    {
     "data": {
      "text/plain": [
       "precision       0.942586\n",
       "recall          0.917128\n",
       "fscore          0.929683\n",
       "support      9219.000000\n",
       "Name: n.count, dtype: float64"
      ]
     },
     "execution_count": 27,
     "metadata": {},
     "output_type": "execute_result"
    }
   ],
   "source": [
    "res_df.loc['n.count']"
   ]
  },
  {
   "cell_type": "code",
   "execution_count": 28,
   "metadata": {},
   "outputs": [
    {
     "data": {
      "text/plain": [
       "precision       0.867360\n",
       "recall          0.864550\n",
       "fscore          0.865953\n",
       "support      1543.000000\n",
       "Name: v.invar, dtype: float64"
      ]
     },
     "execution_count": 28,
     "metadata": {},
     "output_type": "execute_result"
    }
   ],
   "source": [
    "res_df.loc['v.invar']"
   ]
  },
  {
   "cell_type": "code",
   "execution_count": 29,
   "metadata": {},
   "outputs": [],
   "source": [
    "tags = [\n",
    "    \"n.count\",\n",
    "    \"punc\",\n",
    "    \"case.gen\",\n",
    "    \"case.term\",\n",
    "    \"case.agn\",\n",
    "    \"v.past\",\n",
    "    \"n.v.invar\",\n",
    "    \"d.dem\",\n",
    "    \"case.all\",\n",
    "    \"v.invar\"]"
   ]
  },
  {
   "cell_type": "code",
   "execution_count": 30,
   "metadata": {},
   "outputs": [
    {
     "data": {
      "text/html": [
       "<div>\n",
       "<style scoped>\n",
       "    .dataframe tbody tr th:only-of-type {\n",
       "        vertical-align: middle;\n",
       "    }\n",
       "\n",
       "    .dataframe tbody tr th {\n",
       "        vertical-align: top;\n",
       "    }\n",
       "\n",
       "    .dataframe thead th {\n",
       "        text-align: right;\n",
       "    }\n",
       "</style>\n",
       "<table border=\"1\" class=\"dataframe\">\n",
       "  <thead>\n",
       "    <tr style=\"text-align: right;\">\n",
       "      <th></th>\n",
       "      <th>precision</th>\n",
       "      <th>recall</th>\n",
       "      <th>fscore</th>\n",
       "    </tr>\n",
       "  </thead>\n",
       "  <tbody>\n",
       "    <tr>\n",
       "      <th>n.count</th>\n",
       "      <td>0.942586</td>\n",
       "      <td>0.917128</td>\n",
       "      <td>0.929683</td>\n",
       "    </tr>\n",
       "    <tr>\n",
       "      <th>punc</th>\n",
       "      <td>1.000000</td>\n",
       "      <td>0.998272</td>\n",
       "      <td>0.999135</td>\n",
       "    </tr>\n",
       "    <tr>\n",
       "      <th>case.gen</th>\n",
       "      <td>0.992033</td>\n",
       "      <td>0.989634</td>\n",
       "      <td>0.990832</td>\n",
       "    </tr>\n",
       "    <tr>\n",
       "      <th>case.term</th>\n",
       "      <td>0.990136</td>\n",
       "      <td>0.990602</td>\n",
       "      <td>0.990369</td>\n",
       "    </tr>\n",
       "    <tr>\n",
       "      <th>case.agn</th>\n",
       "      <td>0.995083</td>\n",
       "      <td>0.991427</td>\n",
       "      <td>0.993252</td>\n",
       "    </tr>\n",
       "    <tr>\n",
       "      <th>v.past</th>\n",
       "      <td>0.959169</td>\n",
       "      <td>0.939649</td>\n",
       "      <td>0.949309</td>\n",
       "    </tr>\n",
       "    <tr>\n",
       "      <th>n.v.invar</th>\n",
       "      <td>0.946985</td>\n",
       "      <td>0.942612</td>\n",
       "      <td>0.944793</td>\n",
       "    </tr>\n",
       "    <tr>\n",
       "      <th>d.dem</th>\n",
       "      <td>0.981195</td>\n",
       "      <td>0.972588</td>\n",
       "      <td>0.976872</td>\n",
       "    </tr>\n",
       "    <tr>\n",
       "      <th>case.all</th>\n",
       "      <td>0.993956</td>\n",
       "      <td>0.991293</td>\n",
       "      <td>0.992622</td>\n",
       "    </tr>\n",
       "    <tr>\n",
       "      <th>v.invar</th>\n",
       "      <td>0.867360</td>\n",
       "      <td>0.864550</td>\n",
       "      <td>0.865953</td>\n",
       "    </tr>\n",
       "  </tbody>\n",
       "</table>\n",
       "</div>"
      ],
      "text/plain": [
       "           precision    recall    fscore\n",
       "n.count     0.942586  0.917128  0.929683\n",
       "punc        1.000000  0.998272  0.999135\n",
       "case.gen    0.992033  0.989634  0.990832\n",
       "case.term   0.990136  0.990602  0.990369\n",
       "case.agn    0.995083  0.991427  0.993252\n",
       "v.past      0.959169  0.939649  0.949309\n",
       "n.v.invar   0.946985  0.942612  0.944793\n",
       "d.dem       0.981195  0.972588  0.976872\n",
       "case.all    0.993956  0.991293  0.992622\n",
       "v.invar     0.867360  0.864550  0.865953"
      ]
     },
     "execution_count": 30,
     "metadata": {},
     "output_type": "execute_result"
    }
   ],
   "source": [
    "res_df[['precision', 'recall', 'fscore']].loc[tags]"
   ]
  },
  {
   "cell_type": "markdown",
   "metadata": {},
   "source": [
    "## Validate tokens"
   ]
  },
  {
   "cell_type": "code",
   "execution_count": 4,
   "metadata": {},
   "outputs": [],
   "source": [
    "example = test_data[13]"
   ]
  },
  {
   "cell_type": "code",
   "execution_count": 5,
   "metadata": {},
   "outputs": [
    {
     "data": {
      "text/plain": [
       "'2 1030 638 474 798 1714 16 4917 368 17 289 1720 246 31 9887 9877 9955 3018 251 9955 1860 251 186 3083 1025 912 109 31 9887 9877 9955 3018 731 198 846 137 1101 9880 9877 9955 1169 16 912 617 9886 9882 9955 567 9909 9882 9879 9955 698 9899 9882 9876 9955 2479 18 149 368 1199 109 362 16 9888 9875 9955 1076 52 9886 9882 9955 2316 16 52 441 2465 84 88 1639 105 368 267 33 312 728 1944 1318 18 672 88 253 251 731 198 563 16 87 9885 9955 854 952 9883 9880 9955 463 677 314 137 912 16 8488 677 9876 9882 9955 0 0 0 0 0 0 0 0 0 0 3'"
      ]
     },
     "execution_count": 5,
     "metadata": {},
     "output_type": "execute_result"
    }
   ],
   "source": [
    "' '.join(map(str, example.input_ids))"
   ]
  },
  {
   "cell_type": "code",
   "execution_count": 6,
   "metadata": {},
   "outputs": [
    {
     "data": {
      "text/plain": [
       "'[CLS] འདི་སྐད་བདག་གིས་ཐོས་པ་ཞེས་གྱིས་ལ་ཆོས་བསྡུ་བར་བྱའོ། ཞེས་དང་། འབྲེལ་དང་གོ་རིམས་ཀྱང་བསྟན་པར་བྱའོ། ཞེས་རྗེས་སུ་གནང་བའི་ཕྱིར་རོ། གཉིས་པ་བསྟན་བཅོས་ནི། མཚན་ཉིད། ངེས་ཚིག། དབྱེ་བ་གསུམ་གྱིས་ངེས་པར་བྱ་པ་ལས། དང་པོ་ནི། རྩོམ་པ་པོ་རྣམ་གཡེང་མེད་པའི་ཡིད་ཅན་གྱིས་བཀའི་དོན་བཤད་ཅིང་ཐར་བ་ཐོབ་པའི་ལམ་དང་རྗེས་སུ་མཐུན་པ་སྟེ། རྒྱུད་བླ་མར། གང་ཞིག་རྒྱལ་བའི་བསྟན་པ་འབའ་ཞིག་གི།<pad><pad><pad><pad><pad><pad><pad><pad><pad><pad>[SEP]'"
      ]
     },
     "execution_count": 6,
     "metadata": {},
     "output_type": "execute_result"
    }
   ],
   "source": [
    "tibert_tkn.decode(example.input_ids)"
   ]
  },
  {
   "cell_type": "code",
   "execution_count": 7,
   "metadata": {},
   "outputs": [
    {
     "data": {
      "text/plain": [
       "\"('[CLS]', '[MASK]') ('འདི་', 'DET') ('སྐད་', 'NOUN') ('བདག་', 'PRON') ('གིས་', 'ADP') ('ཐོས་', 'NOUN') ('པ་', '[MASK]') ('ཞེས་', 'unk') ('གྱིས་', 'ADP') ('ལ་', 'ADP') ('ཆོས་', 'NOUN') ('བསྡུ་', 'NOUN+PART') ('བར་', '[MASK]') ('བྱ', 'VERB+PART') ('འ', '[MASK]') ('ོ', '[MASK]') ('།', 'PUNCT') ('ཞེས་', 'unk') ('དང་', 'CCONJ') ('།', 'PUNCT') ('འབྲེལ་', 'VERB') ('དང་', 'PART') ('གོ་', 'NOUN') ('རིམས་', '[MASK]') ('ཀྱང་', 'CCONJ') ('བསྟན་', 'NOUN+PART') ('པར་', '[MASK]') ('བྱ', 'VERB+PART') ('འ', '[MASK]') ('ོ', '[MASK]') ('།', 'PUNCT') ('ཞེས་', 'unk') ('རྗེས་', 'NOUN') ('སུ་', 'PART') ('གནང་', 'NOUN+ADP') ('བའི་', '[MASK]') ('ཕྱིར་', 'NOUN+PART') ('ར', 'PART') ('ོ', '[MASK]') ('།', 'PUNCT') ('གཉིས་', 'ADJ') ('པ་', '[MASK]') ('བསྟན་', 'NOUN') ('བཅོས་', '[MASK]') ('ན', 'CCONJ') ('ི', '[MASK]') ('།', 'PUNCT') ('མཚན་', 'NOUN') ('ཉ', '[MASK]') ('ི', '[MASK]') ('ད', '[MASK]') ('།', 'PUNCT') ('ངེས་', 'NOUN') ('ཚ', '[MASK]') ('ི', '[MASK]') ('ག', '[MASK]') ('།', 'PUNCT') ('དབྱེ་', 'NOUN') ('བ་', '[MASK]') ('གསུམ་', 'NUM') ('གྱིས་', 'ADP') ('ངེས་', 'NOUN+PART') ('པར་', '[MASK]') ('བྱ་', 'NOUN') ('པ་', '[MASK]') ('ལ', 'ADP') ('ས', '[MASK]') ('།', 'PUNCT') ('དང་', 'ADJ') ('པོ་', '[MASK]') ('ན', 'CCONJ') ('ི', '[MASK]') ('།', 'PUNCT') ('རྩོམ་', 'NOUN') ('པ་', '[MASK]') ('པོ་', '[MASK]') ('རྣམ་', 'NOUN') ('གཡེང་', 'NOUN') ('མེད་', 'NOUN+ADP') ('པའི་', '[MASK]') ('ཡིད་', 'NOUN') ('ཅན་', '[MASK]') ('གྱིས་', 'ADP') ('བཀ', 'NOUN+ADP') ('འི་', '[MASK]') ('དོན་', 'NOUN') ('བཤད་', 'VERB') ('ཅིང་', 'PART') ('ཐར་', 'NOUN') ('བ་', '[MASK]') ('ཐོབ་', 'NOUN+ADP') ('པའི་', '[MASK]') ('ལམ་', 'NOUN') ('དང་', 'CCONJ') ('རྗེས་', 'NOUN') ('སུ་', 'PART') ('མཐུན་', 'NOUN') ('པ་', '[MASK]') ('སྟ', 'PART') ('ེ', '[MASK]') ('།', 'PUNCT') ('རྒྱུད་', 'PROPN+PART') ('བླ་', '[MASK]') ('མ', '[MASK]') ('ར', '[MASK]') ('།', 'PUNCT') ('གང་', 'PART') ('ཞིག་', 'PART') ('རྒྱལ་', 'NOUN+ADP') ('བའི་', '[MASK]') ('བསྟན་', 'NOUN') ('པ་', '[MASK]') ('འབའ་', 'PART') ('ཞིག་', 'PART') ('ག', 'ADP') ('ི', '[MASK]') ('།', 'PUNCT') ('<pad>', '<pad>') ('<pad>', '<pad>') ('<pad>', '<pad>') ('<pad>', '<pad>') ('<pad>', '<pad>') ('<pad>', '<pad>') ('<pad>', '<pad>') ('<pad>', '<pad>') ('<pad>', '<pad>') ('<pad>', '<pad>') ('[SEP]', '[MASK]')\""
      ]
     },
     "execution_count": 7,
     "metadata": {},
     "output_type": "execute_result"
    }
   ],
   "source": [
    "' '.join([str((tibert_tkn.decode(token), test_data.id_to_label_map[label])) for token, label in zip(example.input_ids, example.label_ids)])"
   ]
  },
  {
   "cell_type": "code",
   "execution_count": 9,
   "metadata": {},
   "outputs": [
    {
     "data": {
      "text/plain": [
       "{'input_ids': [2, 1030, 638, 474, 798, 1714, 16, 4917, 368, 17, 289, 1720, 246, 31, 9887, 9877, 9955, 3018, 251, 9955, 1860, 251, 186, 3083, 1025, 912, 109, 31, 9887, 9877, 9955, 3018, 731, 198, 846, 137, 1101, 9880, 9877, 9955, 1169, 16, 912, 617, 9886, 9882, 9955, 567, 9909, 9882, 9879, 9955, 698, 9899, 9882, 9876, 9955, 2479, 18, 149, 368, 1199, 109, 362, 16, 9888, 9875, 9955, 1076, 52, 9886, 9882, 9955, 2316, 16, 52, 441, 2465, 84, 88, 1639, 105, 368, 267, 33, 312, 728, 1944, 1318, 18, 672, 88, 253, 251, 731, 198, 563, 16, 87, 9885, 9955, 854, 952, 9883, 9880, 9955, 463, 677, 314, 137, 912, 16, 8488, 677, 9876, 9882, 9955, 3], 'token_type_ids': [0, 0, 0, 0, 0, 0, 0, 0, 0, 0, 0, 0, 0, 0, 0, 0, 0, 0, 0, 0, 0, 0, 0, 0, 0, 0, 0, 0, 0, 0, 0, 0, 0, 0, 0, 0, 0, 0, 0, 0, 0, 0, 0, 0, 0, 0, 0, 0, 0, 0, 0, 0, 0, 0, 0, 0, 0, 0, 0, 0, 0, 0, 0, 0, 0, 0, 0, 0, 0, 0, 0, 0, 0, 0, 0, 0, 0, 0, 0, 0, 0, 0, 0, 0, 0, 0, 0, 0, 0, 0, 0, 0, 0, 0, 0, 0, 0, 0, 0, 0, 0, 0, 0, 0, 0, 0, 0, 0, 0, 0, 0, 0, 0, 0, 0, 0, 0, 0], 'attention_mask': [1, 1, 1, 1, 1, 1, 1, 1, 1, 1, 1, 1, 1, 1, 1, 1, 1, 1, 1, 1, 1, 1, 1, 1, 1, 1, 1, 1, 1, 1, 1, 1, 1, 1, 1, 1, 1, 1, 1, 1, 1, 1, 1, 1, 1, 1, 1, 1, 1, 1, 1, 1, 1, 1, 1, 1, 1, 1, 1, 1, 1, 1, 1, 1, 1, 1, 1, 1, 1, 1, 1, 1, 1, 1, 1, 1, 1, 1, 1, 1, 1, 1, 1, 1, 1, 1, 1, 1, 1, 1, 1, 1, 1, 1, 1, 1, 1, 1, 1, 1, 1, 1, 1, 1, 1, 1, 1, 1, 1, 1, 1, 1, 1, 1, 1, 1, 1, 1]}"
      ]
     },
     "execution_count": 9,
     "metadata": {},
     "output_type": "execute_result"
    }
   ],
   "source": [
    "tibert_tkn('འདི་སྐད་བདག་གིས་ཐོས་པ་ཞེས་གྱིས་ལ་ཆོས་བསྡུ་བར་བྱའོ། ཞེས་དང་། འབྲེལ་དང་གོ་རིམས་ཀྱང་བསྟན་པར་བྱའོ། ཞེས་རྗེས་སུ་གནང་བའི་ཕྱིར་རོ། གཉིས་པ་བསྟན་བཅོས་ནི། མཚན་ཉིད། ངེས་ཚིག། དབྱེ་བ་གསུམ་གྱིས་ངེས་པར་བྱ་པ་ལས། དང་པོ་ནི། རྩོམ་པ་པོ་རྣམ་གཡེང་མེད་པའི་ཡིད་ཅན་གྱིས་བཀའི་དོན་བཤད་ཅིང་ཐར་བ་ཐོབ་པའི་ལམ་དང་རྗེས་སུ་མཐུན་པ་སྟེ། རྒྱུད་བླ་མར། གང་ཞིག་རྒྱལ་བའི་བསྟན་པ་འབའ་ཞིག་གི།')"
   ]
  }
 ],
 "metadata": {
  "kernelspec": {
   "display_name": "Python 3 (ipykernel)",
   "language": "python",
   "name": "python3"
  },
  "language_info": {
   "codemirror_mode": {
    "name": "ipython",
    "version": 3
   },
   "file_extension": ".py",
   "mimetype": "text/x-python",
   "name": "python",
   "nbconvert_exporter": "python",
   "pygments_lexer": "ipython3",
   "version": "3.10.5"
  }
 },
 "nbformat": 4,
 "nbformat_minor": 4
}
