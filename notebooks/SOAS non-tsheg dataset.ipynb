{
 "cells": [
  {
   "cell_type": "code",
   "execution_count": null,
   "id": "2d1ee7a1-ef89-4bf3-8559-da4b3968fbd6",
   "metadata": {},
   "outputs": [],
   "source": [
    "from tqdm.auto import tqdm"
   ]
  },
  {
   "cell_type": "code",
   "execution_count": 1,
   "id": "dbd12fd2-1866-4ce9-9593-5b570cf56906",
   "metadata": {},
   "outputs": [
    {
     "name": "stderr",
     "output_type": "stream",
     "text": [
      "2022-07-25 10:02:50,771 - distributed.diskutils - INFO - Found stale lock file and directory '/home/eeisenst/workspace/compassionai/manas/notebooks/dask-worker-space/worker-2k7yzgah', purging\n",
      "2022-07-25 10:02:50,771 - distributed.diskutils - INFO - Found stale lock file and directory '/home/eeisenst/workspace/compassionai/manas/notebooks/dask-worker-space/worker-9i_ic135', purging\n",
      "2022-07-25 10:02:50,771 - distributed.diskutils - INFO - Found stale lock file and directory '/home/eeisenst/workspace/compassionai/manas/notebooks/dask-worker-space/worker-173g_4r2', purging\n",
      "2022-07-25 10:02:50,771 - distributed.diskutils - INFO - Found stale lock file and directory '/home/eeisenst/workspace/compassionai/manas/notebooks/dask-worker-space/worker-kqcfloi4', purging\n",
      "2022-07-25 10:02:50,771 - distributed.diskutils - INFO - Found stale lock file and directory '/home/eeisenst/workspace/compassionai/manas/notebooks/dask-worker-space/worker-ii6qb4l_', purging\n",
      "2022-07-25 10:02:50,771 - distributed.diskutils - INFO - Found stale lock file and directory '/home/eeisenst/workspace/compassionai/manas/notebooks/dask-worker-space/worker-yvbu471c', purging\n",
      "2022-07-25 10:02:50,771 - distributed.diskutils - INFO - Found stale lock file and directory '/home/eeisenst/workspace/compassionai/manas/notebooks/dask-worker-space/worker-o8f3kkfb', purging\n",
      "2022-07-25 10:02:50,771 - distributed.diskutils - INFO - Found stale lock file and directory '/home/eeisenst/workspace/compassionai/manas/notebooks/dask-worker-space/worker-xrmyvh0h', purging\n",
      "2022-07-25 10:02:50,771 - distributed.diskutils - INFO - Found stale lock file and directory '/home/eeisenst/workspace/compassionai/manas/notebooks/dask-worker-space/worker-2xptblr7', purging\n",
      "2022-07-25 10:02:50,771 - distributed.diskutils - INFO - Found stale lock file and directory '/home/eeisenst/workspace/compassionai/manas/notebooks/dask-worker-space/worker-kzdmy277', purging\n"
     ]
    },
    {
     "data": {
      "text/html": [
       "<div>\n",
       "    <div style=\"width: 24px; height: 24px; background-color: #e1e1e1; border: 3px solid #9D9D9D; border-radius: 5px; position: absolute;\"> </div>\n",
       "    <div style=\"margin-left: 48px;\">\n",
       "        <h3 style=\"margin-bottom: 0px;\">Client</h3>\n",
       "        <p style=\"color: #9D9D9D; margin-bottom: 0px;\">Client-78affc02-0c22-11ed-9adb-f44637a8a7cd</p>\n",
       "        <table style=\"width: 100%; text-align: left;\">\n",
       "\n",
       "        <tr>\n",
       "        \n",
       "            <td style=\"text-align: left;\"><strong>Connection method:</strong> Cluster object</td>\n",
       "            <td style=\"text-align: left;\"><strong>Cluster type:</strong> distributed.LocalCluster</td>\n",
       "        \n",
       "        </tr>\n",
       "\n",
       "        \n",
       "            <tr>\n",
       "                <td style=\"text-align: left;\">\n",
       "                    <strong>Dashboard: </strong> <a href=\"http://127.0.0.1:8787/status\" target=\"_blank\">http://127.0.0.1:8787/status</a>\n",
       "                </td>\n",
       "                <td style=\"text-align: left;\"></td>\n",
       "            </tr>\n",
       "        \n",
       "\n",
       "        </table>\n",
       "\n",
       "        \n",
       "            <details>\n",
       "            <summary style=\"margin-bottom: 20px;\"><h3 style=\"display: inline;\">Cluster Info</h3></summary>\n",
       "            <div class=\"jp-RenderedHTMLCommon jp-RenderedHTML jp-mod-trusted jp-OutputArea-output\">\n",
       "    <div style=\"width: 24px; height: 24px; background-color: #e1e1e1; border: 3px solid #9D9D9D; border-radius: 5px; position: absolute;\">\n",
       "    </div>\n",
       "    <div style=\"margin-left: 48px;\">\n",
       "        <h3 style=\"margin-bottom: 0px; margin-top: 0px;\">LocalCluster</h3>\n",
       "        <p style=\"color: #9D9D9D; margin-bottom: 0px;\">74671db5</p>\n",
       "        <table style=\"width: 100%; text-align: left;\">\n",
       "            <tr>\n",
       "                <td style=\"text-align: left;\">\n",
       "                    <strong>Dashboard:</strong> <a href=\"http://127.0.0.1:8787/status\" target=\"_blank\">http://127.0.0.1:8787/status</a>\n",
       "                </td>\n",
       "                <td style=\"text-align: left;\">\n",
       "                    <strong>Workers:</strong> 10\n",
       "                </td>\n",
       "            </tr>\n",
       "            <tr>\n",
       "                <td style=\"text-align: left;\">\n",
       "                    <strong>Total threads:</strong> 10\n",
       "                </td>\n",
       "                <td style=\"text-align: left;\">\n",
       "                    <strong>Total memory:</strong> 31.17 GiB\n",
       "                </td>\n",
       "            </tr>\n",
       "            \n",
       "            <tr>\n",
       "    <td style=\"text-align: left;\"><strong>Status:</strong> running</td>\n",
       "    <td style=\"text-align: left;\"><strong>Using processes:</strong> True</td>\n",
       "</tr>\n",
       "\n",
       "            \n",
       "        </table>\n",
       "\n",
       "        <details>\n",
       "            <summary style=\"margin-bottom: 20px;\">\n",
       "                <h3 style=\"display: inline;\">Scheduler Info</h3>\n",
       "            </summary>\n",
       "\n",
       "            <div style=\"\">\n",
       "    <div>\n",
       "        <div style=\"width: 24px; height: 24px; background-color: #FFF7E5; border: 3px solid #FF6132; border-radius: 5px; position: absolute;\"> </div>\n",
       "        <div style=\"margin-left: 48px;\">\n",
       "            <h3 style=\"margin-bottom: 0px;\">Scheduler</h3>\n",
       "            <p style=\"color: #9D9D9D; margin-bottom: 0px;\">Scheduler-68119bdf-4fb7-4f77-b0e1-53797574b8cf</p>\n",
       "            <table style=\"width: 100%; text-align: left;\">\n",
       "                <tr>\n",
       "                    <td style=\"text-align: left;\">\n",
       "                        <strong>Comm:</strong> tcp://127.0.0.1:39909\n",
       "                    </td>\n",
       "                    <td style=\"text-align: left;\">\n",
       "                        <strong>Workers:</strong> 10\n",
       "                    </td>\n",
       "                </tr>\n",
       "                <tr>\n",
       "                    <td style=\"text-align: left;\">\n",
       "                        <strong>Dashboard:</strong> <a href=\"http://127.0.0.1:8787/status\" target=\"_blank\">http://127.0.0.1:8787/status</a>\n",
       "                    </td>\n",
       "                    <td style=\"text-align: left;\">\n",
       "                        <strong>Total threads:</strong> 10\n",
       "                    </td>\n",
       "                </tr>\n",
       "                <tr>\n",
       "                    <td style=\"text-align: left;\">\n",
       "                        <strong>Started:</strong> Just now\n",
       "                    </td>\n",
       "                    <td style=\"text-align: left;\">\n",
       "                        <strong>Total memory:</strong> 31.17 GiB\n",
       "                    </td>\n",
       "                </tr>\n",
       "            </table>\n",
       "        </div>\n",
       "    </div>\n",
       "\n",
       "    <details style=\"margin-left: 48px;\">\n",
       "        <summary style=\"margin-bottom: 20px;\">\n",
       "            <h3 style=\"display: inline;\">Workers</h3>\n",
       "        </summary>\n",
       "\n",
       "        \n",
       "        <div style=\"margin-bottom: 20px;\">\n",
       "            <div style=\"width: 24px; height: 24px; background-color: #DBF5FF; border: 3px solid #4CC9FF; border-radius: 5px; position: absolute;\"> </div>\n",
       "            <div style=\"margin-left: 48px;\">\n",
       "            <details>\n",
       "                <summary>\n",
       "                    <h4 style=\"margin-bottom: 0px; display: inline;\">Worker: 0</h4>\n",
       "                </summary>\n",
       "                <table style=\"width: 100%; text-align: left;\">\n",
       "                    <tr>\n",
       "                        <td style=\"text-align: left;\">\n",
       "                            <strong>Comm: </strong> tcp://127.0.0.1:38251\n",
       "                        </td>\n",
       "                        <td style=\"text-align: left;\">\n",
       "                            <strong>Total threads: </strong> 1\n",
       "                        </td>\n",
       "                    </tr>\n",
       "                    <tr>\n",
       "                        <td style=\"text-align: left;\">\n",
       "                            <strong>Dashboard: </strong> <a href=\"http://127.0.0.1:45785/status\" target=\"_blank\">http://127.0.0.1:45785/status</a>\n",
       "                        </td>\n",
       "                        <td style=\"text-align: left;\">\n",
       "                            <strong>Memory: </strong> 3.12 GiB\n",
       "                        </td>\n",
       "                    </tr>\n",
       "                    <tr>\n",
       "                        <td style=\"text-align: left;\">\n",
       "                            <strong>Nanny: </strong> tcp://127.0.0.1:34155\n",
       "                        </td>\n",
       "                        <td style=\"text-align: left;\"></td>\n",
       "                    </tr>\n",
       "                    <tr>\n",
       "                        <td colspan=\"2\" style=\"text-align: left;\">\n",
       "                            <strong>Local directory: </strong> /home/eeisenst/workspace/compassionai/manas/notebooks/dask-worker-space/worker-8zw16u72\n",
       "                        </td>\n",
       "                    </tr>\n",
       "\n",
       "                    \n",
       "\n",
       "                    \n",
       "\n",
       "                </table>\n",
       "            </details>\n",
       "            </div>\n",
       "        </div>\n",
       "        \n",
       "        <div style=\"margin-bottom: 20px;\">\n",
       "            <div style=\"width: 24px; height: 24px; background-color: #DBF5FF; border: 3px solid #4CC9FF; border-radius: 5px; position: absolute;\"> </div>\n",
       "            <div style=\"margin-left: 48px;\">\n",
       "            <details>\n",
       "                <summary>\n",
       "                    <h4 style=\"margin-bottom: 0px; display: inline;\">Worker: 1</h4>\n",
       "                </summary>\n",
       "                <table style=\"width: 100%; text-align: left;\">\n",
       "                    <tr>\n",
       "                        <td style=\"text-align: left;\">\n",
       "                            <strong>Comm: </strong> tcp://127.0.0.1:46389\n",
       "                        </td>\n",
       "                        <td style=\"text-align: left;\">\n",
       "                            <strong>Total threads: </strong> 1\n",
       "                        </td>\n",
       "                    </tr>\n",
       "                    <tr>\n",
       "                        <td style=\"text-align: left;\">\n",
       "                            <strong>Dashboard: </strong> <a href=\"http://127.0.0.1:34553/status\" target=\"_blank\">http://127.0.0.1:34553/status</a>\n",
       "                        </td>\n",
       "                        <td style=\"text-align: left;\">\n",
       "                            <strong>Memory: </strong> 3.12 GiB\n",
       "                        </td>\n",
       "                    </tr>\n",
       "                    <tr>\n",
       "                        <td style=\"text-align: left;\">\n",
       "                            <strong>Nanny: </strong> tcp://127.0.0.1:42775\n",
       "                        </td>\n",
       "                        <td style=\"text-align: left;\"></td>\n",
       "                    </tr>\n",
       "                    <tr>\n",
       "                        <td colspan=\"2\" style=\"text-align: left;\">\n",
       "                            <strong>Local directory: </strong> /home/eeisenst/workspace/compassionai/manas/notebooks/dask-worker-space/worker-c_lpdhbf\n",
       "                        </td>\n",
       "                    </tr>\n",
       "\n",
       "                    \n",
       "\n",
       "                    \n",
       "\n",
       "                </table>\n",
       "            </details>\n",
       "            </div>\n",
       "        </div>\n",
       "        \n",
       "        <div style=\"margin-bottom: 20px;\">\n",
       "            <div style=\"width: 24px; height: 24px; background-color: #DBF5FF; border: 3px solid #4CC9FF; border-radius: 5px; position: absolute;\"> </div>\n",
       "            <div style=\"margin-left: 48px;\">\n",
       "            <details>\n",
       "                <summary>\n",
       "                    <h4 style=\"margin-bottom: 0px; display: inline;\">Worker: 2</h4>\n",
       "                </summary>\n",
       "                <table style=\"width: 100%; text-align: left;\">\n",
       "                    <tr>\n",
       "                        <td style=\"text-align: left;\">\n",
       "                            <strong>Comm: </strong> tcp://127.0.0.1:42995\n",
       "                        </td>\n",
       "                        <td style=\"text-align: left;\">\n",
       "                            <strong>Total threads: </strong> 1\n",
       "                        </td>\n",
       "                    </tr>\n",
       "                    <tr>\n",
       "                        <td style=\"text-align: left;\">\n",
       "                            <strong>Dashboard: </strong> <a href=\"http://127.0.0.1:40339/status\" target=\"_blank\">http://127.0.0.1:40339/status</a>\n",
       "                        </td>\n",
       "                        <td style=\"text-align: left;\">\n",
       "                            <strong>Memory: </strong> 3.12 GiB\n",
       "                        </td>\n",
       "                    </tr>\n",
       "                    <tr>\n",
       "                        <td style=\"text-align: left;\">\n",
       "                            <strong>Nanny: </strong> tcp://127.0.0.1:46837\n",
       "                        </td>\n",
       "                        <td style=\"text-align: left;\"></td>\n",
       "                    </tr>\n",
       "                    <tr>\n",
       "                        <td colspan=\"2\" style=\"text-align: left;\">\n",
       "                            <strong>Local directory: </strong> /home/eeisenst/workspace/compassionai/manas/notebooks/dask-worker-space/worker-15itseuz\n",
       "                        </td>\n",
       "                    </tr>\n",
       "\n",
       "                    \n",
       "\n",
       "                    \n",
       "\n",
       "                </table>\n",
       "            </details>\n",
       "            </div>\n",
       "        </div>\n",
       "        \n",
       "        <div style=\"margin-bottom: 20px;\">\n",
       "            <div style=\"width: 24px; height: 24px; background-color: #DBF5FF; border: 3px solid #4CC9FF; border-radius: 5px; position: absolute;\"> </div>\n",
       "            <div style=\"margin-left: 48px;\">\n",
       "            <details>\n",
       "                <summary>\n",
       "                    <h4 style=\"margin-bottom: 0px; display: inline;\">Worker: 3</h4>\n",
       "                </summary>\n",
       "                <table style=\"width: 100%; text-align: left;\">\n",
       "                    <tr>\n",
       "                        <td style=\"text-align: left;\">\n",
       "                            <strong>Comm: </strong> tcp://127.0.0.1:42331\n",
       "                        </td>\n",
       "                        <td style=\"text-align: left;\">\n",
       "                            <strong>Total threads: </strong> 1\n",
       "                        </td>\n",
       "                    </tr>\n",
       "                    <tr>\n",
       "                        <td style=\"text-align: left;\">\n",
       "                            <strong>Dashboard: </strong> <a href=\"http://127.0.0.1:38105/status\" target=\"_blank\">http://127.0.0.1:38105/status</a>\n",
       "                        </td>\n",
       "                        <td style=\"text-align: left;\">\n",
       "                            <strong>Memory: </strong> 3.12 GiB\n",
       "                        </td>\n",
       "                    </tr>\n",
       "                    <tr>\n",
       "                        <td style=\"text-align: left;\">\n",
       "                            <strong>Nanny: </strong> tcp://127.0.0.1:44045\n",
       "                        </td>\n",
       "                        <td style=\"text-align: left;\"></td>\n",
       "                    </tr>\n",
       "                    <tr>\n",
       "                        <td colspan=\"2\" style=\"text-align: left;\">\n",
       "                            <strong>Local directory: </strong> /home/eeisenst/workspace/compassionai/manas/notebooks/dask-worker-space/worker-u_bgbgp5\n",
       "                        </td>\n",
       "                    </tr>\n",
       "\n",
       "                    \n",
       "\n",
       "                    \n",
       "\n",
       "                </table>\n",
       "            </details>\n",
       "            </div>\n",
       "        </div>\n",
       "        \n",
       "        <div style=\"margin-bottom: 20px;\">\n",
       "            <div style=\"width: 24px; height: 24px; background-color: #DBF5FF; border: 3px solid #4CC9FF; border-radius: 5px; position: absolute;\"> </div>\n",
       "            <div style=\"margin-left: 48px;\">\n",
       "            <details>\n",
       "                <summary>\n",
       "                    <h4 style=\"margin-bottom: 0px; display: inline;\">Worker: 4</h4>\n",
       "                </summary>\n",
       "                <table style=\"width: 100%; text-align: left;\">\n",
       "                    <tr>\n",
       "                        <td style=\"text-align: left;\">\n",
       "                            <strong>Comm: </strong> tcp://127.0.0.1:45751\n",
       "                        </td>\n",
       "                        <td style=\"text-align: left;\">\n",
       "                            <strong>Total threads: </strong> 1\n",
       "                        </td>\n",
       "                    </tr>\n",
       "                    <tr>\n",
       "                        <td style=\"text-align: left;\">\n",
       "                            <strong>Dashboard: </strong> <a href=\"http://127.0.0.1:34313/status\" target=\"_blank\">http://127.0.0.1:34313/status</a>\n",
       "                        </td>\n",
       "                        <td style=\"text-align: left;\">\n",
       "                            <strong>Memory: </strong> 3.12 GiB\n",
       "                        </td>\n",
       "                    </tr>\n",
       "                    <tr>\n",
       "                        <td style=\"text-align: left;\">\n",
       "                            <strong>Nanny: </strong> tcp://127.0.0.1:35691\n",
       "                        </td>\n",
       "                        <td style=\"text-align: left;\"></td>\n",
       "                    </tr>\n",
       "                    <tr>\n",
       "                        <td colspan=\"2\" style=\"text-align: left;\">\n",
       "                            <strong>Local directory: </strong> /home/eeisenst/workspace/compassionai/manas/notebooks/dask-worker-space/worker-f4oxefqk\n",
       "                        </td>\n",
       "                    </tr>\n",
       "\n",
       "                    \n",
       "\n",
       "                    \n",
       "\n",
       "                </table>\n",
       "            </details>\n",
       "            </div>\n",
       "        </div>\n",
       "        \n",
       "        <div style=\"margin-bottom: 20px;\">\n",
       "            <div style=\"width: 24px; height: 24px; background-color: #DBF5FF; border: 3px solid #4CC9FF; border-radius: 5px; position: absolute;\"> </div>\n",
       "            <div style=\"margin-left: 48px;\">\n",
       "            <details>\n",
       "                <summary>\n",
       "                    <h4 style=\"margin-bottom: 0px; display: inline;\">Worker: 5</h4>\n",
       "                </summary>\n",
       "                <table style=\"width: 100%; text-align: left;\">\n",
       "                    <tr>\n",
       "                        <td style=\"text-align: left;\">\n",
       "                            <strong>Comm: </strong> tcp://127.0.0.1:44477\n",
       "                        </td>\n",
       "                        <td style=\"text-align: left;\">\n",
       "                            <strong>Total threads: </strong> 1\n",
       "                        </td>\n",
       "                    </tr>\n",
       "                    <tr>\n",
       "                        <td style=\"text-align: left;\">\n",
       "                            <strong>Dashboard: </strong> <a href=\"http://127.0.0.1:39177/status\" target=\"_blank\">http://127.0.0.1:39177/status</a>\n",
       "                        </td>\n",
       "                        <td style=\"text-align: left;\">\n",
       "                            <strong>Memory: </strong> 3.12 GiB\n",
       "                        </td>\n",
       "                    </tr>\n",
       "                    <tr>\n",
       "                        <td style=\"text-align: left;\">\n",
       "                            <strong>Nanny: </strong> tcp://127.0.0.1:38849\n",
       "                        </td>\n",
       "                        <td style=\"text-align: left;\"></td>\n",
       "                    </tr>\n",
       "                    <tr>\n",
       "                        <td colspan=\"2\" style=\"text-align: left;\">\n",
       "                            <strong>Local directory: </strong> /home/eeisenst/workspace/compassionai/manas/notebooks/dask-worker-space/worker-hzwpoch2\n",
       "                        </td>\n",
       "                    </tr>\n",
       "\n",
       "                    \n",
       "\n",
       "                    \n",
       "\n",
       "                </table>\n",
       "            </details>\n",
       "            </div>\n",
       "        </div>\n",
       "        \n",
       "        <div style=\"margin-bottom: 20px;\">\n",
       "            <div style=\"width: 24px; height: 24px; background-color: #DBF5FF; border: 3px solid #4CC9FF; border-radius: 5px; position: absolute;\"> </div>\n",
       "            <div style=\"margin-left: 48px;\">\n",
       "            <details>\n",
       "                <summary>\n",
       "                    <h4 style=\"margin-bottom: 0px; display: inline;\">Worker: 6</h4>\n",
       "                </summary>\n",
       "                <table style=\"width: 100%; text-align: left;\">\n",
       "                    <tr>\n",
       "                        <td style=\"text-align: left;\">\n",
       "                            <strong>Comm: </strong> tcp://127.0.0.1:38221\n",
       "                        </td>\n",
       "                        <td style=\"text-align: left;\">\n",
       "                            <strong>Total threads: </strong> 1\n",
       "                        </td>\n",
       "                    </tr>\n",
       "                    <tr>\n",
       "                        <td style=\"text-align: left;\">\n",
       "                            <strong>Dashboard: </strong> <a href=\"http://127.0.0.1:34437/status\" target=\"_blank\">http://127.0.0.1:34437/status</a>\n",
       "                        </td>\n",
       "                        <td style=\"text-align: left;\">\n",
       "                            <strong>Memory: </strong> 3.12 GiB\n",
       "                        </td>\n",
       "                    </tr>\n",
       "                    <tr>\n",
       "                        <td style=\"text-align: left;\">\n",
       "                            <strong>Nanny: </strong> tcp://127.0.0.1:43971\n",
       "                        </td>\n",
       "                        <td style=\"text-align: left;\"></td>\n",
       "                    </tr>\n",
       "                    <tr>\n",
       "                        <td colspan=\"2\" style=\"text-align: left;\">\n",
       "                            <strong>Local directory: </strong> /home/eeisenst/workspace/compassionai/manas/notebooks/dask-worker-space/worker-dtti8uzq\n",
       "                        </td>\n",
       "                    </tr>\n",
       "\n",
       "                    \n",
       "\n",
       "                    \n",
       "\n",
       "                </table>\n",
       "            </details>\n",
       "            </div>\n",
       "        </div>\n",
       "        \n",
       "        <div style=\"margin-bottom: 20px;\">\n",
       "            <div style=\"width: 24px; height: 24px; background-color: #DBF5FF; border: 3px solid #4CC9FF; border-radius: 5px; position: absolute;\"> </div>\n",
       "            <div style=\"margin-left: 48px;\">\n",
       "            <details>\n",
       "                <summary>\n",
       "                    <h4 style=\"margin-bottom: 0px; display: inline;\">Worker: 7</h4>\n",
       "                </summary>\n",
       "                <table style=\"width: 100%; text-align: left;\">\n",
       "                    <tr>\n",
       "                        <td style=\"text-align: left;\">\n",
       "                            <strong>Comm: </strong> tcp://127.0.0.1:44635\n",
       "                        </td>\n",
       "                        <td style=\"text-align: left;\">\n",
       "                            <strong>Total threads: </strong> 1\n",
       "                        </td>\n",
       "                    </tr>\n",
       "                    <tr>\n",
       "                        <td style=\"text-align: left;\">\n",
       "                            <strong>Dashboard: </strong> <a href=\"http://127.0.0.1:41613/status\" target=\"_blank\">http://127.0.0.1:41613/status</a>\n",
       "                        </td>\n",
       "                        <td style=\"text-align: left;\">\n",
       "                            <strong>Memory: </strong> 3.12 GiB\n",
       "                        </td>\n",
       "                    </tr>\n",
       "                    <tr>\n",
       "                        <td style=\"text-align: left;\">\n",
       "                            <strong>Nanny: </strong> tcp://127.0.0.1:39961\n",
       "                        </td>\n",
       "                        <td style=\"text-align: left;\"></td>\n",
       "                    </tr>\n",
       "                    <tr>\n",
       "                        <td colspan=\"2\" style=\"text-align: left;\">\n",
       "                            <strong>Local directory: </strong> /home/eeisenst/workspace/compassionai/manas/notebooks/dask-worker-space/worker-0kiyjq5j\n",
       "                        </td>\n",
       "                    </tr>\n",
       "\n",
       "                    \n",
       "\n",
       "                    \n",
       "\n",
       "                </table>\n",
       "            </details>\n",
       "            </div>\n",
       "        </div>\n",
       "        \n",
       "        <div style=\"margin-bottom: 20px;\">\n",
       "            <div style=\"width: 24px; height: 24px; background-color: #DBF5FF; border: 3px solid #4CC9FF; border-radius: 5px; position: absolute;\"> </div>\n",
       "            <div style=\"margin-left: 48px;\">\n",
       "            <details>\n",
       "                <summary>\n",
       "                    <h4 style=\"margin-bottom: 0px; display: inline;\">Worker: 8</h4>\n",
       "                </summary>\n",
       "                <table style=\"width: 100%; text-align: left;\">\n",
       "                    <tr>\n",
       "                        <td style=\"text-align: left;\">\n",
       "                            <strong>Comm: </strong> tcp://127.0.0.1:34371\n",
       "                        </td>\n",
       "                        <td style=\"text-align: left;\">\n",
       "                            <strong>Total threads: </strong> 1\n",
       "                        </td>\n",
       "                    </tr>\n",
       "                    <tr>\n",
       "                        <td style=\"text-align: left;\">\n",
       "                            <strong>Dashboard: </strong> <a href=\"http://127.0.0.1:35297/status\" target=\"_blank\">http://127.0.0.1:35297/status</a>\n",
       "                        </td>\n",
       "                        <td style=\"text-align: left;\">\n",
       "                            <strong>Memory: </strong> 3.12 GiB\n",
       "                        </td>\n",
       "                    </tr>\n",
       "                    <tr>\n",
       "                        <td style=\"text-align: left;\">\n",
       "                            <strong>Nanny: </strong> tcp://127.0.0.1:41441\n",
       "                        </td>\n",
       "                        <td style=\"text-align: left;\"></td>\n",
       "                    </tr>\n",
       "                    <tr>\n",
       "                        <td colspan=\"2\" style=\"text-align: left;\">\n",
       "                            <strong>Local directory: </strong> /home/eeisenst/workspace/compassionai/manas/notebooks/dask-worker-space/worker-sp91rk7q\n",
       "                        </td>\n",
       "                    </tr>\n",
       "\n",
       "                    \n",
       "\n",
       "                    \n",
       "\n",
       "                </table>\n",
       "            </details>\n",
       "            </div>\n",
       "        </div>\n",
       "        \n",
       "        <div style=\"margin-bottom: 20px;\">\n",
       "            <div style=\"width: 24px; height: 24px; background-color: #DBF5FF; border: 3px solid #4CC9FF; border-radius: 5px; position: absolute;\"> </div>\n",
       "            <div style=\"margin-left: 48px;\">\n",
       "            <details>\n",
       "                <summary>\n",
       "                    <h4 style=\"margin-bottom: 0px; display: inline;\">Worker: 9</h4>\n",
       "                </summary>\n",
       "                <table style=\"width: 100%; text-align: left;\">\n",
       "                    <tr>\n",
       "                        <td style=\"text-align: left;\">\n",
       "                            <strong>Comm: </strong> tcp://127.0.0.1:34763\n",
       "                        </td>\n",
       "                        <td style=\"text-align: left;\">\n",
       "                            <strong>Total threads: </strong> 1\n",
       "                        </td>\n",
       "                    </tr>\n",
       "                    <tr>\n",
       "                        <td style=\"text-align: left;\">\n",
       "                            <strong>Dashboard: </strong> <a href=\"http://127.0.0.1:41873/status\" target=\"_blank\">http://127.0.0.1:41873/status</a>\n",
       "                        </td>\n",
       "                        <td style=\"text-align: left;\">\n",
       "                            <strong>Memory: </strong> 3.12 GiB\n",
       "                        </td>\n",
       "                    </tr>\n",
       "                    <tr>\n",
       "                        <td style=\"text-align: left;\">\n",
       "                            <strong>Nanny: </strong> tcp://127.0.0.1:37383\n",
       "                        </td>\n",
       "                        <td style=\"text-align: left;\"></td>\n",
       "                    </tr>\n",
       "                    <tr>\n",
       "                        <td colspan=\"2\" style=\"text-align: left;\">\n",
       "                            <strong>Local directory: </strong> /home/eeisenst/workspace/compassionai/manas/notebooks/dask-worker-space/worker-wgx4u90r\n",
       "                        </td>\n",
       "                    </tr>\n",
       "\n",
       "                    \n",
       "\n",
       "                    \n",
       "\n",
       "                </table>\n",
       "            </details>\n",
       "            </div>\n",
       "        </div>\n",
       "        \n",
       "\n",
       "    </details>\n",
       "</div>\n",
       "\n",
       "        </details>\n",
       "    </div>\n",
       "</div>\n",
       "            </details>\n",
       "        \n",
       "\n",
       "    </div>\n",
       "</div>"
      ],
      "text/plain": [
       "<Client: 'tcp://127.0.0.1:39909' processes=10 threads=10, memory=31.17 GiB>"
      ]
     },
     "execution_count": 1,
     "metadata": {},
     "output_type": "execute_result"
    }
   ],
   "source": [
    "from dask.distributed import Client, LocalCluster\n",
    "import dask.bag as db\n",
    "import dask.dataframe as df\n",
    "\n",
    "dask_client = Client(LocalCluster(\n",
    "    n_workers=10,\n",
    "    threads_per_worker=1))\n",
    "dask_client"
   ]
  },
  {
   "cell_type": "markdown",
   "id": "0f69e07c-3f55-4105-911d-fd71222017dd",
   "metadata": {},
   "source": [
    "# Load the dataset"
   ]
  },
  {
   "cell_type": "code",
   "execution_count": 2,
   "id": "5d278de3-f9a3-4e64-b553-9401bf290c01",
   "metadata": {},
   "outputs": [],
   "source": [
    "import os\n",
    "soas_dataset_path = os.path.join(os.environ['CAI_DATA_BASE_PATH'], \"raw_datasets/SOAS-part-of-speech/Texts\")\n",
    "simplifiers_path = os.path.join(os.environ['CAI_DATA_BASE_PATH'], \"raw_datasets/Esukhia-SOAS-pos-simplification\")"
   ]
  },
  {
   "cell_type": "code",
   "execution_count": 3,
   "id": "081e43bf-a714-4926-874d-3fd87fc67b8a",
   "metadata": {},
   "outputs": [],
   "source": [
    "tagged_words = df \\\n",
    "    .read_csv(os.path.join(soas_dataset_path, \"*-horizontal.txt\"), header=None, names=[\"folio\"]) \\\n",
    "    .folio \\\n",
    "    .str.split(' ') \\\n",
    "    .explode()"
   ]
  },
  {
   "cell_type": "code",
   "execution_count": 4,
   "id": "ced23ad0-ffc1-40b8-9875-5a9f33ec183c",
   "metadata": {},
   "outputs": [
    {
     "data": {
      "text/plain": [
       "tagged_word    318230\n",
       "dtype: int64"
      ]
     },
     "execution_count": 4,
     "metadata": {},
     "output_type": "execute_result"
    }
   ],
   "source": [
    "pos_tags_df = df.from_array(tagged_words.str.split('|').values, columns=['tagged_word'])\n",
    "pos_tags_df = pos_tags_df[pos_tags_df.tagged_word.map(len) == 2]\n",
    "pos_tags_df.count().compute()"
   ]
  },
  {
   "cell_type": "code",
   "execution_count": 5,
   "id": "b4f87eb4-5257-4683-9b15-6f004a0217fa",
   "metadata": {},
   "outputs": [
    {
     "data": {
      "text/html": [
       "<div>\n",
       "<style scoped>\n",
       "    .dataframe tbody tr th:only-of-type {\n",
       "        vertical-align: middle;\n",
       "    }\n",
       "\n",
       "    .dataframe tbody tr th {\n",
       "        vertical-align: top;\n",
       "    }\n",
       "\n",
       "    .dataframe thead th {\n",
       "        text-align: right;\n",
       "    }\n",
       "</style>\n",
       "<table border=\"1\" class=\"dataframe\">\n",
       "  <thead>\n",
       "    <tr style=\"text-align: right;\">\n",
       "      <th></th>\n",
       "      <th>word</th>\n",
       "      <th>tag</th>\n",
       "    </tr>\n",
       "  </thead>\n",
       "  <tbody>\n",
       "    <tr>\n",
       "      <th>0</th>\n",
       "      <td>བདེ་བ</td>\n",
       "      <td>n.v.invar</td>\n",
       "    </tr>\n",
       "    <tr>\n",
       "      <th>1</th>\n",
       "      <td>ར་</td>\n",
       "      <td>case.term</td>\n",
       "    </tr>\n",
       "    <tr>\n",
       "      <th>2</th>\n",
       "      <td>གཤེགས་པ</td>\n",
       "      <td>n.v.invar</td>\n",
       "    </tr>\n",
       "    <tr>\n",
       "      <th>3</th>\n",
       "      <td>འི་</td>\n",
       "      <td>case.gen</td>\n",
       "    </tr>\n",
       "    <tr>\n",
       "      <th>4</th>\n",
       "      <td>བསྟན་བ</td>\n",
       "      <td>n.v.fut</td>\n",
       "    </tr>\n",
       "    <tr>\n",
       "      <th>5</th>\n",
       "      <td>འི་</td>\n",
       "      <td>case.gen</td>\n",
       "    </tr>\n",
       "    <tr>\n",
       "      <th>6</th>\n",
       "      <td>གསལ་བྱེད་ཆོས་</td>\n",
       "      <td>n.count</td>\n",
       "    </tr>\n",
       "    <tr>\n",
       "      <th>7</th>\n",
       "      <td>ཀྱི་</td>\n",
       "      <td>case.gen</td>\n",
       "    </tr>\n",
       "    <tr>\n",
       "      <th>8</th>\n",
       "      <td>འབྱུང་གནས་གསུང་རབ་</td>\n",
       "      <td>n.count</td>\n",
       "    </tr>\n",
       "    <tr>\n",
       "      <th>9</th>\n",
       "      <td>རིན་པོ་ཆེ</td>\n",
       "      <td>adj</td>\n",
       "    </tr>\n",
       "  </tbody>\n",
       "</table>\n",
       "</div>"
      ],
      "text/plain": [
       "                 word        tag\n",
       "0               བདེ་བ  n.v.invar\n",
       "1                  ར་  case.term\n",
       "2             གཤེགས་པ  n.v.invar\n",
       "3                 འི་   case.gen\n",
       "4              བསྟན་བ    n.v.fut\n",
       "5                 འི་   case.gen\n",
       "6       གསལ་བྱེད་ཆོས་    n.count\n",
       "7                ཀྱི་   case.gen\n",
       "8  འབྱུང་གནས་གསུང་རབ་    n.count\n",
       "9           རིན་པོ་ཆེ        adj"
      ]
     },
     "execution_count": 5,
     "metadata": {},
     "output_type": "execute_result"
    }
   ],
   "source": [
    "pos_tags_df['word'] = pos_tags_df.tagged_word.map(lambda x: x[0])\n",
    "pos_tags_df['tag'] = pos_tags_df.tagged_word.map(lambda x: x[1])\n",
    "del pos_tags_df['tagged_word']\n",
    "pos_tags_df.head(10)"
   ]
  },
  {
   "cell_type": "markdown",
   "id": "17af77f2-3f70-4d40-9a27-6ebfd3faea7f",
   "metadata": {},
   "source": [
    "## Transform the tags if needed"
   ]
  },
  {
   "cell_type": "code",
   "execution_count": 6,
   "id": "e72f0ce3-6fef-4dd5-a403-16ab8c16576b",
   "metadata": {},
   "outputs": [],
   "source": [
    "with open(os.path.join(simplifiers_path, \"regex-SOAS-to-UD-BOD.txt\"), 'r') as f:\n",
    "    tag_mapping = f.read()\n",
    "tag_mapping = eval(tag_mapping.replace('\\n', '').replace(' ', ''))\n",
    "tag_mapping = {left_tag: right_elem for left_elem, right_elem in tag_mapping for left_tag in left_elem.strip('(').strip(')').split('|')}\n",
    "# tag_mapping"
   ]
  },
  {
   "cell_type": "code",
   "execution_count": 7,
   "id": "b79bde70-26e0-4c2e-904d-7a4bf02b9559",
   "metadata": {},
   "outputs": [],
   "source": [
    "with open(os.path.join(simplifiers_path, \"regex-UD-BOD-to-UD-ENG.txt\"), 'r') as f:\n",
    "    tag_remapping = f.read()\n",
    "tag_remapping = eval(tag_remapping.replace('\\n', '').replace(' ', ''))\n",
    "tag_remapping = {left_tag: right_elem for left_elem, right_elem in tag_remapping for left_tag in left_elem.strip('(').strip(')').split('|')}\n",
    "# tag_remapping"
   ]
  },
  {
   "cell_type": "code",
   "execution_count": 8,
   "id": "c7ac9e32-abeb-43a9-af59-de32b40c9a22",
   "metadata": {},
   "outputs": [],
   "source": [
    "pos_tags_df[\"tag\"] = pos_tags_df.tag.map(lambda tag: tag_mapping.get(tag, \"unk\"))\n",
    "pos_tags_df[\"tag\"] = pos_tags_df.tag.map(lambda tag: tag_remapping.get(tag, \"unk\"))"
   ]
  },
  {
   "cell_type": "code",
   "execution_count": 9,
   "id": "e586d8ba-46ee-4f7e-b905-9115f07b55c9",
   "metadata": {},
   "outputs": [
    {
     "name": "stdout",
     "output_type": "stream",
     "text": [
      "Fraction of unks: 0.019727869779719073\n"
     ]
    }
   ],
   "source": [
    "print(\"Fraction of unks:\", len(pos_tags_df[pos_tags_df.tag == \"unk\"].compute()) / len(pos_tags_df.compute()))"
   ]
  },
  {
   "cell_type": "markdown",
   "id": "dc4f751d-8473-4e5f-9a59-e5d7df68463c",
   "metadata": {},
   "source": [
    "# Tokenize"
   ]
  },
  {
   "cell_type": "markdown",
   "id": "8f79f0cd-c172-4943-9a49-335a29da8b1f",
   "metadata": {},
   "source": [
    "## Flatten sections"
   ]
  },
  {
   "cell_type": "code",
   "execution_count": 11,
   "id": "7d8a6da0-eda9-458a-98cf-97b17d77a2e4",
   "metadata": {},
   "outputs": [],
   "source": [
    "pos_tags_df = pos_tags_df.compute()"
   ]
  },
  {
   "cell_type": "code",
   "execution_count": 15,
   "id": "7504d6ae-3a1f-4df4-a84d-f18c2b110f13",
   "metadata": {},
   "outputs": [
    {
     "data": {
      "text/html": [
       "<div>\n",
       "<style scoped>\n",
       "    .dataframe tbody tr th:only-of-type {\n",
       "        vertical-align: middle;\n",
       "    }\n",
       "\n",
       "    .dataframe tbody tr th {\n",
       "        vertical-align: top;\n",
       "    }\n",
       "\n",
       "    .dataframe thead th {\n",
       "        text-align: right;\n",
       "    }\n",
       "</style>\n",
       "<table border=\"1\" class=\"dataframe\">\n",
       "  <thead>\n",
       "    <tr style=\"text-align: right;\">\n",
       "      <th></th>\n",
       "      <th>word</th>\n",
       "      <th>tag</th>\n",
       "    </tr>\n",
       "  </thead>\n",
       "  <tbody>\n",
       "    <tr>\n",
       "      <th>0</th>\n",
       "      <td>བདེ་བ</td>\n",
       "      <td>NOUN</td>\n",
       "    </tr>\n",
       "    <tr>\n",
       "      <th>1</th>\n",
       "      <td>ར་</td>\n",
       "      <td>PART</td>\n",
       "    </tr>\n",
       "  </tbody>\n",
       "</table>\n",
       "</div>"
      ],
      "text/plain": [
       "    word   tag\n",
       "0  བདེ་བ  NOUN\n",
       "1     ར་  PART"
      ]
     },
     "execution_count": 15,
     "metadata": {},
     "output_type": "execute_result"
    }
   ],
   "source": [
    "pos_tags_df.head(2)"
   ]
  },
  {
   "cell_type": "code",
   "execution_count": 49,
   "id": "8f043dd8-337f-4083-8aa6-f74a716231e6",
   "metadata": {},
   "outputs": [],
   "source": [
    "tagged_sections = []"
   ]
  },
  {
   "cell_type": "code",
   "execution_count": 50,
   "id": "647f16c7-f73c-4250-95f7-0a94ade87af6",
   "metadata": {},
   "outputs": [
    {
     "data": {
      "application/vnd.jupyter.widget-view+json": {
       "model_id": "ec9734b197f544549de669416dbcb36a",
       "version_major": 2,
       "version_minor": 0
      },
      "text/plain": [
       "  0%|          | 0/318230 [00:00<?, ?it/s]"
      ]
     },
     "metadata": {},
     "output_type": "display_data"
    }
   ],
   "source": [
    "cur_section = []\n",
    "for _, row in tqdm(pos_tags_df.iterrows(), total=len(pos_tags_df)):\n",
    "    cur_section.append((row.word, row.tag))\n",
    "    if row.tag == 'PUNCT':\n",
    "        if not set([tag for _, tag in cur_section]) == {'PUNCT'}:\n",
    "            tagged_sections.append(cur_section)\n",
    "        cur_section = []"
   ]
  },
  {
   "cell_type": "code",
   "execution_count": 52,
   "id": "56bccb14-4a1a-480e-89de-dc1ace253190",
   "metadata": {},
   "outputs": [
    {
     "data": {
      "text/plain": [
       "[('བདེ་བ', 'NOUN'),\n",
       " ('ར་', 'PART'),\n",
       " ('གཤེགས་པ', 'NOUN'),\n",
       " ('འི་', 'ADP'),\n",
       " ('བསྟན་བ', 'NOUN'),\n",
       " ('འི་', 'ADP'),\n",
       " ('གསལ་བྱེད་ཆོས་', 'NOUN'),\n",
       " ('ཀྱི་', 'ADP'),\n",
       " ('འབྱུང་གནས་གསུང་རབ་', 'NOUN'),\n",
       " ('རིན་པོ་ཆེ', 'ADJ'),\n",
       " ('འི་', 'ADP'),\n",
       " ('མཛོད་', 'NOUN'),\n",
       " ('ཅེས་', 'unk'),\n",
       " ('བྱ་བ', 'NOUN'),\n",
       " ('།', 'PUNCT')]"
      ]
     },
     "execution_count": 52,
     "metadata": {},
     "output_type": "execute_result"
    }
   ],
   "source": [
    "tagged_sections[0]"
   ]
  },
  {
   "cell_type": "code",
   "execution_count": 56,
   "id": "30da3935-2eb5-4773-b37f-8afb79370072",
   "metadata": {},
   "outputs": [
    {
     "name": "stdout",
     "output_type": "stream",
     "text": [
      "བ\n",
      "ད\n",
      "ེ\n",
      "་\n",
      "བ\n"
     ]
    }
   ],
   "source": [
    "for c in tagged_sections[0][0][0]:\n",
    "    print(c)"
   ]
  },
  {
   "cell_type": "markdown",
   "id": "309d63de-12e3-449d-b277-850512d81067",
   "metadata": {},
   "source": [
    "## Tokenize"
   ]
  },
  {
   "cell_type": "code",
   "execution_count": 57,
   "id": "0bd49774-5c73-49ff-ba1c-dd955c382255",
   "metadata": {},
   "outputs": [],
   "source": [
    "from cai_manas.tokenizer import CAITokenizerSlow\n",
    "CAITokenizer = CAITokenizerSlow"
   ]
  },
  {
   "cell_type": "code",
   "execution_count": 73,
   "id": "3fe32433-8656-40c9-b860-0f30e7ed36a2",
   "metadata": {},
   "outputs": [],
   "source": [
    "tokenizer = CAITokenizer.from_pretrained(CAITokenizer.get_local_model_dir(\"olive-large\"))"
   ]
  },
  {
   "cell_type": "code",
   "execution_count": 142,
   "id": "78b2c47c-b8d6-485f-a122-3ccafc71af76",
   "metadata": {},
   "outputs": [
    {
     "data": {
      "application/vnd.jupyter.widget-view+json": {
       "model_id": "274db5111cff4b0d9a4343ce9b09ae87",
       "version_major": 2,
       "version_minor": 0
      },
      "text/plain": [
       "  0%|          | 0/31309 [00:00<?, ?it/s]"
      ]
     },
     "metadata": {},
     "output_type": "display_data"
    }
   ],
   "source": [
    "tagged_tokens = []\n",
    "for cur_section in tqdm(tagged_sections):\n",
    "    section_word = ''.join([word for word, _ in cur_section])\n",
    "    section_tokens = tokenizer.encode(section_word)\n",
    "\n",
    "    start_end, cur_idx = [], 0\n",
    "    for word, _ in cur_section:\n",
    "        start_end.append((cur_idx, cur_idx + len(word)))\n",
    "        cur_idx += len(word)\n",
    "\n",
    "    token_labels, word_start = [], 0\n",
    "    for token_idx in range(1, len(section_tokens) + 1):\n",
    "        word_so_far = tokenizer.decode(section_tokens[:token_idx])\n",
    "\n",
    "        word_end = len(tokenizer.decode(section_tokens[:token_idx]))\n",
    "        cur_labels = []\n",
    "        for se_idx, cur_start_end in enumerate(start_end):\n",
    "            if cur_start_end[0] < word_end and cur_start_end[1] > word_start:\n",
    "                cur_labels.append(cur_section[se_idx][1])\n",
    "            if cur_start_end[1] > word_start and cur_start_end[1] <= word_end:\n",
    "                cur_labels.append('[WORD_END]')\n",
    "        if cur_labels == []:\n",
    "            cur_labels = ['[MASK]']\n",
    "        token_labels.append((word_so_far[word_start:], '+'.join(sorted(list(set(map(lambda x: x.upper(), cur_labels)))))))\n",
    "        word_start = word_end\n",
    "\n",
    "    tagged_tokens.append((\n",
    "        section_tokens,\n",
    "        token_labels\n",
    "    ))"
   ]
  },
  {
   "cell_type": "code",
   "execution_count": 143,
   "id": "c5f5511e-8240-4dc9-9d5f-5701c990210e",
   "metadata": {},
   "outputs": [
    {
     "name": "stdout",
     "output_type": "stream",
     "text": [
      "གང་ PART\n",
      "ཞིག་ PART\n",
      "ཐུགས་བསྐྱེད་དགེ་ཚོགས་བདུད་རྩི NOUN\n",
      "འི་ ADP\n",
      "ཟས་ཅན་ NOUN\n",
      "ལས་ ADP\n",
      "བྱུང་ VERB\n",
      "བརྣག་དཀ NOUN\n",
      "འི་ ADP\n",
      "བཟོད་པ NOUN\n",
      "ས་ ADP\n",
      "གཟི་དཔལ་ NOUN\n",
      "འབར་བ NOUN\n",
      "། PUNCT\n",
      "===\n",
      "2 ('', '[MASK]')\n",
      "463 ('གང་', 'PART+[WORD_END]')\n",
      "677 ('ཞིག་', 'PART+[WORD_END]')\n",
      "2239 ('ཐུགས་', 'NOUN')\n",
      "1132 ('བསྐྱེད་', 'NOUN')\n",
      "1300 ('དགེ་', 'NOUN')\n",
      "323 ('ཚོགས་', 'NOUN')\n",
      "1518 ('བདུད་', 'NOUN')\n",
      "2696 ('རྩིའི་', 'ADP+NOUN+[WORD_END]')\n",
      "5743 ('ཟས་ཅན་', 'NOUN+[WORD_END]')\n",
      "4666 ('ལས་བྱུང་', 'ADP+VERB+[WORD_END]')\n",
      "4525 ('བརྣ', 'NOUN')\n",
      "11 ('ག་', 'NOUN')\n",
      "179 ('དཀ', 'NOUN+[WORD_END]')\n",
      "33 ('འི་', 'ADP+[WORD_END]')\n",
      "2583 ('བཟོད་', 'NOUN')\n",
      "634 ('པས་', 'ADP+NOUN+[WORD_END]')\n",
      "6287 ('གཟི་', 'NOUN')\n",
      "1248 ('དཔལ་', 'NOUN+[WORD_END]')\n",
      "1359 ('འབར་', 'NOUN')\n",
      "9878 ('བ', 'NOUN+[WORD_END]')\n",
      "9955 ('།', 'PUNCT+[WORD_END]')\n",
      "3 ('', '[MASK]')\n"
     ]
    }
   ],
   "source": [
    "i = 2\n",
    "for word, tag in tagged_sections[i]:\n",
    "    print(word, tag)\n",
    "print(\"===\")\n",
    "for token, tag in zip(*tagged_tokens[i]):\n",
    "    print(token, tag)"
   ]
  },
  {
   "cell_type": "markdown",
   "id": "d7d3408d-34b7-42ae-9d5b-b1c4a81a75bf",
   "metadata": {},
   "source": [
    "## Explore"
   ]
  },
  {
   "cell_type": "code",
   "execution_count": 144,
   "id": "9259aa1c-7360-4e2a-8ebf-2640e394e482",
   "metadata": {},
   "outputs": [],
   "source": [
    "import pandas as pd"
   ]
  },
  {
   "cell_type": "code",
   "execution_count": 145,
   "id": "ead0d40b-0461-4e15-8b31-ea38ae89cd7b",
   "metadata": {},
   "outputs": [],
   "source": [
    "tagged_df = {\n",
    "    \"token\": [],\n",
    "    \"text\": [],\n",
    "    \"tag\": []\n",
    "}\n",
    "for cur_tagged_tokens in tagged_tokens:\n",
    "    for token, (text, tag) in zip(*cur_tagged_tokens):\n",
    "        tagged_df[\"token\"].append(token)\n",
    "        tagged_df[\"text\"].append(text)\n",
    "        tagged_df[\"tag\"].append(tag)\n",
    "tagged_df = pd.DataFrame(tagged_df)"
   ]
  },
  {
   "cell_type": "code",
   "execution_count": 165,
   "id": "2b0c5bd1-0737-4e02-bdb4-f2150792e3fd",
   "metadata": {},
   "outputs": [],
   "source": [
    "tagged_no_mask_df = tagged_df[tagged_df.tag != '[MASK]']"
   ]
  },
  {
   "cell_type": "code",
   "execution_count": 167,
   "id": "f07cf768-0f06-48af-843b-25fb1b2328f0",
   "metadata": {},
   "outputs": [
    {
     "data": {
      "text/html": [
       "<div>\n",
       "<style scoped>\n",
       "    .dataframe tbody tr th:only-of-type {\n",
       "        vertical-align: middle;\n",
       "    }\n",
       "\n",
       "    .dataframe tbody tr th {\n",
       "        vertical-align: top;\n",
       "    }\n",
       "\n",
       "    .dataframe thead th {\n",
       "        text-align: right;\n",
       "    }\n",
       "</style>\n",
       "<table border=\"1\" class=\"dataframe\">\n",
       "  <thead>\n",
       "    <tr style=\"text-align: right;\">\n",
       "      <th></th>\n",
       "      <th>token</th>\n",
       "      <th>text</th>\n",
       "      <th>tag</th>\n",
       "    </tr>\n",
       "  </thead>\n",
       "  <tbody>\n",
       "    <tr>\n",
       "      <th>1</th>\n",
       "      <td>3193</td>\n",
       "      <td>བདེ་བར་</td>\n",
       "      <td>NOUN+PART+[WORD_END]</td>\n",
       "    </tr>\n",
       "    <tr>\n",
       "      <th>2</th>\n",
       "      <td>2394</td>\n",
       "      <td>གཤེགས་</td>\n",
       "      <td>NOUN</td>\n",
       "    </tr>\n",
       "    <tr>\n",
       "      <th>3</th>\n",
       "      <td>88</td>\n",
       "      <td>པའི་</td>\n",
       "      <td>ADP+NOUN+[WORD_END]</td>\n",
       "    </tr>\n",
       "    <tr>\n",
       "      <th>4</th>\n",
       "      <td>912</td>\n",
       "      <td>བསྟན་</td>\n",
       "      <td>NOUN</td>\n",
       "    </tr>\n",
       "    <tr>\n",
       "      <th>5</th>\n",
       "      <td>137</td>\n",
       "      <td>བའི་</td>\n",
       "      <td>ADP+NOUN+[WORD_END]</td>\n",
       "    </tr>\n",
       "    <tr>\n",
       "      <th>...</th>\n",
       "      <td>...</td>\n",
       "      <td>...</td>\n",
       "      <td>...</td>\n",
       "    </tr>\n",
       "    <tr>\n",
       "      <th>417979</th>\n",
       "      <td>9955</td>\n",
       "      <td>།</td>\n",
       "      <td>PUNCT+[WORD_END]</td>\n",
       "    </tr>\n",
       "    <tr>\n",
       "      <th>417982</th>\n",
       "      <td>3238</td>\n",
       "      <td>ཅེས་</td>\n",
       "      <td>UNK+[WORD_END]</td>\n",
       "    </tr>\n",
       "    <tr>\n",
       "      <th>417983</th>\n",
       "      <td>4263</td>\n",
       "      <td>གསུངས་</td>\n",
       "      <td>VERB+[WORD_END]</td>\n",
       "    </tr>\n",
       "    <tr>\n",
       "      <th>417984</th>\n",
       "      <td>319</td>\n",
       "      <td>ཤིང་</td>\n",
       "      <td>PART+[WORD_END]</td>\n",
       "    </tr>\n",
       "    <tr>\n",
       "      <th>417985</th>\n",
       "      <td>9955</td>\n",
       "      <td>།</td>\n",
       "      <td>PUNCT+[WORD_END]</td>\n",
       "    </tr>\n",
       "  </tbody>\n",
       "</table>\n",
       "<p>355338 rows × 3 columns</p>\n",
       "</div>"
      ],
      "text/plain": [
       "        token     text                   tag\n",
       "1        3193  བདེ་བར་  NOUN+PART+[WORD_END]\n",
       "2        2394   གཤེགས་                  NOUN\n",
       "3          88     པའི་   ADP+NOUN+[WORD_END]\n",
       "4         912    བསྟན་                  NOUN\n",
       "5         137     བའི་   ADP+NOUN+[WORD_END]\n",
       "...       ...      ...                   ...\n",
       "417979   9955        །      PUNCT+[WORD_END]\n",
       "417982   3238     ཅེས་        UNK+[WORD_END]\n",
       "417983   4263   གསུངས་       VERB+[WORD_END]\n",
       "417984    319     ཤིང་       PART+[WORD_END]\n",
       "417985   9955        །      PUNCT+[WORD_END]\n",
       "\n",
       "[355338 rows x 3 columns]"
      ]
     },
     "execution_count": 167,
     "metadata": {},
     "output_type": "execute_result"
    }
   ],
   "source": [
    "tagged_no_mask_df\n",
    "# tagged_df"
   ]
  },
  {
   "cell_type": "code",
   "execution_count": 171,
   "id": "8544c0bb-09e1-4499-ab26-9960ac2e7fec",
   "metadata": {},
   "outputs": [],
   "source": [
    "tag_count_df = tagged_no_mask_df.groupby(tagged_no_mask_df.tag).count().token.sort_values()"
   ]
  },
  {
   "cell_type": "code",
   "execution_count": 172,
   "id": "77b4968a-7dc8-48bd-b486-b1103d4eb8df",
   "metadata": {},
   "outputs": [
    {
     "data": {
      "text/plain": [
       "<AxesSubplot:xlabel='tag'>"
      ]
     },
     "execution_count": 172,
     "metadata": {},
     "output_type": "execute_result"
    },
    {
     "data": {
      "image/png": "[encoded data removed]",
      "text/plain": [
       "<Figure size 1440x720 with 1 Axes>"
      ]
     },
     "metadata": {
      "needs_background": "light"
     },
     "output_type": "display_data"
    }
   ],
   "source": [
    "tag_count_df.plot(kind=\"bar\", figsize=(20, 10))"
   ]
  },
  {
   "cell_type": "markdown",
   "id": "7f686100-b5ce-4194-8fcc-08a56e7e4127",
   "metadata": {},
   "source": [
    "## Filter rare tags"
   ]
  },
  {
   "cell_type": "code",
   "execution_count": 216,
   "id": "f0f85d02-2685-488e-b62a-83ac5f6ad5ae",
   "metadata": {},
   "outputs": [],
   "source": [
    "tag_rarity = 200"
   ]
  },
  {
   "cell_type": "code",
   "execution_count": 217,
   "id": "1ca6f40d-40de-4aab-a633-d026fc4ac3e8",
   "metadata": {},
   "outputs": [
    {
     "data": {
      "text/plain": [
       "<AxesSubplot:xlabel='tag'>"
      ]
     },
     "execution_count": 217,
     "metadata": {},
     "output_type": "execute_result"
    },
    {
     "data": {
      "image/png": "[encoded data removed]",
      "text/plain": [
       "<Figure size 1152x288 with 1 Axes>"
      ]
     },
     "metadata": {
      "needs_background": "light"
     },
     "output_type": "display_data"
    }
   ],
   "source": [
    "tag_count_df[tag_count_df > tag_rarity].plot(kind=\"bar\", figsize=(16, 4))"
   ]
  },
  {
   "cell_type": "code",
   "execution_count": 218,
   "id": "2d39d59b-e8d5-4ffd-9e86-6b42196e1594",
   "metadata": {},
   "outputs": [
    {
     "name": "stdout",
     "output_type": "stream",
     "text": [
      "Proposed new UNK rate: 0.006301042950655433\n"
     ]
    }
   ],
   "source": [
    "print(\"Proposed new UNK rate:\", tag_count_df[tag_count_df < tag_rarity].sum() / tag_count_df.sum())"
   ]
  },
  {
   "cell_type": "code",
   "execution_count": 219,
   "id": "bbc021b2-92ff-4bb7-b9a6-3d4a7fb83a85",
   "metadata": {},
   "outputs": [
    {
     "data": {
      "text/plain": [
       "77"
      ]
     },
     "execution_count": 219,
     "metadata": {},
     "output_type": "execute_result"
    }
   ],
   "source": [
    "tags_to_remove = set(tag_count_df[tag_count_df < tag_rarity].index.tolist())\n",
    "len(tags_to_remove)"
   ]
  },
  {
   "cell_type": "code",
   "execution_count": 220,
   "id": "3f6d31da-06b7-4846-918e-d66cb12132ad",
   "metadata": {},
   "outputs": [],
   "source": [
    "filtered_tokens = []\n",
    "for cur_tagged_tokens in tagged_tokens:\n",
    "    cur_filtered_tokens = []\n",
    "    for token, (word, tag) in zip(*cur_tagged_tokens):\n",
    "        if tag in tags_to_remove:\n",
    "            tag = 'UNK'\n",
    "        cur_filtered_tokens.append((token, tag))\n",
    "    filtered_tokens.append(cur_filtered_tokens)"
   ]
  },
  {
   "cell_type": "code",
   "execution_count": 221,
   "id": "cfd3a040-d4de-4c0d-9f28-f0e2d5027529",
   "metadata": {},
   "outputs": [
    {
     "name": "stdout",
     "output_type": "stream",
     "text": [
      "Actual UNK rate: 0.01023955290475541\n"
     ]
    }
   ],
   "source": [
    "print(\"Actual UNK rate:\", sum([tag == 'UNK' for x in filtered_tokens for _, tag in x]) / sum([1 for x in filtered_tokens for _, tag in x]))"
   ]
  },
  {
   "cell_type": "markdown",
   "id": "f8f1473e-c6d6-446d-9196-f960b06d6353",
   "metadata": {},
   "source": [
    "# Save filtered_tokens"
   ]
  },
  {
   "cell_type": "code",
   "execution_count": 230,
   "id": "9819168a-39ff-41df-8847-2b00a788d77b",
   "metadata": {},
   "outputs": [
    {
     "data": {
      "text/plain": [
       "[(2, '[MASK]'),\n",
       " (3193, 'NOUN+PART+[WORD_END]'),\n",
       " (2394, 'NOUN'),\n",
       " (88, 'ADP+NOUN+[WORD_END]'),\n",
       " (912, 'NOUN'),\n",
       " (137, 'ADP+NOUN+[WORD_END]'),\n",
       " (6569, 'NOUN'),\n",
       " (9012, 'ADP+NOUN+[WORD_END]'),\n",
       " (4512, 'NOUN'),\n",
       " (1828, 'NOUN'),\n",
       " (644, 'NOUN+[WORD_END]'),\n",
       " (1613, 'ADJ'),\n",
       " (5062, 'ADJ+ADP+[WORD_END]'),\n",
       " (1029, 'NOUN+[WORD_END]'),\n",
       " (6680, 'UNK+[WORD_END]'),\n",
       " (362, 'NOUN'),\n",
       " (9878, 'NOUN+[WORD_END]'),\n",
       " (9955, 'PUNCT+[WORD_END]'),\n",
       " (3, '[MASK]')]"
      ]
     },
     "execution_count": 230,
     "metadata": {},
     "output_type": "execute_result"
    }
   ],
   "source": [
    "filtered_tokens[0]"
   ]
  },
  {
   "cell_type": "code",
   "execution_count": 231,
   "id": "57f47b47-ac1c-4c0b-9b85-5ef6755f56c6",
   "metadata": {},
   "outputs": [],
   "source": [
    "final_dataset = [([t for t, _ in example], [l for _, l in example]) for example in filtered_tokens]"
   ]
  },
  {
   "cell_type": "code",
   "execution_count": 232,
   "id": "2be527b3-de56-4da6-84cb-c2cb64b58203",
   "metadata": {},
   "outputs": [],
   "source": [
    "import os\n",
    "import random\n",
    "import pickle"
   ]
  },
  {
   "cell_type": "code",
   "execution_count": 233,
   "id": "cbc2b696-1608-4c60-af67-b5dd4dc74b25",
   "metadata": {},
   "outputs": [],
   "source": [
    "test_frac = 0.1"
   ]
  },
  {
   "cell_type": "code",
   "execution_count": 234,
   "id": "dda7c83f-854d-4065-b190-21166e301766",
   "metadata": {},
   "outputs": [
    {
     "data": {
      "text/plain": [
       "(28234, 3075)"
      ]
     },
     "execution_count": 234,
     "metadata": {},
     "output_type": "execute_result"
    }
   ],
   "source": [
    "train_data, test_data = [], []\n",
    "for ex in final_dataset:\n",
    "    if random.random() < test_frac:\n",
    "        test_data.append(ex)\n",
    "    else:\n",
    "        train_data.append(ex)\n",
    "len(train_data), len(test_data)"
   ]
  },
  {
   "cell_type": "code",
   "execution_count": 235,
   "id": "75ee645f-ba81-4169-bf43-6ce7266a501d",
   "metadata": {},
   "outputs": [],
   "source": [
    "dataset_dir = os.path.join(os.environ['CAI_DATA_BASE_PATH'], \"processed_datasets/part-of-speech-olive/\")\n",
    "\n",
    "os.makedirs(dataset_dir, exist_ok=True)\n",
    "with open(os.path.join(dataset_dir, \"dataset.pkl\"), 'wb') as f:\n",
    "    pickle.dump(final_dataset, f)\n",
    "with open(os.path.join(dataset_dir, \"train.pkl\"), 'wb') as f:\n",
    "    pickle.dump(train_data, f)\n",
    "with open(os.path.join(dataset_dir, \"test.pkl\"), 'wb') as f:\n",
    "    pickle.dump(test_data, f)"
   ]
  }
 ],
 "metadata": {
  "kernelspec": {
   "display_name": "Python 3 (ipykernel)",
   "language": "python",
   "name": "python3"
  },
  "language_info": {
   "codemirror_mode": {
    "name": "ipython",
    "version": 3
   },
   "file_extension": ".py",
   "mimetype": "text/x-python",
   "name": "python",
   "nbconvert_exporter": "python",
   "pygments_lexer": "ipython3",
   "version": "3.10.5"
  }
 },
 "nbformat": 4,
 "nbformat_minor": 5
}
