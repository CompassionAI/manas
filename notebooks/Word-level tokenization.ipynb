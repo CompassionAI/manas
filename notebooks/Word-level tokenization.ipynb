{
 "cells": [
  {
   "cell_type": "code",
   "execution_count": 1,
   "id": "a65fb5ad-ae22-4096-bd32-9023f838f181",
   "metadata": {},
   "outputs": [],
   "source": [
    "def botok_tokenize(l):\n",
    "    from botok import Text\n",
    "    return Text(l).tokenize_chunks_plaintext"
   ]
  },
  {
   "cell_type": "code",
   "execution_count": 2,
   "id": "4854f213-0cbb-4066-9528-c36f0eded03b",
   "metadata": {},
   "outputs": [],
   "source": [
    "import os\n",
    "import random\n",
    "\n",
    "from tqdm.auto import tqdm\n",
    "\n",
    "import pandas as pd"
   ]
  },
  {
   "cell_type": "code",
   "execution_count": 3,
   "id": "6ccf2d43-85de-434c-bab8-c21fe3f9e43e",
   "metadata": {},
   "outputs": [],
   "source": [
    "from multiprocessing import Pool"
   ]
  },
  {
   "cell_type": "code",
   "execution_count": 4,
   "id": "31047fd5-bc74-4880-9146-1ccbc2b5abdc",
   "metadata": {},
   "outputs": [
    {
     "data": {
      "application/vnd.jupyter.widget-view+json": {
       "model_id": "c83b17314cc6424fa7d58608d478028a",
       "version_major": 2,
       "version_minor": 0
      },
      "text/plain": [
       "  0%|          | 0/40 [00:00<?, ?it/s]"
      ]
     },
     "metadata": {},
     "output_type": "display_data"
    },
    {
     "data": {
      "text/plain": [
       "6564763"
      ]
     },
     "execution_count": 4,
     "metadata": {},
     "output_type": "execute_result"
    }
   ],
   "source": [
    "all_lines = []\n",
    "\n",
    "base_dir = os.path.join(os.environ['CAI_TEMP_PATH'], \"temp_data/bert_like_endogenous_docs\")\n",
    "for fn in tqdm(os.listdir(base_dir)):\n",
    "    with open(os.path.join(base_dir, fn), 'r') as f:\n",
    "        all_lines.extend([l.strip() for l in f.readlines()])\n",
    "all_lines = list(filter(lambda l: len(l) > 0, all_lines))\n",
    "len(all_lines)"
   ]
  },
  {
   "cell_type": "code",
   "execution_count": 5,
   "id": "779e9814-2c36-4b04-b4cc-51d8e6d34d0c",
   "metadata": {},
   "outputs": [
    {
     "data": {
      "text/plain": [
       "'།སྙིང་པོའི་ཡི་གེ་ཉི་ཤུ་གཉིས།'"
      ]
     },
     "execution_count": 5,
     "metadata": {},
     "output_type": "execute_result"
    }
   ],
   "source": [
    "random.choice(all_lines)"
   ]
  },
  {
   "cell_type": "markdown",
   "id": "26a9622f-1336-4f6a-a56a-8a3b43438271",
   "metadata": {},
   "source": [
    "# Syllables"
   ]
  },
  {
   "cell_type": "code",
   "execution_count": 6,
   "id": "49a71453-75d3-485b-b53d-838d9feb50f0",
   "metadata": {},
   "outputs": [],
   "source": [
    "all_trimmed = [l.replace('།', '') for l in all_lines]"
   ]
  },
  {
   "cell_type": "code",
   "execution_count": 7,
   "id": "d6410a70-6804-4f0a-90c8-61044e6d1446",
   "metadata": {},
   "outputs": [
    {
     "data": {
      "application/vnd.jupyter.widget-view+json": {
       "model_id": "becdc8902a754958845b7ba7156362e8",
       "version_major": 2,
       "version_minor": 0
      },
      "text/plain": [
       "  0%|          | 0/6564763 [00:00<?, ?it/s]"
      ]
     },
     "metadata": {},
     "output_type": "display_data"
    },
    {
     "data": {
      "text/plain": [
       "6564763"
      ]
     },
     "execution_count": 7,
     "metadata": {},
     "output_type": "execute_result"
    }
   ],
   "source": [
    "splitters = {'།', '་'}\n",
    "\n",
    "all_tokenized = []\n",
    "for l in tqdm(all_trimmed):\n",
    "    all_tokenized.append(' '.join(filter(lambda x: len(x) > 0, l.split('་'))))\n",
    "len(all_tokenized)"
   ]
  },
  {
   "cell_type": "code",
   "execution_count": 8,
   "id": "00b4f0a7-1ebb-4c10-ba4f-f7ff74831885",
   "metadata": {},
   "outputs": [
    {
     "data": {
      "text/plain": [
       "'འོན ཀྱང ཡོན ཏན མ མཐོང བ དང སྐྱོན མ མཐོང བས འདོད ཆགས དང ཞེ སྡང མི སྐྱེ བ དེ ལ གོ རིམས བཞིན དུ ཡོན ཏན མཐོང བ མ ཡིན པ དང སྐྱོན མཐོང བ མ ཡིན པ ཉིད མ ཡིན པར དགག པས མཐོང བ མིན པའི སྒྲས བཤད པ ཡིན ནོ'"
      ]
     },
     "execution_count": 8,
     "metadata": {},
     "output_type": "execute_result"
    }
   ],
   "source": [
    "random.choice(all_tokenized)"
   ]
  },
  {
   "cell_type": "code",
   "execution_count": 9,
   "id": "383fecb3-adc7-4601-ad69-28886583a1cb",
   "metadata": {},
   "outputs": [
    {
     "data": {
      "application/vnd.jupyter.widget-view+json": {
       "model_id": "fae69043f45240acabad0a290c628c82",
       "version_major": 2,
       "version_minor": 0
      },
      "text/plain": [
       "  0%|          | 0/6564763 [00:00<?, ?it/s]"
      ]
     },
     "metadata": {},
     "output_type": "display_data"
    },
    {
     "data": {
      "text/plain": [
       "85531"
      ]
     },
     "execution_count": 9,
     "metadata": {},
     "output_type": "execute_result"
    }
   ],
   "source": [
    "tokens = set([t for l in tqdm(all_tokenized) for t in l.split(' ')])\n",
    "len(tokens)"
   ]
  },
  {
   "cell_type": "code",
   "execution_count": 10,
   "id": "e9abd739-9663-4d84-a9e0-46f69eaaf1f7",
   "metadata": {},
   "outputs": [],
   "source": [
    "tokens = list(tokens)"
   ]
  },
  {
   "cell_type": "code",
   "execution_count": 17,
   "id": "4cecc13d-0ecf-4b97-9e89-afd82b56b6aa",
   "metadata": {},
   "outputs": [
    {
     "data": {
      "text/plain": [
       "'སྱཱནྡྷཾ'"
      ]
     },
     "execution_count": 17,
     "metadata": {},
     "output_type": "execute_result"
    }
   ],
   "source": [
    "random.choice(tokens)"
   ]
  },
  {
   "cell_type": "markdown",
   "id": "7466cb04-ee57-4f0b-9940-bb03e3f6ea12",
   "metadata": {},
   "source": [
    "# Botok"
   ]
  },
  {
   "cell_type": "code",
   "execution_count": 18,
   "id": "576cd893-334f-42bb-a691-11bbda5f60cf",
   "metadata": {},
   "outputs": [
    {
     "name": "stderr",
     "output_type": "stream",
     "text": [
      "/home/eeisenst/miniconda3/envs/cai-base/lib/python3.10/site-packages/botok/textunits/bostring.py:82: UserWarning: Beware of unexpected results: input string contains the non-expanded char \"ྲྀ\", found in \"\".\n",
      "  warn(\n",
      "/home/eeisenst/miniconda3/envs/cai-base/lib/python3.10/site-packages/botok/textunits/bostring.py:82: UserWarning: Beware of unexpected results: input string contains the non-expanded char \"ྲྀ\", found in \"ྲྀཿབ\".\n",
      "  warn(\n",
      "/home/eeisenst/miniconda3/envs/cai-base/lib/python3.10/site-packages/botok/textunits/bostring.py:82: UserWarning: Beware of unexpected results: input string contains the non-expanded char \"ྲྀ\", found in \"ྲྀཿཝ\".\n",
      "  warn(\n",
      "/home/eeisenst/miniconda3/envs/cai-base/lib/python3.10/site-packages/botok/textunits/bostring.py:82: UserWarning: Beware of unexpected results: input string contains the non-expanded char \"བྷ\", found in \"\".\n",
      "  warn(\n",
      "/home/eeisenst/miniconda3/envs/cai-base/lib/python3.10/site-packages/botok/textunits/bostring.py:82: UserWarning: Beware of unexpected results: input string contains the non-expanded char \"བྷ\", found in \"བྷྲུཾ་ཡིག་\".\n",
      "  warn(\n",
      "/home/eeisenst/miniconda3/envs/cai-base/lib/python3.10/site-packages/botok/textunits/bostring.py:82: UserWarning: Beware of unexpected results: input string contains the non-expanded char \"ྲྀ\", found in \"ྲྀཿ\".\n",
      "  warn(\n",
      "/home/eeisenst/miniconda3/envs/cai-base/lib/python3.10/site-packages/botok/textunits/bostring.py:82: UserWarning: Beware of unexpected results: input string contains the non-expanded char \"བྷ\", found in \"བྷྲཱུཾ་ཡིག\".\n",
      "  warn(\n",
      "/home/eeisenst/miniconda3/envs/cai-base/lib/python3.10/site-packages/botok/textunits/bostring.py:82: UserWarning: Beware of unexpected results: input string contains the non-expanded char \"ྲྀ\", found in \"ྲྀཿལ\".\n",
      "  warn(\n",
      "/home/eeisenst/miniconda3/envs/cai-base/lib/python3.10/site-packages/botok/textunits/bostring.py:82: UserWarning: Beware of unexpected results: input string contains the non-expanded char \"གྷ\", found in \"གྷྣཾ\".\n",
      "  warn(\n",
      "/home/eeisenst/miniconda3/envs/cai-base/lib/python3.10/site-packages/botok/textunits/bostring.py:82: UserWarning: Beware of unexpected results: input string contains the non-expanded char \"ཛྷ\", found in \"\".\n",
      "  warn(\n",
      "/home/eeisenst/miniconda3/envs/cai-base/lib/python3.10/site-packages/botok/textunits/bostring.py:82: UserWarning: Beware of unexpected results: input string contains the non-expanded char \"བྷ\", found in \"བྷྲཱུཾ་ཨཱཾ་\".\n",
      "  warn(\n",
      "/home/eeisenst/miniconda3/envs/cai-base/lib/python3.10/site-packages/botok/textunits/bostring.py:82: UserWarning: Beware of unexpected results: input string contains the non-expanded char \"ྦྷ\", found in \"\".\n",
      "  warn(\n",
      "/home/eeisenst/miniconda3/envs/cai-base/lib/python3.10/site-packages/botok/textunits/bostring.py:82: UserWarning: Beware of unexpected results: input string contains the non-expanded char \"གྷ\", found in \"\".\n",
      "  warn(\n",
      "/home/eeisenst/miniconda3/envs/cai-base/lib/python3.10/site-packages/botok/textunits/bostring.py:82: UserWarning: Beware of unexpected results: input string contains the non-expanded char \"ྲྀ\", found in \"ྲྀ\".\n",
      "  warn(\n",
      "/home/eeisenst/miniconda3/envs/cai-base/lib/python3.10/site-packages/botok/textunits/bostring.py:82: UserWarning: Beware of unexpected results: input string contains the non-expanded char \"དྷ\", found in \"དྷཱ\".\n",
      "  warn(\n",
      "/home/eeisenst/miniconda3/envs/cai-base/lib/python3.10/site-packages/botok/textunits/bostring.py:82: UserWarning: Beware of unexpected results: input string contains the non-expanded char \"ྒྷ\", found in \"\".\n",
      "  warn(\n",
      "/home/eeisenst/miniconda3/envs/cai-base/lib/python3.10/site-packages/botok/textunits/bostring.py:82: UserWarning: Beware of unexpected results: input string contains the non-expanded char \"ཀྵ\", found in \"\".\n",
      "  warn(\n",
      "/home/eeisenst/miniconda3/envs/cai-base/lib/python3.10/site-packages/botok/textunits/bostring.py:82: UserWarning: Beware of unexpected results: input string contains the non-expanded char \"དྷ\", found in \"\".\n",
      "  warn(\n",
      "/home/eeisenst/miniconda3/envs/cai-base/lib/python3.10/site-packages/botok/textunits/bostring.py:82: UserWarning: Beware of unexpected results: input string contains the non-expanded char \"ྡྷ\", found in \"\".\n",
      "  warn(\n",
      "/home/eeisenst/miniconda3/envs/cai-base/lib/python3.10/site-packages/botok/textunits/bostring.py:82: UserWarning: Beware of unexpected results: input string contains the non-expanded char \"དྷ\", found in \"དྷྭ་བར\".\n",
      "  warn(\n",
      "/home/eeisenst/miniconda3/envs/cai-base/lib/python3.10/site-packages/botok/textunits/bostring.py:82: UserWarning: Beware of unexpected results: input string contains the non-expanded char \"གྷ\", found in \"\".\n",
      "  warn(\n",
      "/home/eeisenst/miniconda3/envs/cai-base/lib/python3.10/site-packages/botok/textunits/bostring.py:82: UserWarning: Beware of unexpected results: input string contains the non-expanded char \"དྷ\", found in \"\".\n",
      "  warn(\n",
      "/home/eeisenst/miniconda3/envs/cai-base/lib/python3.10/site-packages/botok/textunits/bostring.py:82: UserWarning: Beware of unexpected results: input string contains the non-expanded char \"བྷ\", found in \"\".\n",
      "  warn(\n",
      "/home/eeisenst/miniconda3/envs/cai-base/lib/python3.10/site-packages/botok/textunits/bostring.py:82: UserWarning: Beware of unexpected results: input string contains the non-expanded char \"བྷ\", found in \"བྷུཾ་ཛ\".\n",
      "  warn(\n",
      "/home/eeisenst/miniconda3/envs/cai-base/lib/python3.10/site-packages/botok/textunits/bostring.py:82: UserWarning: Beware of unexpected results: input string contains the non-expanded char \"དྷ\", found in \"\".\n",
      "  warn(\n",
      "/home/eeisenst/miniconda3/envs/cai-base/lib/python3.10/site-packages/botok/textunits/bostring.py:82: UserWarning: Beware of unexpected results: input string contains the non-expanded char \"ཀྵ\", found in \"\".\n",
      "  warn(\n",
      "/home/eeisenst/miniconda3/envs/cai-base/lib/python3.10/site-packages/botok/textunits/bostring.py:82: UserWarning: Beware of unexpected results: input string contains the non-expanded char \"ཀྵ\", found in \"ཀྵ་པཱ་\".\n",
      "  warn(\n",
      "/home/eeisenst/miniconda3/envs/cai-base/lib/python3.10/site-packages/botok/textunits/bostring.py:82: UserWarning: Beware of unexpected results: input string contains the non-expanded char \"བྷ\", found in \"བྷྱུཏྦཱདི\".\n",
      "  warn(\n",
      "/home/eeisenst/miniconda3/envs/cai-base/lib/python3.10/site-packages/botok/textunits/bostring.py:82: UserWarning: Beware of unexpected results: input string contains the non-expanded char \"བྷ\", found in \"\".\n",
      "  warn(\n",
      "/home/eeisenst/miniconda3/envs/cai-base/lib/python3.10/site-packages/botok/textunits/bostring.py:82: UserWarning: Beware of unexpected results: input string contains the non-expanded char \"དྷ\", found in \"\".\n",
      "  warn(\n",
      "/home/eeisenst/miniconda3/envs/cai-base/lib/python3.10/site-packages/botok/textunits/bostring.py:82: UserWarning: Beware of unexpected results: input string contains the non-expanded char \"དྷ\", found in \"\".\n",
      "  warn(\n",
      "/home/eeisenst/miniconda3/envs/cai-base/lib/python3.10/site-packages/botok/textunits/bostring.py:82: UserWarning: Beware of unexpected results: input string contains the non-expanded char \"དྷ\", found in \"དྷིཾ་ཁ\".\n",
      "  warn(\n",
      "/home/eeisenst/miniconda3/envs/cai-base/lib/python3.10/site-packages/botok/textunits/bostring.py:82: UserWarning: Beware of unexpected results: input string contains the non-expanded char \"ཌྷ\", found in \"\".\n",
      "  warn(\n",
      "/home/eeisenst/miniconda3/envs/cai-base/lib/python3.10/site-packages/botok/textunits/bostring.py:82: UserWarning: Beware of unexpected results: input string contains the non-expanded char \"གྷ\", found in \"\".\n",
      "  warn(\n",
      "/home/eeisenst/miniconda3/envs/cai-base/lib/python3.10/site-packages/botok/textunits/bostring.py:82: UserWarning: Beware of unexpected results: input string contains the non-expanded char \"ྲྀ\", found in \"\".\n",
      "  warn(\n",
      "/home/eeisenst/miniconda3/envs/cai-base/lib/python3.10/site-packages/botok/textunits/bostring.py:82: UserWarning: Beware of unexpected results: input string contains the non-expanded char \"ྲྀ\", found in \"ྲྀ་ཏོ་ཏ་ན\".\n",
      "  warn(\n",
      "/home/eeisenst/miniconda3/envs/cai-base/lib/python3.10/site-packages/botok/textunits/bostring.py:82: UserWarning: Beware of unexpected results: input string contains the non-expanded char \"ྲྀ\", found in \"ྲྀ་\".\n",
      "  warn(\n",
      "/home/eeisenst/miniconda3/envs/cai-base/lib/python3.10/site-packages/botok/textunits/bostring.py:82: UserWarning: Beware of unexpected results: input string contains the non-expanded char \"དྷ\", found in \"\".\n",
      "  warn(\n",
      "/home/eeisenst/miniconda3/envs/cai-base/lib/python3.10/site-packages/botok/textunits/bostring.py:82: UserWarning: Beware of unexpected results: input string contains the non-expanded char \"གྷ\", found in \"གྷྣཱཾ\".\n",
      "  warn(\n",
      "/home/eeisenst/miniconda3/envs/cai-base/lib/python3.10/site-packages/botok/textunits/bostring.py:82: UserWarning: Beware of unexpected results: input string contains the non-expanded char \"གྷ\", found in \"གྷྲ\".\n",
      "  warn(\n",
      "/home/eeisenst/miniconda3/envs/cai-base/lib/python3.10/site-packages/botok/textunits/bostring.py:82: UserWarning: Beware of unexpected results: input string contains the non-expanded char \"གྷ\", found in \"\".\n",
      "  warn(\n",
      "/home/eeisenst/miniconda3/envs/cai-base/lib/python3.10/site-packages/botok/textunits/bostring.py:82: UserWarning: Beware of unexpected results: input string contains the non-expanded char \"ཛྷ\", found in \"\".\n",
      "  warn(\n",
      "/home/eeisenst/miniconda3/envs/cai-base/lib/python3.10/site-packages/botok/textunits/bostring.py:82: UserWarning: Beware of unexpected results: input string contains the non-expanded char \"དྷ\", found in \"དྷརྨ་བཛ\".\n",
      "  warn(\n",
      "/home/eeisenst/miniconda3/envs/cai-base/lib/python3.10/site-packages/botok/textunits/bostring.py:82: UserWarning: Beware of unexpected results: input string contains the non-expanded char \"བྷ\", found in \"བྷོ་གཻཿསྶར\".\n",
      "  warn(\n",
      "/home/eeisenst/miniconda3/envs/cai-base/lib/python3.10/site-packages/botok/textunits/bostring.py:82: UserWarning: Beware of unexpected results: input string contains the non-expanded char \"ྡྷ\", found in \"\".\n",
      "  warn(\n",
      "/home/eeisenst/miniconda3/envs/cai-base/lib/python3.10/site-packages/botok/textunits/bostring.py:82: UserWarning: Beware of unexpected results: input string contains the non-expanded char \"བྷ\", found in \"\".\n",
      "  warn(\n",
      "/home/eeisenst/miniconda3/envs/cai-base/lib/python3.10/site-packages/botok/textunits/bostring.py:82: UserWarning: Beware of unexpected results: input string contains the non-expanded char \"དྷ\", found in \"\".\n",
      "  warn(\n",
      "/home/eeisenst/miniconda3/envs/cai-base/lib/python3.10/site-packages/botok/textunits/bostring.py:82: UserWarning: Beware of unexpected results: input string contains the non-expanded char \"ྦྷ\", found in \"\".\n",
      "  warn(\n",
      "/home/eeisenst/miniconda3/envs/cai-base/lib/python3.10/site-packages/botok/textunits/bostring.py:82: UserWarning: Beware of unexpected results: input string contains the non-expanded char \"དྷ\", found in \"དྷྭ་ཛ་\".\n",
      "  warn(\n",
      "/home/eeisenst/miniconda3/envs/cai-base/lib/python3.10/site-packages/botok/textunits/bostring.py:82: UserWarning: Beware of unexpected results: input string contains the non-expanded char \"ྡྷ\", found in \"\".\n",
      "  warn(\n",
      "/home/eeisenst/miniconda3/envs/cai-base/lib/python3.10/site-packages/botok/textunits/bostring.py:82: UserWarning: Beware of unexpected results: input string contains the non-expanded char \"ཀྵ\", found in \"ཀྵྨཱཾ་ཀྵྨཱཾ\".\n",
      "  warn(\n",
      "/home/eeisenst/miniconda3/envs/cai-base/lib/python3.10/site-packages/botok/textunits/bostring.py:82: UserWarning: Beware of unexpected results: input string contains the non-expanded char \"ཀྵ\", found in \"\".\n",
      "  warn(\n",
      "/home/eeisenst/miniconda3/envs/cai-base/lib/python3.10/site-packages/botok/textunits/bostring.py:82: UserWarning: Beware of unexpected results: input string contains the non-expanded char \"ྲྀ\", found in \"ྲྀ་ཧ་ཏི་ཀ\".\n",
      "  warn(\n",
      "/home/eeisenst/miniconda3/envs/cai-base/lib/python3.10/site-packages/botok/textunits/bostring.py:82: UserWarning: Beware of unexpected results: input string contains the non-expanded char \"ྫྷ\", found in \"ྫྷ་ཊ\".\n",
      "  warn(\n",
      "/home/eeisenst/miniconda3/envs/cai-base/lib/python3.10/site-packages/botok/textunits/bostring.py:82: UserWarning: Beware of unexpected results: input string contains the non-expanded char \"ྦྷ\", found in \"ྦྷཱ\".\n",
      "  warn(\n",
      "/home/eeisenst/miniconda3/envs/cai-base/lib/python3.10/site-packages/botok/textunits/bostring.py:82: UserWarning: Beware of unexpected results: input string contains the non-expanded char \"ྦྷ\", found in \"\".\n",
      "  warn(\n",
      "/home/eeisenst/miniconda3/envs/cai-base/lib/python3.10/site-packages/botok/textunits/bostring.py:82: UserWarning: Beware of unexpected results: input string contains the non-expanded char \"དྷ\", found in \"དྷྭེ་ཤྭ\".\n",
      "  warn(\n",
      "/home/eeisenst/miniconda3/envs/cai-base/lib/python3.10/site-packages/botok/textunits/bostring.py:82: UserWarning: Beware of unexpected results: input string contains the non-expanded char \"དྷ\", found in \"དྷྭེ་ཞེས་བྱ\".\n",
      "  warn(\n",
      "/home/eeisenst/miniconda3/envs/cai-base/lib/python3.10/site-packages/botok/textunits/bostring.py:82: UserWarning: Beware of unexpected results: input string contains the non-expanded char \"བྷ\", found in \"བྷྲཱ་\".\n",
      "  warn(\n",
      "/home/eeisenst/miniconda3/envs/cai-base/lib/python3.10/site-packages/botok/textunits/bostring.py:82: UserWarning: Beware of unexpected results: input string contains the non-expanded char \"བྷ\", found in \"\".\n",
      "  warn(\n",
      "/home/eeisenst/miniconda3/envs/cai-base/lib/python3.10/site-packages/botok/textunits/bostring.py:82: UserWarning: Beware of unexpected results: input string contains the non-expanded char \"དྷ\", found in \"\".\n",
      "  warn(\n",
      "/home/eeisenst/miniconda3/envs/cai-base/lib/python3.10/site-packages/botok/textunits/bostring.py:82: UserWarning: Beware of unexpected results: input string contains the non-expanded char \"དྷ\", found in \"དྷྱ་མ་ཤ\".\n",
      "  warn(\n",
      "/home/eeisenst/miniconda3/envs/cai-base/lib/python3.10/site-packages/botok/textunits/bostring.py:82: UserWarning: Beware of unexpected results: input string contains the non-expanded char \"གྷ\", found in \"\".\n",
      "  warn(\n",
      "/home/eeisenst/miniconda3/envs/cai-base/lib/python3.10/site-packages/botok/textunits/bostring.py:82: UserWarning: Beware of unexpected results: input string contains the non-expanded char \"ླྀ\", found in \"\".\n",
      "  warn(\n",
      "/home/eeisenst/miniconda3/envs/cai-base/lib/python3.10/site-packages/botok/textunits/bostring.py:82: UserWarning: Beware of unexpected results: input string contains the non-expanded char \"དྷ\", found in \"\".\n",
      "  warn(\n",
      "/home/eeisenst/miniconda3/envs/cai-base/lib/python3.10/site-packages/botok/textunits/bostring.py:82: UserWarning: Beware of unexpected results: input string contains the non-expanded char \"དྷ\", found in \"\".\n",
      "  warn(\n",
      "/home/eeisenst/miniconda3/envs/cai-base/lib/python3.10/site-packages/botok/textunits/bostring.py:82: UserWarning: Beware of unexpected results: input string contains the non-expanded char \"བྷ\", found in \"བྷྲ\".\n",
      "  warn(\n",
      "/home/eeisenst/miniconda3/envs/cai-base/lib/python3.10/site-packages/botok/textunits/bostring.py:82: UserWarning: Beware of unexpected results: input string contains the non-expanded char \"དྷ\", found in \"\".\n",
      "  warn(\n",
      "/home/eeisenst/miniconda3/envs/cai-base/lib/python3.10/site-packages/botok/textunits/bostring.py:82: UserWarning: Beware of unexpected results: input string contains the non-expanded char \"ཀྵ\", found in \"ཀྵིཾ་ཛྃ་ཁྃ\".\n",
      "  warn(\n",
      "/home/eeisenst/miniconda3/envs/cai-base/lib/python3.10/site-packages/botok/textunits/bostring.py:82: UserWarning: Beware of unexpected results: input string contains the non-expanded char \"ཱི\", found in \"\".\n",
      "  warn(\n",
      "/home/eeisenst/miniconda3/envs/cai-base/lib/python3.10/site-packages/botok/textunits/bostring.py:82: UserWarning: Beware of unexpected results: input string contains the non-expanded char \"དྷ\", found in \"དྷ\".\n",
      "  warn(\n",
      "/home/eeisenst/miniconda3/envs/cai-base/lib/python3.10/site-packages/botok/textunits/bostring.py:82: UserWarning: Beware of unexpected results: input string contains the non-expanded char \"ཱི\", found in \"ཱི་ཛཱ་\".\n",
      "  warn(\n",
      "/home/eeisenst/miniconda3/envs/cai-base/lib/python3.10/site-packages/botok/textunits/bostring.py:82: UserWarning: Beware of unexpected results: input string contains the non-expanded char \"དྷ\", found in \"དྷྲྀཀ་ཅ\".\n",
      "  warn(\n",
      "/home/eeisenst/miniconda3/envs/cai-base/lib/python3.10/site-packages/botok/textunits/bostring.py:82: UserWarning: Beware of unexpected results: input string contains the non-expanded char \"བྷ\", found in \"བྷ\".\n",
      "  warn(\n",
      "/home/eeisenst/miniconda3/envs/cai-base/lib/python3.10/site-packages/botok/textunits/bostring.py:82: UserWarning: Beware of unexpected results: input string contains the non-expanded char \"ༀ\", found in \"ༀ་ས\".\n",
      "  warn(\n",
      "/home/eeisenst/miniconda3/envs/cai-base/lib/python3.10/site-packages/botok/textunits/bostring.py:82: UserWarning: Beware of unexpected results: input string contains the non-expanded char \"ཌྷ\", found in \"\".\n",
      "  warn(\n",
      "/home/eeisenst/miniconda3/envs/cai-base/lib/python3.10/site-packages/botok/textunits/bostring.py:82: UserWarning: Beware of unexpected results: input string contains the non-expanded char \"གྷ\", found in \"གྷྲ\".\n",
      "  warn(\n",
      "/home/eeisenst/miniconda3/envs/cai-base/lib/python3.10/site-packages/botok/textunits/bostring.py:82: UserWarning: Beware of unexpected results: input string contains the non-expanded char \"བྷ\", found in \"\".\n",
      "  warn(\n",
      "/home/eeisenst/miniconda3/envs/cai-base/lib/python3.10/site-packages/botok/textunits/bostring.py:82: UserWarning: Beware of unexpected results: input string contains the non-expanded char \"ྲྀ\", found in \"\".\n",
      "  warn(\n",
      "/home/eeisenst/miniconda3/envs/cai-base/lib/python3.10/site-packages/botok/textunits/bostring.py:82: UserWarning: Beware of unexpected results: input string contains the non-expanded char \"བྷ\", found in \"\".\n",
      "  warn(\n",
      "/home/eeisenst/miniconda3/envs/cai-base/lib/python3.10/site-packages/botok/textunits/bostring.py:82: UserWarning: Beware of unexpected results: input string contains the non-expanded char \"ྡྷ\", found in \"\".\n",
      "  warn(\n",
      "/home/eeisenst/miniconda3/envs/cai-base/lib/python3.10/site-packages/botok/textunits/bostring.py:82: UserWarning: Beware of unexpected results: input string contains the non-expanded char \"གྷ\", found in \"\".\n",
      "  warn(\n",
      "/home/eeisenst/miniconda3/envs/cai-base/lib/python3.10/site-packages/botok/textunits/bostring.py:82: UserWarning: Beware of unexpected results: input string contains the non-expanded char \"ༀ\", found in \"ༀ་ཌཱ་ཀི་ན\".\n",
      "  warn(\n",
      "/home/eeisenst/miniconda3/envs/cai-base/lib/python3.10/site-packages/botok/textunits/bostring.py:82: UserWarning: Beware of unexpected results: input string contains the non-expanded char \"གྷ\", found in \"གྷན\".\n",
      "  warn(\n",
      "/home/eeisenst/miniconda3/envs/cai-base/lib/python3.10/site-packages/botok/textunits/bostring.py:82: UserWarning: Beware of unexpected results: input string contains the non-expanded char \"ྲྀ\", found in \"\".\n",
      "  warn(\n",
      "/home/eeisenst/miniconda3/envs/cai-base/lib/python3.10/site-packages/botok/textunits/bostring.py:82: UserWarning: Beware of unexpected results: input string contains the non-expanded char \"ྡྷ\", found in \"\".\n",
      "  warn(\n",
      "/home/eeisenst/miniconda3/envs/cai-base/lib/python3.10/site-packages/botok/textunits/bostring.py:82: UserWarning: Beware of unexpected results: input string contains the non-expanded char \"ཛྷ\", found in \"\".\n",
      "  warn(\n",
      "/home/eeisenst/miniconda3/envs/cai-base/lib/python3.10/site-packages/botok/textunits/bostring.py:82: UserWarning: Beware of unexpected results: input string contains the non-expanded char \"བྷ\", found in \"\".\n",
      "  warn(\n",
      "/home/eeisenst/miniconda3/envs/cai-base/lib/python3.10/site-packages/botok/textunits/bostring.py:82: UserWarning: Beware of unexpected results: input string contains the non-expanded char \"ྦྷ\", found in \"\".\n",
      "  warn(\n",
      "/home/eeisenst/miniconda3/envs/cai-base/lib/python3.10/site-packages/botok/textunits/bostring.py:82: UserWarning: Beware of unexpected results: input string contains the non-expanded char \"གྷ\", found in \"\".\n",
      "  warn(\n",
      "/home/eeisenst/miniconda3/envs/cai-base/lib/python3.10/site-packages/botok/textunits/bostring.py:82: UserWarning: Beware of unexpected results: input string contains the non-expanded char \"བྷ\", found in \"བྷྲཱུཾ་ལས་\".\n",
      "  warn(\n",
      "/home/eeisenst/miniconda3/envs/cai-base/lib/python3.10/site-packages/botok/textunits/bostring.py:82: UserWarning: Beware of unexpected results: input string contains the non-expanded char \"ཀྵ\", found in \"ཀྵཱི་ཀྵླྀ་ཀྵཱ\".\n",
      "  warn(\n",
      "/home/eeisenst/miniconda3/envs/cai-base/lib/python3.10/site-packages/botok/textunits/bostring.py:82: UserWarning: Beware of unexpected results: input string contains the non-expanded char \"ཀྵ\", found in \"ཀྵླྀ་ཀྵཱ\".\n",
      "  warn(\n",
      "/home/eeisenst/miniconda3/envs/cai-base/lib/python3.10/site-packages/botok/textunits/bostring.py:82: UserWarning: Beware of unexpected results: input string contains the non-expanded char \"ླྀ\", found in \"ླྀ་ཀྵཱ\".\n",
      "  warn(\n",
      "/home/eeisenst/miniconda3/envs/cai-base/lib/python3.10/site-packages/botok/textunits/bostring.py:82: UserWarning: Beware of unexpected results: input string contains the non-expanded char \"ཀྵ\", found in \"ཀྵཱ\".\n",
      "  warn(\n",
      "/home/eeisenst/miniconda3/envs/cai-base/lib/python3.10/site-packages/botok/textunits/bostring.py:82: UserWarning: Beware of unexpected results: input string contains the non-expanded char \"ཀྵ\", found in \"\".\n",
      "  warn(\n",
      "/home/eeisenst/miniconda3/envs/cai-base/lib/python3.10/site-packages/botok/textunits/bostring.py:82: UserWarning: Beware of unexpected results: input string contains the non-expanded char \"ཀྵ\", found in \"ཀྵཱུྃ་\".\n",
      "  warn(\n",
      "/home/eeisenst/miniconda3/envs/cai-base/lib/python3.10/site-packages/botok/textunits/bostring.py:82: UserWarning: Beware of unexpected results: input string contains the non-expanded char \"ཀྵ\", found in \"\".\n",
      "  warn(\n",
      "/home/eeisenst/miniconda3/envs/cai-base/lib/python3.10/site-packages/botok/textunits/bostring.py:82: UserWarning: Beware of unexpected results: input string contains the non-expanded char \"ྐྵ\", found in \"\".\n",
      "  warn(\n",
      "/home/eeisenst/miniconda3/envs/cai-base/lib/python3.10/site-packages/botok/textunits/bostring.py:82: UserWarning: Beware of unexpected results: input string contains the non-expanded char \"ྐྵ\", found in \"\".\n",
      "  warn(\n",
      "/home/eeisenst/miniconda3/envs/cai-base/lib/python3.10/site-packages/botok/textunits/bostring.py:82: UserWarning: Beware of unexpected results: input string contains the non-expanded char \"ླྀ\", found in \"\".\n",
      "  warn(\n",
      "/home/eeisenst/miniconda3/envs/cai-base/lib/python3.10/site-packages/botok/textunits/bostring.py:82: UserWarning: Beware of unexpected results: input string contains the non-expanded char \"གྷ\", found in \"གྷྼྀ\".\n",
      "  warn(\n",
      "/home/eeisenst/miniconda3/envs/cai-base/lib/python3.10/site-packages/botok/textunits/bostring.py:82: UserWarning: Beware of unexpected results: input string contains the non-expanded char \"གྷ\", found in \"\".\n",
      "  warn(\n",
      "/home/eeisenst/miniconda3/envs/cai-base/lib/python3.10/site-packages/botok/textunits/bostring.py:82: UserWarning: Beware of unexpected results: input string contains the non-expanded char \"ཛྷ\", found in \"\".\n",
      "  warn(\n",
      "/home/eeisenst/miniconda3/envs/cai-base/lib/python3.10/site-packages/botok/textunits/bostring.py:82: UserWarning: Beware of unexpected results: input string contains the non-expanded char \"ཌྷ\", found in \"ཌྷྼྀ\".\n",
      "  warn(\n",
      "/home/eeisenst/miniconda3/envs/cai-base/lib/python3.10/site-packages/botok/textunits/bostring.py:82: UserWarning: Beware of unexpected results: input string contains the non-expanded char \"ཌྷ\", found in \"\".\n",
      "  warn(\n",
      "/home/eeisenst/miniconda3/envs/cai-base/lib/python3.10/site-packages/botok/textunits/bostring.py:82: UserWarning: Beware of unexpected results: input string contains the non-expanded char \"བྷ\", found in \"བྷྼྀ\".\n",
      "  warn(\n",
      "/home/eeisenst/miniconda3/envs/cai-base/lib/python3.10/site-packages/botok/textunits/bostring.py:82: UserWarning: Beware of unexpected results: input string contains the non-expanded char \"བྷ\", found in \"\".\n",
      "  warn(\n",
      "/home/eeisenst/miniconda3/envs/cai-base/lib/python3.10/site-packages/botok/textunits/bostring.py:82: UserWarning: Beware of unexpected results: input string contains the non-expanded char \"དྷ\", found in \"དྷྼྀ\".\n",
      "  warn(\n",
      "/home/eeisenst/miniconda3/envs/cai-base/lib/python3.10/site-packages/botok/textunits/bostring.py:82: UserWarning: Beware of unexpected results: input string contains the non-expanded char \"དྷ\", found in \"དྷྡྷཱཿདྷྡྷླཱ\".\n",
      "  warn(\n",
      "/home/eeisenst/miniconda3/envs/cai-base/lib/python3.10/site-packages/botok/textunits/bostring.py:82: UserWarning: Beware of unexpected results: input string contains the non-expanded char \"ྡྷ\", found in \"ྡྷཱཿདྷྡྷླཱ\".\n",
      "  warn(\n",
      "/home/eeisenst/miniconda3/envs/cai-base/lib/python3.10/site-packages/botok/textunits/bostring.py:82: UserWarning: Beware of unexpected results: input string contains the non-expanded char \"བྷ\", found in \"བྷྦྷཱཿབྷྦྷླཱྀ་\".\n",
      "  warn(\n",
      "/home/eeisenst/miniconda3/envs/cai-base/lib/python3.10/site-packages/botok/textunits/bostring.py:82: UserWarning: Beware of unexpected results: input string contains the non-expanded char \"ྦྷ\", found in \"ྦྷཱཿབྷྦྷླཱྀ་\".\n",
      "  warn(\n",
      "/home/eeisenst/miniconda3/envs/cai-base/lib/python3.10/site-packages/botok/textunits/bostring.py:82: UserWarning: Beware of unexpected results: input string contains the non-expanded char \"བྷ\", found in \"བྷྦྷླཱྀ་\".\n",
      "  warn(\n",
      "/home/eeisenst/miniconda3/envs/cai-base/lib/python3.10/site-packages/botok/textunits/bostring.py:82: UserWarning: Beware of unexpected results: input string contains the non-expanded char \"ྦྷ\", found in \"ྦྷླཱྀ་\".\n",
      "  warn(\n",
      "/home/eeisenst/miniconda3/envs/cai-base/lib/python3.10/site-packages/botok/textunits/bostring.py:82: UserWarning: Beware of unexpected results: input string contains the non-expanded char \"ྦྷ\", found in \"\".\n",
      "  warn(\n",
      "/home/eeisenst/miniconda3/envs/cai-base/lib/python3.10/site-packages/botok/textunits/bostring.py:82: UserWarning: Beware of unexpected results: input string contains the non-expanded char \"ཌྷ\", found in \"ཌྷྜྷཱཿཌྷྜྷླཱ\".\n",
      "  warn(\n",
      "/home/eeisenst/miniconda3/envs/cai-base/lib/python3.10/site-packages/botok/textunits/bostring.py:82: UserWarning: Beware of unexpected results: input string contains the non-expanded char \"ཌྷ\", found in \"ཌྷྜྷླཱ\".\n",
      "  warn(\n",
      "/home/eeisenst/miniconda3/envs/cai-base/lib/python3.10/site-packages/botok/textunits/bostring.py:82: UserWarning: Beware of unexpected results: input string contains the non-expanded char \"ྜྷ\", found in \"\".\n",
      "  warn(\n",
      "/home/eeisenst/miniconda3/envs/cai-base/lib/python3.10/site-packages/botok/textunits/bostring.py:82: UserWarning: Beware of unexpected results: input string contains the non-expanded char \"ཛྷ\", found in \"ཛྷྫྷཱཿཛྷྫྷླཱྀ་\".\n",
      "  warn(\n",
      "/home/eeisenst/miniconda3/envs/cai-base/lib/python3.10/site-packages/botok/textunits/bostring.py:82: UserWarning: Beware of unexpected results: input string contains the non-expanded char \"ྫྷ\", found in \"ྫྷཱཿཛྷྫྷླཱྀ་\".\n",
      "  warn(\n",
      "/home/eeisenst/miniconda3/envs/cai-base/lib/python3.10/site-packages/botok/textunits/bostring.py:82: UserWarning: Beware of unexpected results: input string contains the non-expanded char \"བྷ\", found in \"བྷཻ་ར་བ\".\n",
      "  warn(\n",
      "/home/eeisenst/miniconda3/envs/cai-base/lib/python3.10/site-packages/botok/textunits/bostring.py:82: UserWarning: Beware of unexpected results: input string contains the non-expanded char \"ཛྷ\", found in \"ཛྷྫྷླཱྀ་\".\n",
      "  warn(\n",
      "/home/eeisenst/miniconda3/envs/cai-base/lib/python3.10/site-packages/botok/textunits/bostring.py:82: UserWarning: Beware of unexpected results: input string contains the non-expanded char \"ྫྷ\", found in \"ྫྷླཱྀ་\".\n",
      "  warn(\n",
      "/home/eeisenst/miniconda3/envs/cai-base/lib/python3.10/site-packages/botok/textunits/bostring.py:82: UserWarning: Beware of unexpected results: input string contains the non-expanded char \"ྫྷ\", found in \"\".\n",
      "  warn(\n",
      "/home/eeisenst/miniconda3/envs/cai-base/lib/python3.10/site-packages/botok/textunits/bostring.py:82: UserWarning: Beware of unexpected results: input string contains the non-expanded char \"གྷ\", found in \"གྷྒྷཱཿགྷྒྷླཱྀ་\".\n",
      "  warn(\n",
      "/home/eeisenst/miniconda3/envs/cai-base/lib/python3.10/site-packages/botok/textunits/bostring.py:82: UserWarning: Beware of unexpected results: input string contains the non-expanded char \"ྒྷ\", found in \"ྒྷཱཿགྷྒྷླཱྀ་\".\n",
      "  warn(\n",
      "/home/eeisenst/miniconda3/envs/cai-base/lib/python3.10/site-packages/botok/textunits/bostring.py:82: UserWarning: Beware of unexpected results: input string contains the non-expanded char \"གྷ\", found in \"གྷྒྷླཱྀ་\".\n",
      "  warn(\n",
      "/home/eeisenst/miniconda3/envs/cai-base/lib/python3.10/site-packages/botok/textunits/bostring.py:82: UserWarning: Beware of unexpected results: input string contains the non-expanded char \"ྒྷ\", found in \"ྒྷླཱྀ་\".\n",
      "  warn(\n",
      "/home/eeisenst/miniconda3/envs/cai-base/lib/python3.10/site-packages/botok/textunits/bostring.py:82: UserWarning: Beware of unexpected results: input string contains the non-expanded char \"ྒྷ\", found in \"\".\n",
      "  warn(\n",
      "/home/eeisenst/miniconda3/envs/cai-base/lib/python3.10/site-packages/botok/textunits/bostring.py:82: UserWarning: Beware of unexpected results: input string contains the non-expanded char \"ྲྀ\", found in \"ྲྀ་ཏྱཾ་དང\".\n",
      "  warn(\n",
      "/home/eeisenst/miniconda3/envs/cai-base/lib/python3.10/site-packages/botok/textunits/bostring.py:82: UserWarning: Beware of unexpected results: input string contains the non-expanded char \"ླྀ\", found in \"\".\n",
      "  warn(\n",
      "/home/eeisenst/miniconda3/envs/cai-base/lib/python3.10/site-packages/botok/textunits/bostring.py:82: UserWarning: Beware of unexpected results: input string contains the non-expanded char \"ཀྵ\", found in \"\".\n",
      "  warn(\n",
      "/home/eeisenst/miniconda3/envs/cai-base/lib/python3.10/site-packages/botok/textunits/bostring.py:82: UserWarning: Beware of unexpected results: input string contains the non-expanded char \"དྷ\", found in \"དྷི་གཉིས་ཞི\".\n",
      "  warn(\n",
      "/home/eeisenst/miniconda3/envs/cai-base/lib/python3.10/site-packages/botok/textunits/bostring.py:82: UserWarning: Beware of unexpected results: input string contains the non-expanded char \"ཛྷ\", found in \"ཛྷྫྷཱཿཛྷྫྷླཱི\".\n",
      "  warn(\n",
      "/home/eeisenst/miniconda3/envs/cai-base/lib/python3.10/site-packages/botok/textunits/bostring.py:82: UserWarning: Beware of unexpected results: input string contains the non-expanded char \"ྫྷ\", found in \"ྫྷཱཿཛྷྫྷླཱི\".\n",
      "  warn(\n",
      "/home/eeisenst/miniconda3/envs/cai-base/lib/python3.10/site-packages/botok/textunits/bostring.py:82: UserWarning: Beware of unexpected results: input string contains the non-expanded char \"ཛྷ\", found in \"ཛྷྫྷླཱི\".\n",
      "  warn(\n",
      "/home/eeisenst/miniconda3/envs/cai-base/lib/python3.10/site-packages/botok/textunits/bostring.py:82: UserWarning: Beware of unexpected results: input string contains the non-expanded char \"ྫྷ\", found in \"ྫྷླཱི\".\n",
      "  warn(\n",
      "/home/eeisenst/miniconda3/envs/cai-base/lib/python3.10/site-packages/botok/textunits/bostring.py:82: UserWarning: Beware of unexpected results: input string contains the non-expanded char \"ཛྷ\", found in \"ཛྷི་ཛྷྼི\".\n",
      "  warn(\n",
      "/home/eeisenst/miniconda3/envs/cai-base/lib/python3.10/site-packages/botok/textunits/bostring.py:82: UserWarning: Beware of unexpected results: input string contains the non-expanded char \"ཛྷ\", found in \"ཛྷྼི\".\n",
      "  warn(\n",
      "/home/eeisenst/miniconda3/envs/cai-base/lib/python3.10/site-packages/botok/textunits/bostring.py:82: UserWarning: Beware of unexpected results: input string contains the non-expanded char \"ཌྷ\", found in \"ཌྷྜྷཱཿཌྷྜྷླ\".\n",
      "  warn(\n",
      "/home/eeisenst/miniconda3/envs/cai-base/lib/python3.10/site-packages/botok/textunits/bostring.py:82: UserWarning: Beware of unexpected results: input string contains the non-expanded char \"ཌྷ\", found in \"ཌྷྜྷླ\".\n",
      "  warn(\n",
      "/home/eeisenst/miniconda3/envs/cai-base/lib/python3.10/site-packages/botok/textunits/bostring.py:82: UserWarning: Beware of unexpected results: input string contains the non-expanded char \"ཌྷ\", found in \"ཌྷྼ\".\n",
      "  warn(\n",
      "/home/eeisenst/miniconda3/envs/cai-base/lib/python3.10/site-packages/botok/textunits/bostring.py:82: UserWarning: Beware of unexpected results: input string contains the non-expanded char \"བྷ\", found in \"བྷྦྷཱཿབྷྦྷླི་\".\n",
      "  warn(\n",
      "/home/eeisenst/miniconda3/envs/cai-base/lib/python3.10/site-packages/botok/textunits/bostring.py:82: UserWarning: Beware of unexpected results: input string contains the non-expanded char \"ྦྷ\", found in \"ྦྷཱཿབྷྦྷླི་\".\n",
      "  warn(\n",
      "/home/eeisenst/miniconda3/envs/cai-base/lib/python3.10/site-packages/botok/textunits/bostring.py:82: UserWarning: Beware of unexpected results: input string contains the non-expanded char \"བྷ\", found in \"བྷྦྷླི་\".\n",
      "  warn(\n",
      "/home/eeisenst/miniconda3/envs/cai-base/lib/python3.10/site-packages/botok/textunits/bostring.py:82: UserWarning: Beware of unexpected results: input string contains the non-expanded char \"ྦྷ\", found in \"ྦྷླི་\".\n",
      "  warn(\n",
      "/home/eeisenst/miniconda3/envs/cai-base/lib/python3.10/site-packages/botok/textunits/bostring.py:82: UserWarning: Beware of unexpected results: input string contains the non-expanded char \"བྷ\", found in \"བྷྼ\".\n",
      "  warn(\n",
      "/home/eeisenst/miniconda3/envs/cai-base/lib/python3.10/site-packages/botok/textunits/bostring.py:82: UserWarning: Beware of unexpected results: input string contains the non-expanded char \"དྷ\", found in \"དྷྡྷཱཿདྷྡྷླཱི\".\n",
      "  warn(\n",
      "/home/eeisenst/miniconda3/envs/cai-base/lib/python3.10/site-packages/botok/textunits/bostring.py:82: UserWarning: Beware of unexpected results: input string contains the non-expanded char \"ྡྷ\", found in \"ྡྷཱཿདྷྡྷླཱི\".\n",
      "  warn(\n",
      "/home/eeisenst/miniconda3/envs/cai-base/lib/python3.10/site-packages/botok/textunits/bostring.py:82: UserWarning: Beware of unexpected results: input string contains the non-expanded char \"དྷ\", found in \"དྷྡྷླཱི\".\n",
      "  warn(\n",
      "/home/eeisenst/miniconda3/envs/cai-base/lib/python3.10/site-packages/botok/textunits/bostring.py:82: UserWarning: Beware of unexpected results: input string contains the non-expanded char \"ྡྷ\", found in \"ྡྷླཱི\".\n",
      "  warn(\n",
      "/home/eeisenst/miniconda3/envs/cai-base/lib/python3.10/site-packages/botok/textunits/bostring.py:82: UserWarning: Beware of unexpected results: input string contains the non-expanded char \"ྡྷ\", found in \"\".\n",
      "  warn(\n",
      "/home/eeisenst/miniconda3/envs/cai-base/lib/python3.10/site-packages/botok/textunits/bostring.py:82: UserWarning: Beware of unexpected results: input string contains the non-expanded char \"དྷ\", found in \"དྷུ་འཕེལ\".\n",
      "  warn(\n",
      "/home/eeisenst/miniconda3/envs/cai-base/lib/python3.10/site-packages/botok/textunits/bostring.py:82: UserWarning: Beware of unexpected results: input string contains the non-expanded char \"གྷ\", found in \"གྷྒྷཱཿགྷྒྷཱལ་\".\n",
      "  warn(\n",
      "/home/eeisenst/miniconda3/envs/cai-base/lib/python3.10/site-packages/botok/textunits/bostring.py:82: UserWarning: Beware of unexpected results: input string contains the non-expanded char \"ྒྷ\", found in \"ྒྷཱཿགྷྒྷཱལ་\".\n",
      "  warn(\n",
      "/home/eeisenst/miniconda3/envs/cai-base/lib/python3.10/site-packages/botok/textunits/bostring.py:82: UserWarning: Beware of unexpected results: input string contains the non-expanded char \"གྷ\", found in \"གྷྒྷཱལ་\".\n",
      "  warn(\n",
      "/home/eeisenst/miniconda3/envs/cai-base/lib/python3.10/site-packages/botok/textunits/bostring.py:82: UserWarning: Beware of unexpected results: input string contains the non-expanded char \"ྒྷ\", found in \"ྒྷཱལ་\".\n",
      "  warn(\n",
      "/home/eeisenst/miniconda3/envs/cai-base/lib/python3.10/site-packages/botok/textunits/bostring.py:82: UserWarning: Beware of unexpected results: input string contains the non-expanded char \"ཀྵ\", found in \"\".\n",
      "  warn(\n",
      "/home/eeisenst/miniconda3/envs/cai-base/lib/python3.10/site-packages/botok/textunits/bostring.py:82: UserWarning: Beware of unexpected results: input string contains the non-expanded char \"གྷ\", found in \"གྷྒྷྷཱཿགྷྒྷླཱ\".\n",
      "  warn(\n",
      "/home/eeisenst/miniconda3/envs/cai-base/lib/python3.10/site-packages/botok/textunits/bostring.py:82: UserWarning: Beware of unexpected results: input string contains the non-expanded char \"ྒྷ\", found in \"ྒྷྷཱཿགྷྒྷླཱ\".\n",
      "  warn(\n",
      "/home/eeisenst/miniconda3/envs/cai-base/lib/python3.10/site-packages/botok/textunits/bostring.py:82: UserWarning: Beware of unexpected results: input string contains the non-expanded char \"གྷ\", found in \"གྷྒྷླཱ\".\n",
      "  warn(\n",
      "/home/eeisenst/miniconda3/envs/cai-base/lib/python3.10/site-packages/botok/textunits/bostring.py:82: UserWarning: Beware of unexpected results: input string contains the non-expanded char \"ྒྷ\", found in \"ྒྷླཱ\".\n",
      "  warn(\n",
      "/home/eeisenst/miniconda3/envs/cai-base/lib/python3.10/site-packages/botok/textunits/bostring.py:82: UserWarning: Beware of unexpected results: input string contains the non-expanded char \"དྷ\", found in \"དྷྡྷ\".\n",
      "  warn(\n",
      "/home/eeisenst/miniconda3/envs/cai-base/lib/python3.10/site-packages/botok/textunits/bostring.py:82: UserWarning: Beware of unexpected results: input string contains the non-expanded char \"ྡྷ\", found in \"ྡྷ\".\n",
      "  warn(\n",
      "/home/eeisenst/miniconda3/envs/cai-base/lib/python3.10/site-packages/botok/textunits/bostring.py:82: UserWarning: Beware of unexpected results: input string contains the non-expanded char \"ཌྷ\", found in \"ཌྷ\".\n",
      "  warn(\n",
      "/home/eeisenst/miniconda3/envs/cai-base/lib/python3.10/site-packages/botok/textunits/bostring.py:82: UserWarning: Beware of unexpected results: input string contains the non-expanded char \"ཀྵ\", found in \"ཀྵྞ\".\n",
      "  warn(\n",
      "/home/eeisenst/miniconda3/envs/cai-base/lib/python3.10/site-packages/botok/textunits/bostring.py:82: UserWarning: Beware of unexpected results: input string contains the non-expanded char \"གྷ\", found in \"\".\n",
      "  warn(\n",
      "/home/eeisenst/miniconda3/envs/cai-base/lib/python3.10/site-packages/botok/textunits/bostring.py:82: UserWarning: Beware of unexpected results: input string contains the non-expanded char \"ྡྷ\", found in \"\".\n",
      "  warn(\n",
      "/home/eeisenst/miniconda3/envs/cai-base/lib/python3.10/site-packages/botok/textunits/bostring.py:82: UserWarning: Beware of unexpected results: input string contains the non-expanded char \"ྐྵ\", found in \"ྐྵྨླྺྼྻྃཝར\".\n",
      "  warn(\n",
      "/home/eeisenst/miniconda3/envs/cai-base/lib/python3.10/site-packages/botok/textunits/bostring.py:82: UserWarning: Beware of unexpected results: input string contains the non-expanded char \"ཀྵ\", found in \"ཀྵྨ\".\n",
      "  warn(\n",
      "/home/eeisenst/miniconda3/envs/cai-base/lib/python3.10/site-packages/botok/textunits/bostring.py:82: UserWarning: Beware of unexpected results: input string contains the non-expanded char \"བྷ\", found in \"བྷྲུཾ་\".\n",
      "  warn(\n",
      "/home/eeisenst/miniconda3/envs/cai-base/lib/python3.10/site-packages/botok/textunits/bostring.py:82: UserWarning: Beware of unexpected results: input string contains the non-expanded char \"ྐྵ\", found in \"ྐྵྨླྺྼྻ\".\n",
      "  warn(\n",
      "/home/eeisenst/miniconda3/envs/cai-base/lib/python3.10/site-packages/botok/textunits/bostring.py:82: UserWarning: Beware of unexpected results: input string contains the non-expanded char \"ྡྷ\", found in \"\".\n",
      "  warn(\n",
      "/home/eeisenst/miniconda3/envs/cai-base/lib/python3.10/site-packages/botok/textunits/bostring.py:82: UserWarning: Beware of unexpected results: input string contains the non-expanded char \"ྦྷ\", found in \"\".\n",
      "  warn(\n",
      "/home/eeisenst/miniconda3/envs/cai-base/lib/python3.10/site-packages/botok/textunits/bostring.py:82: UserWarning: Beware of unexpected results: input string contains the non-expanded char \"དྷ\", found in \"\".\n",
      "  warn(\n",
      "/home/eeisenst/miniconda3/envs/cai-base/lib/python3.10/site-packages/botok/textunits/bostring.py:82: UserWarning: Beware of unexpected results: input string contains the non-expanded char \"ཌྷ\", found in \"\".\n",
      "  warn(\n",
      "/home/eeisenst/miniconda3/envs/cai-base/lib/python3.10/site-packages/botok/textunits/bostring.py:82: UserWarning: Beware of unexpected results: input string contains the non-expanded char \"ྒྷ\", found in \"\".\n",
      "  warn(\n",
      "/home/eeisenst/miniconda3/envs/cai-base/lib/python3.10/site-packages/botok/textunits/bostring.py:82: UserWarning: Beware of unexpected results: input string contains the non-expanded char \"ཀྵ\", found in \"\".\n",
      "  warn(\n",
      "/home/eeisenst/miniconda3/envs/cai-base/lib/python3.10/site-packages/botok/textunits/bostring.py:82: UserWarning: Beware of unexpected results: input string contains the non-expanded char \"ྲྀ\", found in \"\".\n",
      "  warn(\n",
      "/home/eeisenst/miniconda3/envs/cai-base/lib/python3.10/site-packages/botok/textunits/bostring.py:82: UserWarning: Beware of unexpected results: input string contains the non-expanded char \"གྷ\", found in \"\".\n",
      "  warn(\n",
      "/home/eeisenst/miniconda3/envs/cai-base/lib/python3.10/site-packages/botok/textunits/bostring.py:82: UserWarning: Beware of unexpected results: input string contains the non-expanded char \"བྷ\", found in \"\".\n",
      "  warn(\n",
      "/home/eeisenst/miniconda3/envs/cai-base/lib/python3.10/site-packages/botok/textunits/bostring.py:82: UserWarning: Beware of unexpected results: input string contains the non-expanded char \"ༀ\", found in \"ༀ་ཝཱ་གཱི་ཤ\".\n",
      "  warn(\n",
      "/home/eeisenst/miniconda3/envs/cai-base/lib/python3.10/site-packages/botok/textunits/bostring.py:82: UserWarning: Beware of unexpected results: input string contains the non-expanded char \"ཌྷ\", found in \"ཌྷྜྷ་ཌྜ་ཪྼ་\".\n",
      "  warn(\n",
      "/home/eeisenst/miniconda3/envs/cai-base/lib/python3.10/site-packages/botok/textunits/bostring.py:82: UserWarning: Beware of unexpected results: input string contains the non-expanded char \"བྷ\", found in \"བྷཉྫ་ར་\".\n",
      "  warn(\n",
      "/home/eeisenst/miniconda3/envs/cai-base/lib/python3.10/site-packages/botok/textunits/bostring.py:82: UserWarning: Beware of unexpected results: input string contains the non-expanded char \"ༀ\", found in \"ༀ་ནིརྨཱ་ཀ\".\n",
      "  warn(\n",
      "/home/eeisenst/miniconda3/envs/cai-base/lib/python3.10/site-packages/botok/textunits/bostring.py:82: UserWarning: Beware of unexpected results: input string contains the non-expanded char \"ཀྵ\", found in \"ཀྵྨྼྻུཾ་བྱ\".\n",
      "  warn(\n",
      "/home/eeisenst/miniconda3/envs/cai-base/lib/python3.10/site-packages/botok/textunits/bostring.py:82: UserWarning: Beware of unexpected results: input string contains the non-expanded char \"ༀ\", found in \"ༀ་པ་ཊུ་དཱ་\".\n",
      "  warn(\n",
      "/home/eeisenst/miniconda3/envs/cai-base/lib/python3.10/site-packages/botok/textunits/bostring.py:82: UserWarning: Beware of unexpected results: input string contains the non-expanded char \"ༀ\", found in \"ༀ་དུཿཁཙྪེ་\".\n",
      "  warn(\n",
      "/home/eeisenst/miniconda3/envs/cai-base/lib/python3.10/site-packages/botok/textunits/bostring.py:82: UserWarning: Beware of unexpected results: input string contains the non-expanded char \"ༀ\", found in \"ༀ་ཧཱུཾ་ཧྲཱ\".\n",
      "  warn(\n",
      "/home/eeisenst/miniconda3/envs/cai-base/lib/python3.10/site-packages/botok/textunits/bostring.py:82: UserWarning: Beware of unexpected results: input string contains the non-expanded char \"ༀ\", found in \"\".\n",
      "  warn(\n",
      "/home/eeisenst/miniconda3/envs/cai-base/lib/python3.10/site-packages/botok/textunits/bostring.py:82: UserWarning: Beware of unexpected results: input string contains the non-expanded char \"བྷ\", found in \"བྷ་བ་ཀ་ཨགྣ་\".\n",
      "  warn(\n",
      "/home/eeisenst/miniconda3/envs/cai-base/lib/python3.10/site-packages/botok/textunits/bostring.py:82: UserWarning: Beware of unexpected results: input string contains the non-expanded char \"ༀ\", found in \"ༀ་མ་ཧཱ་ཤོ\".\n",
      "  warn(\n",
      "/home/eeisenst/miniconda3/envs/cai-base/lib/python3.10/site-packages/botok/textunits/bostring.py:82: UserWarning: Beware of unexpected results: input string contains the non-expanded char \"ྲྀ\", found in \"ྲྀ་སུ་ད\".\n",
      "  warn(\n",
      "/home/eeisenst/miniconda3/envs/cai-base/lib/python3.10/site-packages/botok/textunits/bostring.py:82: UserWarning: Beware of unexpected results: input string contains the non-expanded char \"བྷ\", found in \"བྷྲཱུཾ\".\n",
      "  warn(\n",
      "/home/eeisenst/miniconda3/envs/cai-base/lib/python3.10/site-packages/botok/textunits/bostring.py:82: UserWarning: Beware of unexpected results: input string contains the non-expanded char \"ྡྷ\", found in \"ྡྷ་བཛ\".\n",
      "  warn(\n",
      "/home/eeisenst/miniconda3/envs/cai-base/lib/python3.10/site-packages/botok/textunits/bostring.py:82: UserWarning: Beware of unexpected results: input string contains the non-expanded char \"ༀ\", found in \"ༀ་ཧཱུྃ་ཧྲཱ\".\n",
      "  warn(\n",
      "/home/eeisenst/miniconda3/envs/cai-base/lib/python3.10/site-packages/botok/textunits/bostring.py:82: UserWarning: Beware of unexpected results: input string contains the non-expanded char \"ༀ\", found in \"ༀ་ཨཱཿཧཱུྃ་\".\n",
      "  warn(\n",
      "/home/eeisenst/miniconda3/envs/cai-base/lib/python3.10/site-packages/botok/textunits/bostring.py:82: UserWarning: Beware of unexpected results: input string contains the non-expanded char \"དྷ\", found in \"\".\n",
      "  warn(\n",
      "/home/eeisenst/miniconda3/envs/cai-base/lib/python3.10/site-packages/botok/textunits/bostring.py:82: UserWarning: Beware of unexpected results: input string contains the non-expanded char \"ༀ\", found in \"ༀ་བཛྲ་ཛྭ་\".\n",
      "  warn(\n",
      "/home/eeisenst/miniconda3/envs/cai-base/lib/python3.10/site-packages/botok/textunits/bostring.py:82: UserWarning: Beware of unexpected results: input string contains the non-expanded char \"དྷ\", found in \"དྷ\".\n",
      "  warn(\n",
      "/home/eeisenst/miniconda3/envs/cai-base/lib/python3.10/site-packages/botok/textunits/bostring.py:82: UserWarning: Beware of unexpected results: input string contains the non-expanded char \"ༀ\", found in \"ༀ་རཏྣ་ཀ་ལ་\".\n",
      "  warn(\n",
      "/home/eeisenst/miniconda3/envs/cai-base/lib/python3.10/site-packages/botok/textunits/bostring.py:82: UserWarning: Beware of unexpected results: input string contains the non-expanded char \"ༀ\", found in \"ༀ་བཛྲ་ཙཀྲ་\".\n",
      "  warn(\n",
      "/home/eeisenst/miniconda3/envs/cai-base/lib/python3.10/site-packages/botok/textunits/bostring.py:82: UserWarning: Beware of unexpected results: input string contains the non-expanded char \"ༀ\", found in \"ༀ་བཛྲ་དྷ་ར\".\n",
      "  warn(\n",
      "/home/eeisenst/miniconda3/envs/cai-base/lib/python3.10/site-packages/botok/textunits/bostring.py:82: UserWarning: Beware of unexpected results: input string contains the non-expanded char \"ༀ\", found in \"ༀ་པདྨ་དྷ་ར\".\n",
      "  warn(\n",
      "/home/eeisenst/miniconda3/envs/cai-base/lib/python3.10/site-packages/botok/textunits/bostring.py:82: UserWarning: Beware of unexpected results: input string contains the non-expanded char \"ༀ\", found in \"ༀ་བུདྡྷ་གུ\".\n",
      "  warn(\n",
      "/home/eeisenst/miniconda3/envs/cai-base/lib/python3.10/site-packages/botok/textunits/bostring.py:82: UserWarning: Beware of unexpected results: input string contains the non-expanded char \"ༀ\", found in \"ༀ་རཏྣ་གུ་ཧ\".\n",
      "  warn(\n",
      "/home/eeisenst/miniconda3/envs/cai-base/lib/python3.10/site-packages/botok/textunits/bostring.py:82: UserWarning: Beware of unexpected results: input string contains the non-expanded char \"ༀ\", found in \"ༀ་པདྨ་གུ་ཧ\".\n",
      "  warn(\n",
      "/home/eeisenst/miniconda3/envs/cai-base/lib/python3.10/site-packages/botok/textunits/bostring.py:82: UserWarning: Beware of unexpected results: input string contains the non-expanded char \"ༀ\", found in \"ༀ་ཞེས་གསང\".\n",
      "  warn(\n",
      "/home/eeisenst/miniconda3/envs/cai-base/lib/python3.10/site-packages/botok/textunits/bostring.py:82: UserWarning: Beware of unexpected results: input string contains the non-expanded char \"ྲྀ\", found in \"ྲྀ་ཏ\".\n",
      "  warn(\n",
      "/home/eeisenst/miniconda3/envs/cai-base/lib/python3.10/site-packages/botok/textunits/bostring.py:82: UserWarning: Beware of unexpected results: input string contains the non-expanded char \"བྷ\", found in \"\".\n",
      "  warn(\n",
      "/home/eeisenst/miniconda3/envs/cai-base/lib/python3.10/site-packages/botok/textunits/bostring.py:82: UserWarning: Beware of unexpected results: input string contains the non-expanded char \"ྒྷ\", found in \"\".\n",
      "  warn(\n",
      "/home/eeisenst/miniconda3/envs/cai-base/lib/python3.10/site-packages/botok/textunits/bostring.py:82: UserWarning: Beware of unexpected results: input string contains the non-expanded char \"ྒྷ\", found in \"\".\n",
      "  warn(\n",
      "/home/eeisenst/miniconda3/envs/cai-base/lib/python3.10/site-packages/botok/textunits/bostring.py:82: UserWarning: Beware of unexpected results: input string contains the non-expanded char \"ྡྷ\", found in \"\".\n",
      "  warn(\n",
      "/home/eeisenst/miniconda3/envs/cai-base/lib/python3.10/site-packages/botok/textunits/bostring.py:82: UserWarning: Beware of unexpected results: input string contains the non-expanded char \"བྷ\", found in \"བྷི་ཥིཉྩཱ\".\n",
      "  warn(\n",
      "/home/eeisenst/miniconda3/envs/cai-base/lib/python3.10/site-packages/botok/textunits/bostring.py:82: UserWarning: Beware of unexpected results: input string contains the non-expanded char \"ྦྷ\", found in \"\".\n",
      "  warn(\n",
      "/home/eeisenst/miniconda3/envs/cai-base/lib/python3.10/site-packages/botok/textunits/bostring.py:82: UserWarning: Beware of unexpected results: input string contains the non-expanded char \"ༀ\", found in \"ༀ་བཛྲ་དྷྲ\".\n",
      "  warn(\n",
      "/home/eeisenst/miniconda3/envs/cai-base/lib/python3.10/site-packages/botok/textunits/bostring.py:82: UserWarning: Beware of unexpected results: input string contains the non-expanded char \"ྲྀ\", found in \"ྲྀ་\".\n",
      "  warn(\n",
      "/home/eeisenst/miniconda3/envs/cai-base/lib/python3.10/site-packages/botok/textunits/bostring.py:82: UserWarning: Beware of unexpected results: input string contains the non-expanded char \"ྡྷ\", found in \"ྡྷི་\".\n",
      "  warn(\n",
      "/home/eeisenst/miniconda3/envs/cai-base/lib/python3.10/site-packages/botok/textunits/bostring.py:82: UserWarning: Beware of unexpected results: input string contains the non-expanded char \"ༀ\", found in \"ༀ་བཛྲ་དྲྀ་\".\n",
      "  warn(\n",
      "/home/eeisenst/miniconda3/envs/cai-base/lib/python3.10/site-packages/botok/textunits/bostring.py:82: UserWarning: Beware of unexpected results: input string contains the non-expanded char \"ༀ\", found in \"ༀ་ག་ག་ན་ལ\".\n",
      "  warn(\n",
      "/home/eeisenst/miniconda3/envs/cai-base/lib/python3.10/site-packages/botok/textunits/bostring.py:82: UserWarning: Beware of unexpected results: input string contains the non-expanded char \"དྷ\", found in \"དྷརྨྨ་བ\".\n",
      "  warn(\n",
      "/home/eeisenst/miniconda3/envs/cai-base/lib/python3.10/site-packages/botok/textunits/bostring.py:82: UserWarning: Beware of unexpected results: input string contains the non-expanded char \"ༀ\", found in \"ༀ་བཻ་རོ་ཙ\".\n",
      "  warn(\n",
      "/home/eeisenst/miniconda3/envs/cai-base/lib/python3.10/site-packages/botok/textunits/bostring.py:82: UserWarning: Beware of unexpected results: input string contains the non-expanded char \"ༀ\", found in \"ༀ་སརྦྦ་ས་མ\".\n",
      "  warn(\n",
      "/home/eeisenst/miniconda3/envs/cai-base/lib/python3.10/site-packages/botok/textunits/bostring.py:82: UserWarning: Beware of unexpected results: input string contains the non-expanded char \"ༀ\", found in \"ༀ་བཛྲ་མཎྜ\".\n",
      "  warn(\n",
      "/home/eeisenst/miniconda3/envs/cai-base/lib/python3.10/site-packages/botok/textunits/bostring.py:82: UserWarning: Beware of unexpected results: input string contains the non-expanded char \"ༀ\", found in \"ༀ་མ་ཧཱ་བཛ\".\n",
      "  warn(\n",
      "/home/eeisenst/miniconda3/envs/cai-base/lib/python3.10/site-packages/botok/textunits/bostring.py:82: UserWarning: Beware of unexpected results: input string contains the non-expanded char \"གྷ\", found in \"གྷྣཱ\".\n",
      "  warn(\n",
      "/home/eeisenst/miniconda3/envs/cai-base/lib/python3.10/site-packages/botok/textunits/bostring.py:82: UserWarning: Beware of unexpected results: input string contains the non-expanded char \"ༀ\", found in \"ༀ་བཛྲ་ས་མ\".\n",
      "  warn(\n",
      "/home/eeisenst/miniconda3/envs/cai-base/lib/python3.10/site-packages/botok/textunits/bostring.py:82: UserWarning: Beware of unexpected results: input string contains the non-expanded char \"དྷ\", found in \"དྷྲུཾ་དྷྲུཾ\".\n",
      "  warn(\n",
      "/home/eeisenst/miniconda3/envs/cai-base/lib/python3.10/site-packages/botok/textunits/bostring.py:82: UserWarning: Beware of unexpected results: input string contains the non-expanded char \"ༀ\", found in \"ༀ་བཛྲ་ནེ་\".\n",
      "  warn(\n",
      "/home/eeisenst/miniconda3/envs/cai-base/lib/python3.10/site-packages/botok/textunits/bostring.py:82: UserWarning: Beware of unexpected results: input string contains the non-expanded char \"ྡྷ\", found in \"ྡྷྱ\".\n",
      "  warn(\n",
      "/home/eeisenst/miniconda3/envs/cai-base/lib/python3.10/site-packages/botok/textunits/bostring.py:82: UserWarning: Beware of unexpected results: input string contains the non-expanded char \"དྷ\", found in \"དྷཱིཥྛ་ན་\".\n",
      "  warn(\n",
      "/home/eeisenst/miniconda3/envs/cai-base/lib/python3.10/site-packages/botok/textunits/bostring.py:82: UserWarning: Beware of unexpected results: input string contains the non-expanded char \"དྷ\", found in \"དྷྨཱ་ཏ་ཀ\".\n",
      "  warn(\n",
      "/home/eeisenst/miniconda3/envs/cai-base/lib/python3.10/site-packages/botok/textunits/bostring.py:82: UserWarning: Beware of unexpected results: input string contains the non-expanded char \"དྷ\", found in \"དྷྱེ་གཱ་\".\n",
      "  warn(\n",
      "/home/eeisenst/miniconda3/envs/cai-base/lib/python3.10/site-packages/botok/textunits/bostring.py:82: UserWarning: Beware of unexpected results: input string contains the non-expanded char \"ཌྷ\", found in \"ཌྷེཾ་སྟེ་\".\n",
      "  warn(\n",
      "/home/eeisenst/miniconda3/envs/cai-base/lib/python3.10/site-packages/botok/textunits/bostring.py:82: UserWarning: Beware of unexpected results: input string contains the non-expanded char \"དྷ\", found in \"དྷྲྀཀ་\".\n",
      "  warn(\n",
      "/home/eeisenst/miniconda3/envs/cai-base/lib/python3.10/site-packages/botok/textunits/bostring.py:82: UserWarning: Beware of unexpected results: input string contains the non-expanded char \"ྡྷ\", found in \"\".\n",
      "  warn(\n",
      "/home/eeisenst/miniconda3/envs/cai-base/lib/python3.10/site-packages/botok/textunits/bostring.py:82: UserWarning: Beware of unexpected results: input string contains the non-expanded char \"ཀྵ\", found in \"ཀྵྨ\".\n",
      "  warn(\n",
      "/home/eeisenst/miniconda3/envs/cai-base/lib/python3.10/site-packages/botok/textunits/bostring.py:82: UserWarning: Beware of unexpected results: input string contains the non-expanded char \"གྷ\", found in \"\".\n",
      "  warn(\n",
      "/home/eeisenst/miniconda3/envs/cai-base/lib/python3.10/site-packages/botok/textunits/bostring.py:82: UserWarning: Beware of unexpected results: input string contains the non-expanded char \"དྷ\", found in \"\".\n",
      "  warn(\n",
      "/home/eeisenst/miniconda3/envs/cai-base/lib/python3.10/site-packages/botok/textunits/bostring.py:82: UserWarning: Beware of unexpected results: input string contains the non-expanded char \"དྷ\", found in \"དྷ\".\n",
      "  warn(\n",
      "/home/eeisenst/miniconda3/envs/cai-base/lib/python3.10/site-packages/botok/textunits/bostring.py:82: UserWarning: Beware of unexpected results: input string contains the non-expanded char \"བྷ\", found in \"བྷྲཱུཾ་ནི་\".\n",
      "  warn(\n",
      "/home/eeisenst/miniconda3/envs/cai-base/lib/python3.10/site-packages/botok/textunits/bostring.py:82: UserWarning: Beware of unexpected results: input string contains the non-expanded char \"ཀྵ\", found in \"\".\n",
      "  warn(\n",
      "/home/eeisenst/miniconda3/envs/cai-base/lib/python3.10/site-packages/botok/textunits/bostring.py:82: UserWarning: Beware of unexpected results: input string contains the non-expanded char \"ྲྀ\", found in \"ྲྀ\".\n",
      "  warn(\n",
      "/home/eeisenst/miniconda3/envs/cai-base/lib/python3.10/site-packages/botok/textunits/bostring.py:82: UserWarning: Beware of unexpected results: input string contains the non-expanded char \"ཛྷ\", found in \"ཛྷྃ་སྐྱེས་\".\n",
      "  warn(\n",
      "/home/eeisenst/miniconda3/envs/cai-base/lib/python3.10/site-packages/botok/textunits/bostring.py:82: UserWarning: Beware of unexpected results: input string contains the non-expanded char \"ཛྷ\", found in \"\".\n",
      "  warn(\n",
      "/home/eeisenst/miniconda3/envs/cai-base/lib/python3.10/site-packages/botok/textunits/bostring.py:82: UserWarning: Beware of unexpected results: input string contains the non-expanded char \"ྲྀ\", found in \"\".\n",
      "  warn(\n",
      "/home/eeisenst/miniconda3/envs/cai-base/lib/python3.10/site-packages/botok/textunits/bostring.py:82: UserWarning: Beware of unexpected results: input string contains the non-expanded char \"བྷ\", found in \"\".\n",
      "  warn(\n",
      "/home/eeisenst/miniconda3/envs/cai-base/lib/python3.10/site-packages/botok/textunits/bostring.py:82: UserWarning: Beware of unexpected results: input string contains the non-expanded char \"ྲྀ\", found in \"ྲྀ་\".\n",
      "  warn(\n",
      "/home/eeisenst/miniconda3/envs/cai-base/lib/python3.10/site-packages/botok/textunits/bostring.py:82: UserWarning: Beware of unexpected results: input string contains the non-expanded char \"བྷ\", found in \"བྷྲ་མ་ར\".\n",
      "  warn(\n",
      "/home/eeisenst/miniconda3/envs/cai-base/lib/python3.10/site-packages/botok/textunits/bostring.py:82: UserWarning: Beware of unexpected results: input string contains the non-expanded char \"ༀ\", found in \"ༀ་སུཾ་པྲི\".\n",
      "  warn(\n",
      "/home/eeisenst/miniconda3/envs/cai-base/lib/python3.10/site-packages/botok/textunits/bostring.py:82: UserWarning: Beware of unexpected results: input string contains the non-expanded char \"ཌྷ\", found in \"\".\n",
      "  warn(\n",
      "/home/eeisenst/miniconda3/envs/cai-base/lib/python3.10/site-packages/botok/textunits/bostring.py:82: UserWarning: Beware of unexpected results: input string contains the non-expanded char \"བྷ\", found in \"\".\n",
      "  warn(\n",
      "/home/eeisenst/miniconda3/envs/cai-base/lib/python3.10/site-packages/botok/textunits/bostring.py:82: UserWarning: Beware of unexpected results: input string contains the non-expanded char \"དྷ\", found in \"དྷྱུ་\".\n",
      "  warn(\n",
      "/home/eeisenst/miniconda3/envs/cai-base/lib/python3.10/site-packages/botok/textunits/bostring.py:82: UserWarning: Beware of unexpected results: input string contains the non-expanded char \"བྷ\", found in \"བྷྲཱུ\".\n",
      "  warn(\n",
      "/home/eeisenst/miniconda3/envs/cai-base/lib/python3.10/site-packages/botok/textunits/bostring.py:82: UserWarning: Beware of unexpected results: input string contains the non-expanded char \"ཹ\", found in \"\".\n",
      "  warn(\n",
      "/home/eeisenst/miniconda3/envs/cai-base/lib/python3.10/site-packages/botok/textunits/bostring.py:82: UserWarning: Beware of unexpected results: input string contains the non-expanded char \"དྷ\", found in \"\".\n",
      "  warn(\n",
      "/home/eeisenst/miniconda3/envs/cai-base/lib/python3.10/site-packages/botok/textunits/bostring.py:82: UserWarning: Beware of unexpected results: input string contains the non-expanded char \"ྡྷ\", found in \"ྡྷ་པ་ར\".\n",
      "  warn(\n",
      "/home/eeisenst/miniconda3/envs/cai-base/lib/python3.10/site-packages/botok/textunits/bostring.py:82: UserWarning: Beware of unexpected results: input string contains the non-expanded char \"དྷ\", found in \"དྷྲ\".\n",
      "  warn(\n",
      "/home/eeisenst/miniconda3/envs/cai-base/lib/python3.10/site-packages/botok/textunits/bostring.py:82: UserWarning: Beware of unexpected results: input string contains the non-expanded char \"དྷ\", found in \"དྷརྨཱ་\".\n",
      "  warn(\n",
      "/home/eeisenst/miniconda3/envs/cai-base/lib/python3.10/site-packages/botok/textunits/bostring.py:82: UserWarning: Beware of unexpected results: input string contains the non-expanded char \"ཀྵ\", found in \"\".\n",
      "  warn(\n",
      "/home/eeisenst/miniconda3/envs/cai-base/lib/python3.10/site-packages/botok/textunits/bostring.py:82: UserWarning: Beware of unexpected results: input string contains the non-expanded char \"ཀྵ\", found in \"ཀྵྼཱྀ་ཡིག་\".\n",
      "  warn(\n",
      "/home/eeisenst/miniconda3/envs/cai-base/lib/python3.10/site-packages/botok/textunits/bostring.py:82: UserWarning: Beware of unexpected results: input string contains the non-expanded char \"ླྀ\", found in \"\".\n",
      "  warn(\n",
      "/home/eeisenst/miniconda3/envs/cai-base/lib/python3.10/site-packages/botok/textunits/bostring.py:82: UserWarning: Beware of unexpected results: input string contains the non-expanded char \"གྷ\", found in \"གྷྼྀ\".\n",
      "  warn(\n",
      "/home/eeisenst/miniconda3/envs/cai-base/lib/python3.10/site-packages/botok/textunits/bostring.py:82: UserWarning: Beware of unexpected results: input string contains the non-expanded char \"གྷ\", found in \"\".\n",
      "  warn(\n",
      "/home/eeisenst/miniconda3/envs/cai-base/lib/python3.10/site-packages/botok/textunits/bostring.py:82: UserWarning: Beware of unexpected results: input string contains the non-expanded char \"ཛྷ\", found in \"ཛྷ་ཛྷི་ཛྷྼྀ་ཛ\".\n",
      "  warn(\n",
      "/home/eeisenst/miniconda3/envs/cai-base/lib/python3.10/site-packages/botok/textunits/bostring.py:82: UserWarning: Beware of unexpected results: input string contains the non-expanded char \"ཛྷ\", found in \"ཛྷི་ཛྷྼྀ་ཛ\".\n",
      "  warn(\n",
      "/home/eeisenst/miniconda3/envs/cai-base/lib/python3.10/site-packages/botok/textunits/bostring.py:82: UserWarning: Beware of unexpected results: input string contains the non-expanded char \"ཛྷ\", found in \"ཛྷྼྀ་ཛ\".\n",
      "  warn(\n",
      "/home/eeisenst/miniconda3/envs/cai-base/lib/python3.10/site-packages/botok/textunits/bostring.py:82: UserWarning: Beware of unexpected results: input string contains the non-expanded char \"ཌྷ\", found in \"\".\n",
      "  warn(\n",
      "/home/eeisenst/miniconda3/envs/cai-base/lib/python3.10/site-packages/botok/textunits/bostring.py:82: UserWarning: Beware of unexpected results: input string contains the non-expanded char \"བྷ\", found in \"བྷྼྀ\".\n",
      "  warn(\n",
      "/home/eeisenst/miniconda3/envs/cai-base/lib/python3.10/site-packages/botok/textunits/bostring.py:82: UserWarning: Beware of unexpected results: input string contains the non-expanded char \"བྷ\", found in \"\".\n",
      "  warn(\n",
      "/home/eeisenst/miniconda3/envs/cai-base/lib/python3.10/site-packages/botok/textunits/bostring.py:82: UserWarning: Beware of unexpected results: input string contains the non-expanded char \"དྷ\", found in \"དྷྼྀ\".\n",
      "  warn(\n",
      "/home/eeisenst/miniconda3/envs/cai-base/lib/python3.10/site-packages/botok/textunits/bostring.py:82: UserWarning: Beware of unexpected results: input string contains the non-expanded char \"ཌྷ\", found in \"\".\n",
      "  warn(\n",
      "/home/eeisenst/miniconda3/envs/cai-base/lib/python3.10/site-packages/botok/textunits/bostring.py:82: UserWarning: Beware of unexpected results: input string contains the non-expanded char \"གྷ\", found in \"གྷྲ\".\n",
      "  warn(\n",
      "/home/eeisenst/miniconda3/envs/cai-base/lib/python3.10/site-packages/botok/textunits/bostring.py:82: UserWarning: Beware of unexpected results: input string contains the non-expanded char \"ྜྷ\", found in \"ྜྷ\".\n",
      "  warn(\n",
      "/home/eeisenst/miniconda3/envs/cai-base/lib/python3.10/site-packages/botok/textunits/bostring.py:82: UserWarning: Beware of unexpected results: input string contains the non-expanded char \"ྜྷ\", found in \"\".\n",
      "  warn(\n",
      "/home/eeisenst/miniconda3/envs/cai-base/lib/python3.10/site-packages/botok/textunits/bostring.py:82: UserWarning: Beware of unexpected results: input string contains the non-expanded char \"ྡྷ\", found in \"\".\n",
      "  warn(\n",
      "/home/eeisenst/miniconda3/envs/cai-base/lib/python3.10/site-packages/botok/textunits/bostring.py:82: UserWarning: Beware of unexpected results: input string contains the non-expanded char \"ཀྵ\", found in \"ཀྵ\".\n",
      "  warn(\n",
      "/home/eeisenst/miniconda3/envs/cai-base/lib/python3.10/site-packages/botok/textunits/bostring.py:82: UserWarning: Beware of unexpected results: input string contains the non-expanded char \"ཀྵ\", found in \"\".\n",
      "  warn(\n",
      "/home/eeisenst/miniconda3/envs/cai-base/lib/python3.10/site-packages/botok/textunits/bostring.py:82: UserWarning: Beware of unexpected results: input string contains the non-expanded char \"གྷ\", found in \"གྷྣཾ\".\n",
      "  warn(\n",
      "/home/eeisenst/miniconda3/envs/cai-base/lib/python3.10/site-packages/botok/textunits/bostring.py:82: UserWarning: Beware of unexpected results: input string contains the non-expanded char \"གྷ\", found in \"གྷྲཱ་ཛི་\".\n",
      "  warn(\n",
      "/home/eeisenst/miniconda3/envs/cai-base/lib/python3.10/site-packages/botok/textunits/bostring.py:82: UserWarning: Beware of unexpected results: input string contains the non-expanded char \"དྷ\", found in \"དྷྱནྣ་ཏ་བ\".\n",
      "  warn(\n",
      "/home/eeisenst/miniconda3/envs/cai-base/lib/python3.10/site-packages/botok/textunits/bostring.py:82: UserWarning: Beware of unexpected results: input string contains the non-expanded char \"བྷ\", found in \"བྷཱུཾ་ཀྵཱུ་\".\n",
      "  warn(\n",
      "/home/eeisenst/miniconda3/envs/cai-base/lib/python3.10/site-packages/botok/textunits/bostring.py:82: UserWarning: Beware of unexpected results: input string contains the non-expanded char \"ྜྷ\", found in \"\".\n",
      "  warn(\n",
      "/home/eeisenst/miniconda3/envs/cai-base/lib/python3.10/site-packages/botok/textunits/bostring.py:82: UserWarning: Beware of unexpected results: input string contains the non-expanded char \"ཀྵ\", found in \"ཀྵོ་བྷ་\".\n",
      "  warn(\n",
      "/home/eeisenst/miniconda3/envs/cai-base/lib/python3.10/site-packages/botok/textunits/bostring.py:82: UserWarning: Beware of unexpected results: input string contains the non-expanded char \"ྦྷ\", found in \"\".\n",
      "  warn(\n",
      "/home/eeisenst/miniconda3/envs/cai-base/lib/python3.10/site-packages/botok/textunits/bostring.py:82: UserWarning: Beware of unexpected results: input string contains the non-expanded char \"དྷ\", found in \"དྷ\".\n",
      "  warn(\n",
      "/home/eeisenst/miniconda3/envs/cai-base/lib/python3.10/site-packages/botok/textunits/bostring.py:82: UserWarning: Beware of unexpected results: input string contains the non-expanded char \"དྷ\", found in \"\".\n",
      "  warn(\n",
      "/home/eeisenst/miniconda3/envs/cai-base/lib/python3.10/site-packages/botok/textunits/bostring.py:82: UserWarning: Beware of unexpected results: input string contains the non-expanded char \"ཱུ\", found in \"\".\n",
      "  warn(\n",
      "/home/eeisenst/miniconda3/envs/cai-base/lib/python3.10/site-packages/botok/textunits/bostring.py:82: UserWarning: Beware of unexpected results: input string contains the non-expanded char \"ྡྷ\", found in \"\".\n",
      "  warn(\n",
      "/home/eeisenst/miniconda3/envs/cai-base/lib/python3.10/site-packages/botok/textunits/bostring.py:82: UserWarning: Beware of unexpected results: input string contains the non-expanded char \"ྒྷ\", found in \"\".\n",
      "  warn(\n",
      "/home/eeisenst/miniconda3/envs/cai-base/lib/python3.10/site-packages/botok/textunits/bostring.py:82: UserWarning: Beware of unexpected results: input string contains the non-expanded char \"ཀྵ\", found in \"\".\n",
      "  warn(\n",
      "/home/eeisenst/miniconda3/envs/cai-base/lib/python3.10/site-packages/botok/textunits/bostring.py:82: UserWarning: Beware of unexpected results: input string contains the non-expanded char \"ཛྷ\", found in \"\".\n",
      "  warn(\n",
      "/home/eeisenst/miniconda3/envs/cai-base/lib/python3.10/site-packages/botok/textunits/bostring.py:82: UserWarning: Beware of unexpected results: input string contains the non-expanded char \"དྷ\", found in \"དྷཱ་ན་ས་\".\n",
      "  warn(\n",
      "/home/eeisenst/miniconda3/envs/cai-base/lib/python3.10/site-packages/botok/textunits/bostring.py:82: UserWarning: Beware of unexpected results: input string contains the non-expanded char \"དྷ\", found in \"དྷུ་ཀ\".\n",
      "  warn(\n",
      "/home/eeisenst/miniconda3/envs/cai-base/lib/python3.10/site-packages/botok/textunits/bostring.py:82: UserWarning: Beware of unexpected results: input string contains the non-expanded char \"ྲྀ\", found in \"\".\n",
      "  warn(\n",
      "/home/eeisenst/miniconda3/envs/cai-base/lib/python3.10/site-packages/botok/textunits/bostring.py:82: UserWarning: Beware of unexpected results: input string contains the non-expanded char \"ཱྀ\", found in \"\".\n",
      "  warn(\n",
      "/home/eeisenst/miniconda3/envs/cai-base/lib/python3.10/site-packages/botok/textunits/bostring.py:82: UserWarning: Beware of unexpected results: input string contains the non-expanded char \"ཀྵ\", found in \"ཀྵ་\".\n",
      "  warn(\n",
      "/home/eeisenst/miniconda3/envs/cai-base/lib/python3.10/site-packages/botok/textunits/bostring.py:82: UserWarning: Beware of unexpected results: input string contains the non-expanded char \"དྷ\", found in \"དྷ\".\n",
      "  warn(\n"
     ]
    }
   ],
   "source": [
    "with Pool(processes=20) as pool:\n",
    "    all_tokenized = pool.map(botok_tokenize, all_lines)"
   ]
  },
  {
   "cell_type": "code",
   "execution_count": 19,
   "id": "3f0db9d8-f0ab-4a71-ab2d-9bd77eeb0b8f",
   "metadata": {},
   "outputs": [
    {
     "data": {
      "text/plain": [
       "6564763"
      ]
     },
     "execution_count": 19,
     "metadata": {},
     "output_type": "execute_result"
    }
   ],
   "source": [
    "len(all_tokenized)"
   ]
  },
  {
   "cell_type": "code",
   "execution_count": 20,
   "id": "fef002b9-59b9-41f3-b948-5041397ac9c8",
   "metadata": {},
   "outputs": [
    {
     "data": {
      "text/plain": [
       "'ཀུན་ ནས་ ཉོན་ མོངས་ པ་ དང་ །'"
      ]
     },
     "execution_count": 20,
     "metadata": {},
     "output_type": "execute_result"
    }
   ],
   "source": [
    "random.choice(all_tokenized)"
   ]
  },
  {
   "cell_type": "code",
   "execution_count": 21,
   "id": "45ddb7b2-9564-4e44-be2e-4159b022592d",
   "metadata": {},
   "outputs": [
    {
     "data": {
      "application/vnd.jupyter.widget-view+json": {
       "model_id": "6b79d52dbb324b0fbe83aa2f7e7dc814",
       "version_major": 2,
       "version_minor": 0
      },
      "text/plain": [
       "  0%|          | 0/6564763 [00:00<?, ?it/s]"
      ]
     },
     "metadata": {},
     "output_type": "display_data"
    },
    {
     "data": {
      "text/plain": [
       "89292696"
      ]
     },
     "execution_count": 21,
     "metadata": {},
     "output_type": "execute_result"
    }
   ],
   "source": [
    "all_tokens = [t for l in tqdm(all_tokenized) for t in l.split(' ')]\n",
    "len(all_tokens)"
   ]
  },
  {
   "cell_type": "code",
   "execution_count": 10,
   "id": "3a421857-ec35-4a2c-a249-09c7457c2604",
   "metadata": {},
   "outputs": [],
   "source": [
    "# all_tokens = list(filter(lambda t: len(t) > 0, map(lambda t: t.replace('་', '').replace('།', ''), all_tokens)))\n",
    "# len(all_tokens)"
   ]
  },
  {
   "cell_type": "code",
   "execution_count": 22,
   "id": "b99e2583-0d8c-4df6-822d-241d484e81cd",
   "metadata": {},
   "outputs": [
    {
     "data": {
      "text/plain": [
       "།            9791151\n",
       "པ་           4229651\n",
       "དང་          2195374\n",
       "བ་           1893096\n",
       "པར་          1779441\n",
       "              ...   \n",
       "མཚུས               1\n",
       "ིཁཎྜ་              1\n",
       "སྐོམསྣུམ་          1\n",
       "འཆིས               1\n",
       "ཀཀྵཱར་             1\n",
       "Length: 81757, dtype: int64"
      ]
     },
     "execution_count": 22,
     "metadata": {},
     "output_type": "execute_result"
    }
   ],
   "source": [
    "token_counts = pd.Series(all_tokens).value_counts()\n",
    "token_counts"
   ]
  },
  {
   "cell_type": "code",
   "execution_count": 23,
   "id": "9de01096-fa39-430f-a1b7-62649067c3b3",
   "metadata": {},
   "outputs": [
    {
     "data": {
      "text/plain": [
       "།          9791151\n",
       "པ་         4229651\n",
       "དང་        2195374\n",
       "བ་         1893096\n",
       "པར་        1779441\n",
       "            ...   \n",
       "རྙིངས་         402\n",
       "ལེའུའི་        401\n",
       "ནྱཱ་           401\n",
       "ལཱུ་           401\n",
       "བརྙེས          401\n",
       "Length: 3073, dtype: int64"
      ]
     },
     "execution_count": 23,
     "metadata": {},
     "output_type": "execute_result"
    }
   ],
   "source": [
    "token_counts[token_counts > 400]"
   ]
  }
 ],
 "metadata": {
  "kernelspec": {
   "display_name": "Python 3 (ipykernel)",
   "language": "python",
   "name": "python3"
  },
  "language_info": {
   "codemirror_mode": {
    "name": "ipython",
    "version": 3
   },
   "file_extension": ".py",
   "mimetype": "text/x-python",
   "name": "python",
   "nbconvert_exporter": "python",
   "pygments_lexer": "ipython3",
   "version": "3.10.0"
  }
 },
 "nbformat": 4,
 "nbformat_minor": 5
}
